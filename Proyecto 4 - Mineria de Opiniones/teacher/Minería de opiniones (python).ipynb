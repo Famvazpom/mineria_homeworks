{
 "cells": [
  {
   "cell_type": "markdown",
   "metadata": {},
   "source": [
    "# Introducción\n",
    "\n",
    "El objetivo de la minería de opiniones es el de asociar, de forma automática, un *sentimiento* con algún comentario escrito. La minería de opiniones es una de las estrategias más utilizadas en la actualidad para extraer información de diversas fuentes dado el auge que tiene la comunicación escrita a través de la web: correos electrónicos, comentarios en sitios web o redes sociales, blogs, discusiones en foros, etc. \n",
    "\n",
    "La siguiente gráfica muestra los resultados de una encuesta aplicada a diferentes asistentes (representantes de la industria y de la academia) a la conferencia del Journal of Data Analysis Techniques (2014), en la cual se solicitó a los participantes identificar las fuentes de datos textuales que utilizan con mayor frecuencia:\n",
    "\n",
    "<img src=\"fuentes.png\" width=400/>\n",
    "\n",
    "La imagen corresponde al libro de *Essentials of Business Analytics* de Pochiraju.\n",
    "\n",
    "Podemos plantear de forma progresiva el objetivo de la minería de opiniones, limitando los sentimientos que se pueden asociar a un comentario, reduciéndolos por ejemplo a tres categorías:\n",
    "\n",
    "$$\\{\\text{negativo}, \\text{neutro}, \\text{positivo}\\}$$\n",
    "\n",
    "Con estas etiquetas, buscamos idenificar la **polaridad** de un comentario. Aún así, lograr el objetivo de la minería de opiniones puede ser un gran desafío. Considera el siguiente comentario: \n",
    "\n",
    "        \"Compré un IPhone hace algunos días. Resultó ser un excelente teléfono. La pantalla táctil es fantástica. El sonido es muy claro. Sin embargo, mi madre se molestó porque lo compré sin pedirle permiso. Ella piensa que el teléfono es muy caro y me ha pedido que lo regrese a la tienda.\"\n",
    "        \n",
    "**¿Qué polaridad le asignarías?**\n",
    "\n",
    "## Planteamiento del problema\n",
    "\n",
    "Para ganar claridad, podemos plantear el problema de manera formal. Dado un fragmento de texto (comentario) buscamos identificar los siguientes elementos:\n",
    "\n",
    "$$(e, a, oo, s, t)$$\n",
    "\n",
    "* $e$: es la entidad de la cual se opina (por ejemplo del IPhone).\n",
    "* $a$: atributo de la entidad (pantalla táctil o sonido).\n",
    "* $oo$: orientación de la opinión (positiva, negativa o neutra).\n",
    "* $s$: sujeto que emite la opinión (el comprador del teléfono o su mamá).\n",
    "* $t$: momento en el que se emite la opinión.\n",
    "\n",
    "\n",
    "En este curso exploraremos dos estrategias para abordar el problema de la minería de opiniones. La primera de ellas plantea el problema como uno de **aprendizaje automático** y la segunda se basa en el uso de **lexicones**.\n"
   ]
  },
  {
   "cell_type": "markdown",
   "metadata": {},
   "source": [
    "# Minería de opiniones con aprendizaje supervisado\n",
    "\n",
    "Para poder aplicar esta estrategia es necesario disponer de un conjunto de comentarios para los cuales se ha identificado la polaridad. En las aplicaciones reales, puede ser necesario realizar la identificación de la polaridad manualmente, lo cual representa una desventaja importante debido a que para obtener resultados confiables puede ser necesario construir un **conjunto de entrenamiento** con decenas de miles de observaciones.  \n",
    "\n",
    "Esta estrategia se basa en la representación de cada comentario como un vector de características, específicamente a través de la construcción de la **matriz TF (frecuencia de de término) o de la TF-IDF** (frecuencia de término y frecuencia inversa de documento). Una vez que se ha construido esta matriz, puede construirse un modelo utilizando alguna técnica de clasificación; **naive Bayes** y las **máquinas de soporte vectorial** son dos de las más utilizadas.\n",
    "\n",
    "En las siguientes celdas se muestra un ejemplo de la aplicación de las máquinas de soporte vectorial sobe un conjunto de comentarios.\n",
    "\n"
   ]
  },
  {
   "cell_type": "code",
   "execution_count": 2,
   "metadata": {},
   "outputs": [],
   "source": [
    "from sklearn.feature_extraction.text import TfidfVectorizer\n",
    "import pandas as pd"
   ]
  },
  {
   "cell_type": "code",
   "execution_count": 3,
   "metadata": {},
   "outputs": [
    {
     "data": {
      "text/html": [
       "<div>\n",
       "<style scoped>\n",
       "    .dataframe tbody tr th:only-of-type {\n",
       "        vertical-align: middle;\n",
       "    }\n",
       "\n",
       "    .dataframe tbody tr th {\n",
       "        vertical-align: top;\n",
       "    }\n",
       "\n",
       "    .dataframe thead th {\n",
       "        text-align: right;\n",
       "    }\n",
       "</style>\n",
       "<table border=\"1\" class=\"dataframe\">\n",
       "  <thead>\n",
       "    <tr style=\"text-align: right;\">\n",
       "      <th></th>\n",
       "      <th>name</th>\n",
       "      <th>review</th>\n",
       "      <th>rating</th>\n",
       "    </tr>\n",
       "  </thead>\n",
       "  <tbody>\n",
       "    <tr>\n",
       "      <th>0</th>\n",
       "      <td>Planetwise Flannel Wipes</td>\n",
       "      <td>These flannel wipes are OK, but in my opinion ...</td>\n",
       "      <td>3</td>\n",
       "    </tr>\n",
       "    <tr>\n",
       "      <th>1</th>\n",
       "      <td>Planetwise Wipe Pouch</td>\n",
       "      <td>it came early and was not disappointed. i love...</td>\n",
       "      <td>5</td>\n",
       "    </tr>\n",
       "    <tr>\n",
       "      <th>2</th>\n",
       "      <td>Annas Dream Full Quilt with 2 Shams</td>\n",
       "      <td>Very soft and comfortable and warmer than it l...</td>\n",
       "      <td>5</td>\n",
       "    </tr>\n",
       "    <tr>\n",
       "      <th>3</th>\n",
       "      <td>Stop Pacifier Sucking without tears with Thumb...</td>\n",
       "      <td>This is a product well worth the purchase.  I ...</td>\n",
       "      <td>5</td>\n",
       "    </tr>\n",
       "    <tr>\n",
       "      <th>4</th>\n",
       "      <td>Stop Pacifier Sucking without tears with Thumb...</td>\n",
       "      <td>All of my kids have cried non-stop when I trie...</td>\n",
       "      <td>5</td>\n",
       "    </tr>\n",
       "  </tbody>\n",
       "</table>\n",
       "</div>"
      ],
      "text/plain": [
       "                                                name  \\\n",
       "0                           Planetwise Flannel Wipes   \n",
       "1                              Planetwise Wipe Pouch   \n",
       "2                Annas Dream Full Quilt with 2 Shams   \n",
       "3  Stop Pacifier Sucking without tears with Thumb...   \n",
       "4  Stop Pacifier Sucking without tears with Thumb...   \n",
       "\n",
       "                                              review  rating  \n",
       "0  These flannel wipes are OK, but in my opinion ...       3  \n",
       "1  it came early and was not disappointed. i love...       5  \n",
       "2  Very soft and comfortable and warmer than it l...       5  \n",
       "3  This is a product well worth the purchase.  I ...       5  \n",
       "4  All of my kids have cried non-stop when I trie...       5  "
      ]
     },
     "execution_count": 3,
     "metadata": {},
     "output_type": "execute_result"
    }
   ],
   "source": [
    "comments = pd.read_csv(\"amazon_baby.csv\")\n",
    "comments.head()"
   ]
  },
  {
   "cell_type": "markdown",
   "metadata": {},
   "source": [
    "Considerando la calificación que el usuario otorgó en cada comentario (rating) podemos identificar la polaridad de cada comentario, de manera que etiquetamos como *positivos* a los que tienen una calificación mayor a 3 y *negativos* los que tienen una calificación menor a 3. Los calificados con 3 pueden considerarse *neutrales*, pero para este ejemplo se ignorarán. "
   ]
  },
  {
   "cell_type": "code",
   "execution_count": 4,
   "metadata": {},
   "outputs": [
    {
     "data": {
      "text/html": [
       "<div>\n",
       "<style scoped>\n",
       "    .dataframe tbody tr th:only-of-type {\n",
       "        vertical-align: middle;\n",
       "    }\n",
       "\n",
       "    .dataframe tbody tr th {\n",
       "        vertical-align: top;\n",
       "    }\n",
       "\n",
       "    .dataframe thead th {\n",
       "        text-align: right;\n",
       "    }\n",
       "</style>\n",
       "<table border=\"1\" class=\"dataframe\">\n",
       "  <thead>\n",
       "    <tr style=\"text-align: right;\">\n",
       "      <th></th>\n",
       "      <th>rating</th>\n",
       "    </tr>\n",
       "  </thead>\n",
       "  <tbody>\n",
       "    <tr>\n",
       "      <th>count</th>\n",
       "      <td>183531.000000</td>\n",
       "    </tr>\n",
       "    <tr>\n",
       "      <th>mean</th>\n",
       "      <td>4.120448</td>\n",
       "    </tr>\n",
       "    <tr>\n",
       "      <th>std</th>\n",
       "      <td>1.285017</td>\n",
       "    </tr>\n",
       "    <tr>\n",
       "      <th>min</th>\n",
       "      <td>1.000000</td>\n",
       "    </tr>\n",
       "    <tr>\n",
       "      <th>25%</th>\n",
       "      <td>4.000000</td>\n",
       "    </tr>\n",
       "    <tr>\n",
       "      <th>50%</th>\n",
       "      <td>5.000000</td>\n",
       "    </tr>\n",
       "    <tr>\n",
       "      <th>75%</th>\n",
       "      <td>5.000000</td>\n",
       "    </tr>\n",
       "    <tr>\n",
       "      <th>max</th>\n",
       "      <td>5.000000</td>\n",
       "    </tr>\n",
       "  </tbody>\n",
       "</table>\n",
       "</div>"
      ],
      "text/plain": [
       "              rating\n",
       "count  183531.000000\n",
       "mean        4.120448\n",
       "std         1.285017\n",
       "min         1.000000\n",
       "25%         4.000000\n",
       "50%         5.000000\n",
       "75%         5.000000\n",
       "max         5.000000"
      ]
     },
     "execution_count": 4,
     "metadata": {},
     "output_type": "execute_result"
    }
   ],
   "source": [
    "comments.describe()"
   ]
  },
  {
   "cell_type": "code",
   "execution_count": 37,
   "metadata": {},
   "outputs": [
    {
     "name": "stderr",
     "output_type": "stream",
     "text": [
      "<ipython-input-37-7b6ebfc0a16c>:2: SettingWithCopyWarning: \n",
      "A value is trying to be set on a copy of a slice from a DataFrame.\n",
      "Try using .loc[row_indexer,col_indexer] = value instead\n",
      "\n",
      "See the caveats in the documentation: https://pandas.pydata.org/pandas-docs/stable/user_guide/indexing.html#returning-a-view-versus-a-copy\n",
      "  df[\"polaridad\"] = df['rating'].apply(lambda x: 1 if x > 3 else -1)\n"
     ]
    },
    {
     "data": {
      "text/html": [
       "<div>\n",
       "<style scoped>\n",
       "    .dataframe tbody tr th:only-of-type {\n",
       "        vertical-align: middle;\n",
       "    }\n",
       "\n",
       "    .dataframe tbody tr th {\n",
       "        vertical-align: top;\n",
       "    }\n",
       "\n",
       "    .dataframe thead th {\n",
       "        text-align: right;\n",
       "    }\n",
       "</style>\n",
       "<table border=\"1\" class=\"dataframe\">\n",
       "  <thead>\n",
       "    <tr style=\"text-align: right;\">\n",
       "      <th></th>\n",
       "      <th>name</th>\n",
       "      <th>review</th>\n",
       "      <th>rating</th>\n",
       "      <th>polaridad</th>\n",
       "    </tr>\n",
       "  </thead>\n",
       "  <tbody>\n",
       "    <tr>\n",
       "      <th>33396</th>\n",
       "      <td>Lamaze Garden Bug Wrist Rattle &amp;amp; Foot Find...</td>\n",
       "      <td>My 4 month old grandson loves these little cri...</td>\n",
       "      <td>5</td>\n",
       "      <td>1</td>\n",
       "    </tr>\n",
       "    <tr>\n",
       "      <th>70457</th>\n",
       "      <td>Kids Line Jungle 123 Hamper, Brown</td>\n",
       "      <td>You basically are paying for the design and th...</td>\n",
       "      <td>5</td>\n",
       "      <td>1</td>\n",
       "    </tr>\n",
       "    <tr>\n",
       "      <th>157813</th>\n",
       "      <td>Britax Marathon 70-G3 Convertible Car Seat, Onyx</td>\n",
       "      <td>I have had 4 of these and they are the best.  ...</td>\n",
       "      <td>5</td>\n",
       "      <td>1</td>\n",
       "    </tr>\n",
       "    <tr>\n",
       "      <th>104127</th>\n",
       "      <td>Nursery 101 Concord Dressing Table, Classic White</td>\n",
       "      <td>Mother bought as a baby shower gift for her gr...</td>\n",
       "      <td>5</td>\n",
       "      <td>1</td>\n",
       "    </tr>\n",
       "    <tr>\n",
       "      <th>105411</th>\n",
       "      <td>Baby Deedee Sleep Nest Baby Sleeping Bag, Drea...</td>\n",
       "      <td>My son would not sleep more than 3-4 hours unt...</td>\n",
       "      <td>5</td>\n",
       "      <td>1</td>\n",
       "    </tr>\n",
       "  </tbody>\n",
       "</table>\n",
       "</div>"
      ],
      "text/plain": [
       "                                                     name  \\\n",
       "33396   Lamaze Garden Bug Wrist Rattle &amp; Foot Find...   \n",
       "70457                  Kids Line Jungle 123 Hamper, Brown   \n",
       "157813   Britax Marathon 70-G3 Convertible Car Seat, Onyx   \n",
       "104127  Nursery 101 Concord Dressing Table, Classic White   \n",
       "105411  Baby Deedee Sleep Nest Baby Sleeping Bag, Drea...   \n",
       "\n",
       "                                                   review  rating  polaridad  \n",
       "33396   My 4 month old grandson loves these little cri...       5          1  \n",
       "70457   You basically are paying for the design and th...       5          1  \n",
       "157813  I have had 4 of these and they are the best.  ...       5          1  \n",
       "104127  Mother bought as a baby shower gift for her gr...       5          1  \n",
       "105411  My son would not sleep more than 3-4 hours unt...       5          1  "
      ]
     },
     "execution_count": 37,
     "metadata": {},
     "output_type": "execute_result"
    }
   ],
   "source": [
    "df = comments.loc[comments[\"rating\"] != 3]\n",
    "df[\"polaridad\"] = df['rating'].apply(lambda x: 1 if x > 3 else -1)\n",
    "df = df.dropna()\n",
    "df = df.sample(n = 10000)\n",
    "df.head()"
   ]
  },
  {
   "cell_type": "markdown",
   "metadata": {},
   "source": [
    "Vectorizamos los comentarios y separamos conjuntos de entrenamiento y de prueba:"
   ]
  },
  {
   "cell_type": "code",
   "execution_count": 38,
   "metadata": {},
   "outputs": [],
   "source": [
    "corpus = df[\"review\"]\n",
    "vectorizer = TfidfVectorizer(stop_words=\"english\", max_features=100)\n",
    "X = vectorizer.fit_transform(corpus)\n",
    "y = df[\"polaridad\"]"
   ]
  },
  {
   "cell_type": "code",
   "execution_count": 39,
   "metadata": {},
   "outputs": [
    {
     "data": {
      "text/plain": [
       "(10000, 100)"
      ]
     },
     "execution_count": 39,
     "metadata": {},
     "output_type": "execute_result"
    }
   ],
   "source": [
    "X.shape"
   ]
  },
  {
   "cell_type": "code",
   "execution_count": 40,
   "metadata": {},
   "outputs": [],
   "source": [
    "# 70% de las observaciones se usan para construir el modelo\n",
    "from sklearn.model_selection import train_test_split\n",
    "\n",
    "X_train, X_test, y_train, y_test = train_test_split(X, y, test_size=0.3)"
   ]
  },
  {
   "cell_type": "code",
   "execution_count": 41,
   "metadata": {},
   "outputs": [
    {
     "name": "stdout",
     "output_type": "stream",
     "text": [
      "Best estimator found by grid search:\n",
      "SVC(C=1000.0, class_weight='balanced', gamma=0.01)\n"
     ]
    }
   ],
   "source": [
    "from sklearn.model_selection import GridSearchCV\n",
    "from sklearn.svm import SVC\n",
    "\n",
    "param_grid = {'C': [1, 10, 1e2, 1e3], 'gamma': [0.01, 0.001, 0.0001]}\n",
    "\n",
    "clf = GridSearchCV(\n",
    "    SVC(kernel='rbf', class_weight='balanced'), param_grid\n",
    ")\n",
    "clf = clf.fit(X_train, y_train)\n",
    "print(\"Best estimator found by grid search:\")\n",
    "print(clf.best_estimator_)"
   ]
  },
  {
   "cell_type": "code",
   "execution_count": 42,
   "metadata": {},
   "outputs": [
    {
     "data": {
      "text/plain": [
       "0.7316666666666667"
      ]
     },
     "execution_count": 42,
     "metadata": {},
     "output_type": "execute_result"
    }
   ],
   "source": [
    "y_predicted = clf.predict(X_test)\n",
    "\n",
    "#exactitud\n",
    "sum(y_predicted == y_test)/y_test.shape[0]"
   ]
  },
  {
   "cell_type": "code",
   "execution_count": 43,
   "metadata": {},
   "outputs": [
    {
     "name": "stdout",
     "output_type": "stream",
     "text": [
      "Reporte del clasificador:\n",
      "              precision    recall  f1-score   support\n",
      "\n",
      "          -1       0.34      0.77      0.47       474\n",
      "           1       0.94      0.73      0.82      2526\n",
      "\n",
      "    accuracy                           0.73      3000\n",
      "   macro avg       0.64      0.75      0.65      3000\n",
      "weighted avg       0.85      0.73      0.77      3000\n",
      "\n",
      "\n"
     ]
    }
   ],
   "source": [
    "#otras métricas\n",
    "from sklearn import metrics\n",
    "\n",
    "print(f\"Reporte del clasificador:\\n\"\n",
    "      f\"{metrics.classification_report(y_test, y_predicted)}\\n\")"
   ]
  },
  {
   "cell_type": "markdown",
   "metadata": {},
   "source": [
    "## Naive Bayes\n",
    "\n",
    "Otra técnica que se aplica con mucho éxito en la minería de opiniones (y en la clasificación de documentos en general) es la de Naive Bayes. \n",
    "\n",
    "Suponemos que observamos un vector de características, $X$, (vector de frecuencia de términos por ejemplo), nos interesamos en evaluar la probabilidad condicionada $$P(Y \\;|\\; X)$$ para cada una de las clases, en nuestro ejemplo, deberíamos evaluar $P(Y =1\\;|\\; X)$ y $P(Y = -1 \\;|\\; X)$. \n",
    "\n",
    "Una vez que evaluamos las probabilidades, para clasificar a un comentario, solamente debemos comparar $P(Y =1\\;|\\; X)$ y $P(Y = -1 \\;|\\; X)$.\n",
    "\n",
    "La evaluación se realiza a través de la regla de Bayes:\n",
    "\n",
    "$$P(Y \\; | \\; X) = \\frac{P(X \\; | \\; Y)P(Y)}{P(X)}$$\n",
    "\n",
    "Más aún, en la técnica de Naive Bayes, suponemos que las características son independientes una vez que se conoce la clase, esto es, podemos evaluar la **verosimilitud** son la siguiente expresión \n",
    "\n",
    "$$P(X \\;|\\; Y) = P(x_1, x_2, \\ldots, x_d \\;|\\;Y) = \\prod_{i=1}^d P(x_i\\;| \\; Y)$$\n",
    "\n",
    "Evaluar estas probabilidades es muy sencillo, solamente debemos contar cuántas veces aparece el término $x_i$ en los comentarios asociados a cada clase.\n",
    "\n",
    "### Ejemplo\n",
    "\n",
    "Por ejemplo, supongamos que utilizamos los siguientes comentarios acerca de un artículo para la aplicación del método de Naive Bayes:\n",
    "\n",
    "1. \"La calidad es excelente\" ($Y=1$)\n",
    "2. \"El artículo es muy bueno en general, pero el diseño sobresale, es excelente\" ($Y=1$)\n",
    "3. \"No es malo, es pésimo\" ($Y=-1$)\n",
    "4. \"No me satisface\" ($Y=-1$)\n",
    "5. \"El artículo es muy malo\" ($Y=-1$)\n",
    "\n",
    "\n",
    "Tenemos las siguientes probabilidades:\n",
    "\n",
    "1. $P(Y=1) = \\frac{2}{5}$\n",
    "2. $P(Y=-1) = \\frac{3}{5}$\n",
    "\n",
    "Supongamos que los términos que componen el vocabulario son: $$\\{\\text{excelente}, \\text{bueno}, \\text{pésimo}, \\text{satisface}, \\text{malo}\\}$$\n",
    "\n",
    "Entonces:\n",
    "\n",
    "1. $P(\\text{bueno} \\;|\\; Y = 1) = \\frac{1}{2}$\n",
    "2. $P(\\text{excelente} \\;|\\; Y = 1) = 1$\n",
    "3. $P(\\text{pésimo} \\;|\\; Y = -1) = \\frac{1}{3}$\n",
    "4. $P(\\text{malo} \\;|\\; Y = -1) = \\frac{2}{3}$\n",
    "\n",
    "Podemos evaluar las probabilidades $P(Y=1\\;|\\;X)$ y $P(Y=-1\\;|\\;X)$ para un nuevo comentario, como, \"Me parece excelente\":\n",
    "\n",
    "\\begin{align}\n",
    "    P(Y=1\\;&|\\;\\text{excelente}=1, \\text{bueno}=0, \\text{pésimo}=0, \\text{satisface}=0, \\text{malo}=0)\\\\ &= P(\\text{excelente}\\;|\\; Y=1)\\times P(\\sim \\text{bueno}\\;|\\; Y=1)\\times \\cdots\\\\ &\\times P(\\sim \\text{malo}\\;|\\; Y=1)\\times P(Y=1)/k\\\\\n",
    "    &=1\\times\\frac{1}{2}\\times 1 \\times 1 \\times 1 \\times \\frac{2}{5} /k\n",
    "\\end{align}\n",
    "\n",
    "\n",
    "\n",
    "## Suavizado de Laplace\n",
    "\n",
    "Cabe señalar que, de aplicarse el método de Naive Bayes tal como está definido, es muy probable que varias probabilidades tomen el valor de cero; por ejemplo, si el comentario fuera **El producto me satisface, es excelente**, entonces $P(Y = 1 \\;|\\; X) = 0$ dado que $P(\\text{satisface} \\;|\\; Y = 1) = 0$ (la palabra *satisface* no aparece en los comentarios con polaridad positiva):\n",
    "\n",
    "$$P(Y = 1 \\;|\\; X) = 1\\times \\frac{1}{2} \\times 1 \\times \\color{red}{0} \\times 1 \\times \\frac{2}{5}/k = 0$$\n",
    "\n",
    "Para evitar este problema, modificamos la evaluación de las probabilidades usando el criterio de suavizado de Laplace:\n",
    "\n",
    "$$P(X_i \\; | \\; Y=y_j) = \\frac{(\\text{# documentos en de la clase } y_j \\text{ en donde aparezca } X_i)+\\alpha}{N_{y_j}+\\alpha d}$$\n",
    "\n",
    "Observa que con esta condición, si $\\alpha=0.01$:\n",
    "\n",
    "$$P(\\text{satisface} \\; | \\; Y=1) = \\frac{0+\\alpha}{2+\\alpha\\times 5} = 0.0049$$\n",
    "\n",
    "De esta forma, se tendría:\n",
    "\n",
    "$$P(Y = 1 \\;|\\; X) = 1\\times \\frac{1}{2} \\times 1 \\times \\color{red}{0.0048} \\times 1 \\times \\frac{2}{5}/k$$\n",
    "\n",
    "Como ejercicio, evalúa $P(Y=-1 \\; | \\; X)$\n",
    "\n"
   ]
  },
  {
   "cell_type": "code",
   "execution_count": null,
   "metadata": {},
   "outputs": [],
   "source": []
  }
 ],
 "metadata": {
  "kernelspec": {
   "display_name": "Python 3",
   "language": "python",
   "name": "python3"
  },
  "language_info": {
   "codemirror_mode": {
    "name": "ipython",
    "version": 3
   },
   "file_extension": ".py",
   "mimetype": "text/x-python",
   "name": "python",
   "nbconvert_exporter": "python",
   "pygments_lexer": "ipython3",
   "version": "3.9.1"
  }
 },
 "nbformat": 4,
 "nbformat_minor": 4
}
