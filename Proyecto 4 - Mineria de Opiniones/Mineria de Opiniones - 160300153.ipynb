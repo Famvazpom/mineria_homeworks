{
 "cells": [
  {
   "cell_type": "code",
   "execution_count": 1,
   "id": "rapid-envelope",
   "metadata": {},
   "outputs": [],
   "source": [
    "import pandas as pd\n",
    "import nltk\n",
    "from nltk.corpus import stopwords\n",
    "from nltk.tokenize import word_tokenize\n",
    "from sklearn.feature_extraction.text import TfidfVectorizer\n",
    "from nltk.sentiment.vader import SentimentIntensityAnalyzer\n",
    "import warnings\n",
    "from nrclex import NRCLex\n",
    "warnings.filterwarnings('ignore')"
   ]
  },
  {
   "cell_type": "markdown",
   "id": "residential-egyptian",
   "metadata": {},
   "source": [
    "### Introducción\n",
    "El uso de lexicones en el analisis de datos en general, nos permite comenzar a clasificar y saber quer tipo de reaccion se nos esta dando en el feeback, comentarios, mensajes, etc.\n",
    "Esto puede ser usado para la toma de desiciones empresariales, de igual forma nos permite conocer si la comunidad apoya alguna accion recientemente realziada por algun grupo o bien si el producto/servicio tiene buena calidad, etc."
   ]
  },
  {
   "cell_type": "markdown",
   "id": "activated-oriental",
   "metadata": {},
   "source": [
    "## Lectura de datos\n",
    "Para este proyecto se utilizaran datos financieros disponibles de forma gratuita en el siguiente [enlace](https://www.kaggle.com/ankurzing/sentiment-analysis-for-financial-news).\n",
    "\n",
    "Estos vienen estructurados con dos columnas:\n",
    "* Sentimiento generado\n",
    "* Comentario"
   ]
  },
  {
   "cell_type": "code",
   "execution_count": 2,
   "id": "present-collar",
   "metadata": {},
   "outputs": [
    {
     "data": {
      "text/html": [
       "<div>\n",
       "<style scoped>\n",
       "    .dataframe tbody tr th:only-of-type {\n",
       "        vertical-align: middle;\n",
       "    }\n",
       "\n",
       "    .dataframe tbody tr th {\n",
       "        vertical-align: top;\n",
       "    }\n",
       "\n",
       "    .dataframe thead th {\n",
       "        text-align: right;\n",
       "    }\n",
       "</style>\n",
       "<table border=\"1\" class=\"dataframe\">\n",
       "  <thead>\n",
       "    <tr style=\"text-align: right;\">\n",
       "      <th></th>\n",
       "      <th>feel</th>\n",
       "      <th>review</th>\n",
       "    </tr>\n",
       "  </thead>\n",
       "  <tbody>\n",
       "    <tr>\n",
       "      <th>0</th>\n",
       "      <td>neutral</td>\n",
       "      <td>According to Gran , the company has no plans t...</td>\n",
       "    </tr>\n",
       "    <tr>\n",
       "      <th>1</th>\n",
       "      <td>neutral</td>\n",
       "      <td>Technopolis plans to develop in stages an area...</td>\n",
       "    </tr>\n",
       "    <tr>\n",
       "      <th>2</th>\n",
       "      <td>negative</td>\n",
       "      <td>The international electronic industry company ...</td>\n",
       "    </tr>\n",
       "    <tr>\n",
       "      <th>3</th>\n",
       "      <td>positive</td>\n",
       "      <td>With the new production plant the company woul...</td>\n",
       "    </tr>\n",
       "    <tr>\n",
       "      <th>4</th>\n",
       "      <td>positive</td>\n",
       "      <td>According to the company 's updated strategy f...</td>\n",
       "    </tr>\n",
       "  </tbody>\n",
       "</table>\n",
       "</div>"
      ],
      "text/plain": [
       "       feel                                             review\n",
       "0   neutral  According to Gran , the company has no plans t...\n",
       "1   neutral  Technopolis plans to develop in stages an area...\n",
       "2  negative  The international electronic industry company ...\n",
       "3  positive  With the new production plant the company woul...\n",
       "4  positive  According to the company 's updated strategy f..."
      ]
     },
     "execution_count": 2,
     "metadata": {},
     "output_type": "execute_result"
    }
   ],
   "source": [
    "data = pd.read_csv('./archive/all-data.csv',header=None)\n",
    "data = data.rename(columns={0:'feel',1:'review'})\n",
    "data.head()"
   ]
  },
  {
   "cell_type": "markdown",
   "id": "weird-passage",
   "metadata": {},
   "source": [
    "### Limpieza\n",
    "Como podemos ver, estos datos tienen palabras que no nos serian utiles por ejemplo:\n",
    "* Números\n",
    "* Signos de puntuación\n",
    "* Pronombres\n",
    "* StopWords (palabras como 'The', 'In','out', etc.)\n",
    "\n",
    "Por lo que necesitaremos hacer una limpieza de estos datos.\n",
    "\n",
    "Para ello utilizando la libreria NLTK descargaremos un conjunto de datos que contiene las stopwords de diferentes idiomas"
   ]
  },
  {
   "cell_type": "code",
   "execution_count": 3,
   "id": "hundred-jewelry",
   "metadata": {},
   "outputs": [
    {
     "name": "stderr",
     "output_type": "stream",
     "text": [
      "[nltk_data] Downloading package stopwords to\n",
      "[nltk_data]     /home/famvazpom/nltk_data...\n",
      "[nltk_data]   Package stopwords is already up-to-date!\n"
     ]
    },
    {
     "data": {
      "text/plain": [
       "['i', 'me', 'my', 'myself', 'we', 'our', 'ours', 'ourselves', 'you', \"you're\"]"
      ]
     },
     "execution_count": 3,
     "metadata": {},
     "output_type": "execute_result"
    }
   ],
   "source": [
    "# Descarga de conjunto\n",
    "nltk.download('stopwords')\n",
    "\n",
    "#Seleccion de lenguaje\n",
    "stop = stopwords.words('english')\n",
    "stop[:10]"
   ]
  },
  {
   "cell_type": "markdown",
   "id": "legal-happiness",
   "metadata": {},
   "source": [
    "#### Función utilizada para la limpieza"
   ]
  },
  {
   "cell_type": "markdown",
   "id": "inclusive-alignment",
   "metadata": {},
   "source": [
    "#### Continuando con la limpieza\n",
    "Primero que nada, copiaremos el conjunto de datos a un dataframe diferente.\n",
    "Posteriormente realizamos las siguientes acciones:\n",
    "* Eliminamos signos de puntuación\n",
    "* Eliminamos números\n",
    "* Realizamos una limpieza de multiples espacios consecutivos para tener solamente un espacio\n",
    "* Eliminamos las StopWords"
   ]
  },
  {
   "cell_type": "code",
   "execution_count": 4,
   "id": "vanilla-company",
   "metadata": {},
   "outputs": [
    {
     "data": {
      "text/plain": [
       "0       [according, gran, company, plans, move, produc...\n",
       "1       [technopolis, plans, develop, stages, area, le...\n",
       "2       [international, electronic, industry, company,...\n",
       "3       [new, production, plant, company, would, incre...\n",
       "4       [according, company, updated, strategy, years,...\n",
       "                              ...                        \n",
       "4841    [london, marketwatch, share, prices, ended, lo...\n",
       "4842    [rinkuskiai, beer, sales, fell, per, cent, mil...\n",
       "4843    [operating, profit, fell, eur, mn, eur, mn, in...\n",
       "4844    [net, sales, paper, segment, decreased, eur, m...\n",
       "4845    [sales, finland, decreased, january, sales, ou...\n",
       "Name: review, Length: 4846, dtype: object"
      ]
     },
     "execution_count": 4,
     "metadata": {},
     "output_type": "execute_result"
    }
   ],
   "source": [
    "data_cleaned = data.copy()\n",
    "data_cleaned['review'] = data_cleaned['review'].str.replace(\"[^\\w\\s]\",'').str.lower()\n",
    "data_cleaned['review'] = data_cleaned['review'].str.replace(\"[^\\D]\",'').str.lower()\n",
    "data_cleaned['review'] = data_cleaned['review'].str.replace(\" {2,}\",' ').str.lower()\n",
    "data_cleaned['review'] = data_cleaned['review'].apply(lambda x: [item for item in x.split() if item not in stop])\n",
    "data_cleaned['review']"
   ]
  },
  {
   "cell_type": "markdown",
   "id": "prescription-bones",
   "metadata": {},
   "source": [
    "#### Lexicones\n",
    "Despues de la limpieza podemos comenzar con la polarización de datos en los 'reviews'.\n",
    "\n",
    "Para ello utilizaremos 2 lexicones diferentes que nos permitiran conocer la polaridad de esto, los lexicones utilizados son:\n",
    "\n",
    "* Vader\n",
    "* Punkt\n",
    "\n",
    "Por lo que descargaremos mediante NLTK"
   ]
  },
  {
   "cell_type": "code",
   "execution_count": 5,
   "id": "senior-telescope",
   "metadata": {},
   "outputs": [
    {
     "name": "stderr",
     "output_type": "stream",
     "text": [
      "[nltk_data] Downloading package vader_lexicon to\n",
      "[nltk_data]     /home/famvazpom/nltk_data...\n",
      "[nltk_data]   Package vader_lexicon is already up-to-date!\n",
      "[nltk_data] Downloading package punkt to /home/famvazpom/nltk_data...\n",
      "[nltk_data]   Package punkt is already up-to-date!\n"
     ]
    },
    {
     "data": {
      "text/plain": [
       "True"
      ]
     },
     "execution_count": 5,
     "metadata": {},
     "output_type": "execute_result"
    }
   ],
   "source": [
    "nltk.download('vader_lexicon')\n",
    "nltk.download('punkt')"
   ]
  },
  {
   "cell_type": "markdown",
   "id": "balanced-myrtle",
   "metadata": {},
   "source": [
    "### Función utilizada para el procesamiento\n",
    "Esta función obtiene todas las palabras de cada uno de los reviews y dependiendo la puntuación obtenida, realiza la sumatoria de estos en 3 diferentes categorias:\n",
    "* Positivo\n",
    "* Negativo\n",
    "* Neutral\n",
    "\n",
    "Y finalmente regresa el label de la categoria con mayor puntuación."
   ]
  },
  {
   "cell_type": "code",
   "execution_count": 6,
   "id": "quantitative-rough",
   "metadata": {},
   "outputs": [],
   "source": [
    "def get_polarity(data,lexicon):\n",
    "    pos = 0\n",
    "    neg = 0\n",
    "    neut = 0\n",
    "    for word in data:\n",
    "        value = lexicon.get(word,0)\n",
    "        if value <0:\n",
    "            neg += value\n",
    "        elif value >1:\n",
    "            pos += value\n",
    "        else:\n",
    "            neut += value \n",
    "    values = {abs(neg):'negative',pos:'positive',neut:'neutral'}\n",
    "\n",
    "    return values[max(values)]\n"
   ]
  },
  {
   "cell_type": "markdown",
   "id": "known-voltage",
   "metadata": {},
   "source": [
    "#### Utilizando la funcion anterior\n",
    "Los resultados de la función anterior nos los primeros 5 resultados similares."
   ]
  },
  {
   "cell_type": "code",
   "execution_count": 7,
   "id": "narrative-bidding",
   "metadata": {},
   "outputs": [
    {
     "data": {
      "text/html": [
       "<div>\n",
       "<style scoped>\n",
       "    .dataframe tbody tr th:only-of-type {\n",
       "        vertical-align: middle;\n",
       "    }\n",
       "\n",
       "    .dataframe tbody tr th {\n",
       "        vertical-align: top;\n",
       "    }\n",
       "\n",
       "    .dataframe thead th {\n",
       "        text-align: right;\n",
       "    }\n",
       "</style>\n",
       "<table border=\"1\" class=\"dataframe\">\n",
       "  <thead>\n",
       "    <tr style=\"text-align: right;\">\n",
       "      <th></th>\n",
       "      <th>feel_student</th>\n",
       "      <th>feel</th>\n",
       "    </tr>\n",
       "  </thead>\n",
       "  <tbody>\n",
       "    <tr>\n",
       "      <th>0</th>\n",
       "      <td>neutral</td>\n",
       "      <td>neutral</td>\n",
       "    </tr>\n",
       "    <tr>\n",
       "      <th>1</th>\n",
       "      <td>neutral</td>\n",
       "      <td>neutral</td>\n",
       "    </tr>\n",
       "    <tr>\n",
       "      <th>2</th>\n",
       "      <td>neutral</td>\n",
       "      <td>negative</td>\n",
       "    </tr>\n",
       "    <tr>\n",
       "      <th>3</th>\n",
       "      <td>positive</td>\n",
       "      <td>positive</td>\n",
       "    </tr>\n",
       "    <tr>\n",
       "      <th>4</th>\n",
       "      <td>positive</td>\n",
       "      <td>positive</td>\n",
       "    </tr>\n",
       "  </tbody>\n",
       "</table>\n",
       "</div>"
      ],
      "text/plain": [
       "  feel_student      feel\n",
       "0      neutral   neutral\n",
       "1      neutral   neutral\n",
       "2      neutral  negative\n",
       "3     positive  positive\n",
       "4     positive  positive"
      ]
     },
     "execution_count": 7,
     "metadata": {},
     "output_type": "execute_result"
    }
   ],
   "source": [
    "sent = SentimentIntensityAnalyzer()\n",
    "lexicon =  sent.make_lex_dict()\n",
    "data_cleaned['feel_student'] = data_cleaned['review'].apply(lambda review: get_polarity(review,lexicon))\n",
    "data_cleaned[['feel_student','feel']].head()"
   ]
  },
  {
   "cell_type": "markdown",
   "id": "failing-declaration",
   "metadata": {},
   "source": [
    "Sin embargo, el lexicon utilizado nos permite utilizar su propio clasificador por lo que obtendremos cual es la polaridad con mayor puntuacion utilizando el clasificador proporcionado por Vader, pero para esto, necesitamos convertir el review en un solo string para funcionar por lo que utilizaremos la siguiente función:"
   ]
  },
  {
   "cell_type": "code",
   "execution_count": 8,
   "id": "instrumental-latex",
   "metadata": {},
   "outputs": [],
   "source": [
    "def listToString(lst):\n",
    "    string = ' '\n",
    "    return string.join(lst)"
   ]
  },
  {
   "cell_type": "markdown",
   "id": "radical-response",
   "metadata": {},
   "source": [
    "Posteriormente, realizaremos el procesamiento para esto."
   ]
  },
  {
   "cell_type": "code",
   "execution_count": 9,
   "id": "hired-medium",
   "metadata": {},
   "outputs": [],
   "source": [
    "data_cleaned['review_str'] = data_cleaned['review'].apply(lambda x: listToString(x))"
   ]
  },
  {
   "cell_type": "markdown",
   "id": "other-possibility",
   "metadata": {},
   "source": [
    "### Funcion que obtiene el sentimiento con mayor puntuación."
   ]
  },
  {
   "cell_type": "code",
   "execution_count": 10,
   "id": "julian-lounge",
   "metadata": {},
   "outputs": [],
   "source": [
    "def get_max_polarity(review,sentiment):\n",
    "    scores = sentiment.polarity_scores(review)\n",
    "    val = {}\n",
    "    for key in scores.keys():\n",
    "        val[scores[key]] = key\n",
    "    return val[max(val)]"
   ]
  },
  {
   "cell_type": "markdown",
   "id": "variable-lesbian",
   "metadata": {},
   "source": [
    "Con los resultados siguientes obtenemos una nueva categoria que nos dice que es una mezcla de diferentes sentimientos."
   ]
  },
  {
   "cell_type": "code",
   "execution_count": 11,
   "id": "standard-milan",
   "metadata": {},
   "outputs": [
    {
     "data": {
      "text/html": [
       "<div>\n",
       "<style scoped>\n",
       "    .dataframe tbody tr th:only-of-type {\n",
       "        vertical-align: middle;\n",
       "    }\n",
       "\n",
       "    .dataframe tbody tr th {\n",
       "        vertical-align: top;\n",
       "    }\n",
       "\n",
       "    .dataframe thead th {\n",
       "        text-align: right;\n",
       "    }\n",
       "</style>\n",
       "<table border=\"1\" class=\"dataframe\">\n",
       "  <thead>\n",
       "    <tr style=\"text-align: right;\">\n",
       "      <th></th>\n",
       "      <th>feel</th>\n",
       "      <th>feel_student</th>\n",
       "      <th>Vader</th>\n",
       "    </tr>\n",
       "  </thead>\n",
       "  <tbody>\n",
       "    <tr>\n",
       "      <th>0</th>\n",
       "      <td>neutral</td>\n",
       "      <td>neutral</td>\n",
       "      <td>neu</td>\n",
       "    </tr>\n",
       "    <tr>\n",
       "      <th>1</th>\n",
       "      <td>neutral</td>\n",
       "      <td>neutral</td>\n",
       "      <td>neu</td>\n",
       "    </tr>\n",
       "    <tr>\n",
       "      <th>2</th>\n",
       "      <td>negative</td>\n",
       "      <td>neutral</td>\n",
       "      <td>neu</td>\n",
       "    </tr>\n",
       "    <tr>\n",
       "      <th>3</th>\n",
       "      <td>positive</td>\n",
       "      <td>positive</td>\n",
       "      <td>compound</td>\n",
       "    </tr>\n",
       "    <tr>\n",
       "      <th>4</th>\n",
       "      <td>positive</td>\n",
       "      <td>positive</td>\n",
       "      <td>neu</td>\n",
       "    </tr>\n",
       "  </tbody>\n",
       "</table>\n",
       "</div>"
      ],
      "text/plain": [
       "       feel feel_student     Vader\n",
       "0   neutral      neutral       neu\n",
       "1   neutral      neutral       neu\n",
       "2  negative      neutral       neu\n",
       "3  positive     positive  compound\n",
       "4  positive     positive       neu"
      ]
     },
     "execution_count": 11,
     "metadata": {},
     "output_type": "execute_result"
    }
   ],
   "source": [
    "data_cleaned['Vader'] = data_cleaned['review_str'].apply(lambda review: get_max_polarity(review,sent))\n",
    "data_cleaned['Vader'].head()\n",
    "data_cleaned[['feel','feel_student','Vader']].head()"
   ]
  },
  {
   "cell_type": "markdown",
   "id": "dress-memorabilia",
   "metadata": {},
   "source": [
    "### Utilizando el Lexicon NRCLex\n",
    "Este lexicon nos da diferentes sentimientos, por lo que obtendremos aquel que nos de una mayor puntuación."
   ]
  },
  {
   "cell_type": "code",
   "execution_count": 12,
   "id": "insured-discharge",
   "metadata": {},
   "outputs": [],
   "source": [
    "def get_top_emotions(data):\n",
    "    results = NRCLex(data).top_emotions\n",
    "    val = {}\n",
    "    for i in results:\n",
    "        val[i[1]] = i[0]\n",
    "    return val[max(val)]"
   ]
  },
  {
   "cell_type": "markdown",
   "id": "generic-tuner",
   "metadata": {},
   "source": [
    "Con los resultados del clasificador anterior, podemos ver que obtenemos diferentes valores, como tal en los primeros 5 records podemos observar 2 nuevos sentimientos tales como:\n",
    "* Anticipación\n",
    "* Tristesa"
   ]
  },
  {
   "cell_type": "code",
   "execution_count": 13,
   "id": "specialized-bulgaria",
   "metadata": {},
   "outputs": [
    {
     "data": {
      "text/html": [
       "<div>\n",
       "<style scoped>\n",
       "    .dataframe tbody tr th:only-of-type {\n",
       "        vertical-align: middle;\n",
       "    }\n",
       "\n",
       "    .dataframe tbody tr th {\n",
       "        vertical-align: top;\n",
       "    }\n",
       "\n",
       "    .dataframe thead th {\n",
       "        text-align: right;\n",
       "    }\n",
       "</style>\n",
       "<table border=\"1\" class=\"dataframe\">\n",
       "  <thead>\n",
       "    <tr style=\"text-align: right;\">\n",
       "      <th></th>\n",
       "      <th>feel</th>\n",
       "      <th>feel_student</th>\n",
       "      <th>Vader</th>\n",
       "      <th>NRCLex</th>\n",
       "    </tr>\n",
       "  </thead>\n",
       "  <tbody>\n",
       "    <tr>\n",
       "      <th>0</th>\n",
       "      <td>neutral</td>\n",
       "      <td>neutral</td>\n",
       "      <td>neu</td>\n",
       "      <td>anticipation</td>\n",
       "    </tr>\n",
       "    <tr>\n",
       "      <th>1</th>\n",
       "      <td>neutral</td>\n",
       "      <td>neutral</td>\n",
       "      <td>neu</td>\n",
       "      <td>positive</td>\n",
       "    </tr>\n",
       "    <tr>\n",
       "      <th>2</th>\n",
       "      <td>negative</td>\n",
       "      <td>neutral</td>\n",
       "      <td>neu</td>\n",
       "      <td>negative</td>\n",
       "    </tr>\n",
       "    <tr>\n",
       "      <th>3</th>\n",
       "      <td>positive</td>\n",
       "      <td>positive</td>\n",
       "      <td>compound</td>\n",
       "      <td>positive</td>\n",
       "    </tr>\n",
       "    <tr>\n",
       "      <th>4</th>\n",
       "      <td>positive</td>\n",
       "      <td>positive</td>\n",
       "      <td>neu</td>\n",
       "      <td>sadness</td>\n",
       "    </tr>\n",
       "  </tbody>\n",
       "</table>\n",
       "</div>"
      ],
      "text/plain": [
       "       feel feel_student     Vader        NRCLex\n",
       "0   neutral      neutral       neu  anticipation\n",
       "1   neutral      neutral       neu      positive\n",
       "2  negative      neutral       neu      negative\n",
       "3  positive     positive  compound      positive\n",
       "4  positive     positive       neu       sadness"
      ]
     },
     "execution_count": 13,
     "metadata": {},
     "output_type": "execute_result"
    }
   ],
   "source": [
    "data_cleaned['NRCLex'] = data_cleaned['review_str'].apply(lambda review: get_top_emotions(review))\n",
    "data_cleaned[['feel','feel_student','Vader','NRCLex']].head()"
   ]
  },
  {
   "cell_type": "markdown",
   "id": "tight-desire",
   "metadata": {},
   "source": [
    "# Vazquez Pompa Noe - 160300153"
   ]
  }
 ],
 "metadata": {
  "kernelspec": {
   "display_name": "Python 3",
   "language": "python",
   "name": "python3"
  },
  "language_info": {
   "codemirror_mode": {
    "name": "ipython",
    "version": 3
   },
   "file_extension": ".py",
   "mimetype": "text/x-python",
   "name": "python",
   "nbconvert_exporter": "python",
   "pygments_lexer": "ipython3",
   "version": "3.9.1"
  }
 },
 "nbformat": 4,
 "nbformat_minor": 5
}
