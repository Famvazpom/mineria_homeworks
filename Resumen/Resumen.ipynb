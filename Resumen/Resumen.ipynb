{
 "cells": [
  {
   "cell_type": "code",
   "execution_count": 136,
   "id": "surrounded-reason",
   "metadata": {},
   "outputs": [],
   "source": [
    "import csv\n",
    "import pandas as pd\n",
    "import numpy as np\n",
    "from sklearn.decomposition import PCA\n",
    "import matplotlib.pyplot as plt"
   ]
  },
  {
   "cell_type": "code",
   "execution_count": 71,
   "id": "infectious-therapy",
   "metadata": {},
   "outputs": [],
   "source": [
    "t = [\"mineria\",\"datos\",\"expectativa\",\"expandir\",\"conocimientos\",\"informacion\",]\n",
    "q = [\"expectativa\",\"aprender\",\"utilizar\",\"herramientas\",\"conocimientos\",\"datos\",\"informacion\"]"
   ]
  },
  {
   "cell_type": "code",
   "execution_count": 80,
   "id": "roman-earthquake",
   "metadata": {},
   "outputs": [],
   "source": [
    "p = {}\n",
    "r = {}\n",
    "\n",
    "for i in t:\n",
    "    p[i] = p.get(i,0)+1\n",
    "for i in q:\n",
    "    r[i] = r.get(i,0) + 1\n",
    "    \n",
    "for i in p.keys():\n",
    "    if not i in r.keys():\n",
    "        r[i] = 0\n",
    "\n",
    "for i in r.keys():\n",
    "    if not i in p.keys():\n",
    "        p[i] = 0\n"
   ]
  },
  {
   "cell_type": "code",
   "execution_count": 81,
   "id": "passing-resort",
   "metadata": {},
   "outputs": [
    {
     "data": {
      "text/html": [
       "<div>\n",
       "<style scoped>\n",
       "    .dataframe tbody tr th:only-of-type {\n",
       "        vertical-align: middle;\n",
       "    }\n",
       "\n",
       "    .dataframe tbody tr th {\n",
       "        vertical-align: top;\n",
       "    }\n",
       "\n",
       "    .dataframe thead th {\n",
       "        text-align: right;\n",
       "    }\n",
       "</style>\n",
       "<table border=\"1\" class=\"dataframe\">\n",
       "  <thead>\n",
       "    <tr style=\"text-align: right;\">\n",
       "      <th></th>\n",
       "      <th>informacion</th>\n",
       "      <th>utilizar</th>\n",
       "      <th>expandir</th>\n",
       "      <th>mineria</th>\n",
       "      <th>herramientas</th>\n",
       "      <th>expectativa</th>\n",
       "      <th>conocimientos</th>\n",
       "      <th>aprender</th>\n",
       "      <th>datos</th>\n",
       "    </tr>\n",
       "  </thead>\n",
       "  <tbody>\n",
       "    <tr>\n",
       "      <th>0</th>\n",
       "      <td>1</td>\n",
       "      <td>0</td>\n",
       "      <td>1</td>\n",
       "      <td>1</td>\n",
       "      <td>0</td>\n",
       "      <td>1</td>\n",
       "      <td>1</td>\n",
       "      <td>0</td>\n",
       "      <td>1</td>\n",
       "    </tr>\n",
       "    <tr>\n",
       "      <th>1</th>\n",
       "      <td>1</td>\n",
       "      <td>1</td>\n",
       "      <td>0</td>\n",
       "      <td>0</td>\n",
       "      <td>1</td>\n",
       "      <td>1</td>\n",
       "      <td>1</td>\n",
       "      <td>1</td>\n",
       "      <td>1</td>\n",
       "    </tr>\n",
       "  </tbody>\n",
       "</table>\n",
       "</div>"
      ],
      "text/plain": [
       "  informacion utilizar expandir mineria herramientas expectativa  \\\n",
       "0           1        0        1       1            0           1   \n",
       "1           1        1        0       0            1           1   \n",
       "\n",
       "  conocimientos aprender datos  \n",
       "0             1        0     1  \n",
       "1             1        1     1  "
      ]
     },
     "execution_count": 81,
     "metadata": {},
     "output_type": "execute_result"
    }
   ],
   "source": [
    "cols = []\n",
    "for i in t:\n",
    "    cols.append(i)\n",
    "for i in q:\n",
    "    cols.append(i)\n",
    "cols = set(cols)\n",
    "\n",
    "df = pd.DataFrame(columns=cols)\n",
    "df = df.append(p,ignore_index=True)\n",
    "df = df.append(r,ignore_index=True)\n",
    "df"
   ]
  },
  {
   "cell_type": "code",
   "execution_count": 84,
   "id": "bibliographic-iraqi",
   "metadata": {},
   "outputs": [
    {
     "data": {
      "text/plain": [
       "4"
      ]
     },
     "execution_count": 84,
     "metadata": {},
     "output_type": "execute_result"
    }
   ],
   "source": [
    "arr1 = df.values[0]\n",
    "arr2 = df.values[1]\n",
    "np.dot(arr1,arr2)"
   ]
  },
  {
   "cell_type": "code",
   "execution_count": 75,
   "id": "applied-internet",
   "metadata": {},
   "outputs": [
    {
     "name": "stdout",
     "output_type": "stream",
     "text": [
      "0.78 3\n",
      "0.86 4\n",
      "0.94 5\n",
      "1.0 6\n"
     ]
    }
   ],
   "source": [
    "val = [0.4, 0.2, 0.1, 0.08, 0.08, 0.08, 0.06]\n",
    "total = sum(val)\n",
    "p = 0\n",
    "for a,i in enumerate(val):\n",
    "    p+=i\n",
    "    if p/total >= .75:\n",
    "        print(p,a)"
   ]
  },
  {
   "cell_type": "code",
   "execution_count": 204,
   "id": "veterinary-rolling",
   "metadata": {},
   "outputs": [
    {
     "data": {
      "text/html": [
       "<div>\n",
       "<style scoped>\n",
       "    .dataframe tbody tr th:only-of-type {\n",
       "        vertical-align: middle;\n",
       "    }\n",
       "\n",
       "    .dataframe tbody tr th {\n",
       "        vertical-align: top;\n",
       "    }\n",
       "\n",
       "    .dataframe thead th {\n",
       "        text-align: right;\n",
       "    }\n",
       "</style>\n",
       "<table border=\"1\" class=\"dataframe\">\n",
       "  <thead>\n",
       "    <tr style=\"text-align: right;\">\n",
       "      <th></th>\n",
       "      <th>ceneval_global</th>\n",
       "      <th>ceneval_analitico</th>\n",
       "      <th>ceneval_matematico</th>\n",
       "      <th>ceneval_lengua</th>\n",
       "      <th>ceneval_esp</th>\n",
       "    </tr>\n",
       "  </thead>\n",
       "  <tbody>\n",
       "    <tr>\n",
       "      <th>0</th>\n",
       "      <td>83.3391</td>\n",
       "      <td>68.15917</td>\n",
       "      <td>148.039446</td>\n",
       "      <td>77.813149</td>\n",
       "      <td>38.510727</td>\n",
       "    </tr>\n",
       "    <tr>\n",
       "      <th>1</th>\n",
       "      <td>41.3391</td>\n",
       "      <td>-3.84083</td>\n",
       "      <td>124.039446</td>\n",
       "      <td>-18.186851</td>\n",
       "      <td>62.510727</td>\n",
       "    </tr>\n",
       "    <tr>\n",
       "      <th>2</th>\n",
       "      <td>41.3391</td>\n",
       "      <td>-3.84083</td>\n",
       "      <td>124.039446</td>\n",
       "      <td>5.813149</td>\n",
       "      <td>38.510727</td>\n",
       "    </tr>\n",
       "    <tr>\n",
       "      <th>3</th>\n",
       "      <td>-18.6609</td>\n",
       "      <td>-75.84083</td>\n",
       "      <td>-43.960554</td>\n",
       "      <td>29.813149</td>\n",
       "      <td>14.510727</td>\n",
       "    </tr>\n",
       "    <tr>\n",
       "      <th>4</th>\n",
       "      <td>-78.6609</td>\n",
       "      <td>-75.84083</td>\n",
       "      <td>-139.960554</td>\n",
       "      <td>-42.186851</td>\n",
       "      <td>-57.489273</td>\n",
       "    </tr>\n",
       "    <tr>\n",
       "      <th>...</th>\n",
       "      <td>...</td>\n",
       "      <td>...</td>\n",
       "      <td>...</td>\n",
       "      <td>...</td>\n",
       "      <td>...</td>\n",
       "    </tr>\n",
       "    <tr>\n",
       "      <th>1440</th>\n",
       "      <td>-108.6609</td>\n",
       "      <td>-99.84083</td>\n",
       "      <td>-139.960554</td>\n",
       "      <td>-114.186851</td>\n",
       "      <td>-81.489273</td>\n",
       "    </tr>\n",
       "    <tr>\n",
       "      <th>1441</th>\n",
       "      <td>-18.6609</td>\n",
       "      <td>92.15917</td>\n",
       "      <td>-115.960554</td>\n",
       "      <td>53.813149</td>\n",
       "      <td>-105.489273</td>\n",
       "    </tr>\n",
       "    <tr>\n",
       "      <th>1442</th>\n",
       "      <td>-114.6609</td>\n",
       "      <td>-147.84083</td>\n",
       "      <td>-115.960554</td>\n",
       "      <td>-138.186851</td>\n",
       "      <td>-57.489273</td>\n",
       "    </tr>\n",
       "    <tr>\n",
       "      <th>1443</th>\n",
       "      <td>-60.6609</td>\n",
       "      <td>-75.84083</td>\n",
       "      <td>-43.960554</td>\n",
       "      <td>-114.186851</td>\n",
       "      <td>-9.489273</td>\n",
       "    </tr>\n",
       "    <tr>\n",
       "      <th>1444</th>\n",
       "      <td>-96.6609</td>\n",
       "      <td>-75.84083</td>\n",
       "      <td>-67.960554</td>\n",
       "      <td>-138.186851</td>\n",
       "      <td>-105.489273</td>\n",
       "    </tr>\n",
       "  </tbody>\n",
       "</table>\n",
       "<p>1445 rows × 5 columns</p>\n",
       "</div>"
      ],
      "text/plain": [
       "      ceneval_global  ceneval_analitico  ceneval_matematico  ceneval_lengua  \\\n",
       "0            83.3391           68.15917          148.039446       77.813149   \n",
       "1            41.3391           -3.84083          124.039446      -18.186851   \n",
       "2            41.3391           -3.84083          124.039446        5.813149   \n",
       "3           -18.6609          -75.84083          -43.960554       29.813149   \n",
       "4           -78.6609          -75.84083         -139.960554      -42.186851   \n",
       "...              ...                ...                 ...             ...   \n",
       "1440       -108.6609          -99.84083         -139.960554     -114.186851   \n",
       "1441        -18.6609           92.15917         -115.960554       53.813149   \n",
       "1442       -114.6609         -147.84083         -115.960554     -138.186851   \n",
       "1443        -60.6609          -75.84083          -43.960554     -114.186851   \n",
       "1444        -96.6609          -75.84083          -67.960554     -138.186851   \n",
       "\n",
       "      ceneval_esp  \n",
       "0       38.510727  \n",
       "1       62.510727  \n",
       "2       38.510727  \n",
       "3       14.510727  \n",
       "4      -57.489273  \n",
       "...           ...  \n",
       "1440   -81.489273  \n",
       "1441  -105.489273  \n",
       "1442   -57.489273  \n",
       "1443    -9.489273  \n",
       "1444  -105.489273  \n",
       "\n",
       "[1445 rows x 5 columns]"
      ]
     },
     "execution_count": 204,
     "metadata": {},
     "output_type": "execute_result"
    }
   ],
   "source": [
    "df = pd.read_csv(\"ceneval.csv\") \n",
    "df = df.drop(['genero'],axis=1)\n",
    "mean = df.mean()\n",
    "df = df-mean\n",
    "df"
   ]
  },
  {
   "cell_type": "code",
   "execution_count": 206,
   "id": "bound-patch",
   "metadata": {},
   "outputs": [
    {
     "data": {
      "text/plain": [
       "array([[-1.90914537e+02,  4.88573004e+01, -7.09904946e+00,\n",
       "         4.64608224e+01, -5.63153060e-01],\n",
       "       [-9.61355508e+01,  3.75852049e+01,  8.19535148e+01,\n",
       "         6.30595532e+01, -4.82031477e-01],\n",
       "       [-9.66362399e+01,  4.27475741e+01,  4.93390120e+01,\n",
       "         7.08939001e+01, -3.53684582e-01],\n",
       "       ...,\n",
       "       [ 2.58598783e+02, -1.82152337e+01,  5.71877056e+01,\n",
       "         1.93834810e+01,  4.76442959e-01],\n",
       "       [ 1.35938560e+02,  4.97029132e+00,  7.71617193e+01,\n",
       "         5.90443354e+00, -2.85731021e-02],\n",
       "       [ 2.12562414e+02,  6.21811450e+01,  2.88157484e+01,\n",
       "        -7.59837389e+00,  1.82226161e-01]])"
      ]
     },
     "execution_count": 206,
     "metadata": {},
     "output_type": "execute_result"
    }
   ],
   "source": [
    "pca_v = PCA().fit(df)\n",
    "trans = pca_v.transform(df)\n",
    "pca_v.n_components_\n",
    "ev = pca_v.explained_variance_\n",
    "ev = 100*ev/np.sum(ev)\n",
    "trans[:]"
   ]
  },
  {
   "cell_type": "markdown",
   "id": "historic-cotton",
   "metadata": {},
   "source": [
    "## Producto principales componentes\n"
   ]
  },
  {
   "cell_type": "code",
   "execution_count": 207,
   "id": "appropriate-signal",
   "metadata": {},
   "outputs": [
    {
     "data": {
      "text/plain": [
       "-2.0634615793824196e-08"
      ]
     },
     "execution_count": 207,
     "metadata": {},
     "output_type": "execute_result"
    }
   ],
   "source": [
    "np.dot(trans[:,0],trans[:,1])"
   ]
  },
  {
   "cell_type": "code",
   "execution_count": 214,
   "id": "familiar-moses",
   "metadata": {},
   "outputs": [
    {
     "name": "stdout",
     "output_type": "stream",
     "text": [
      "[ 2.58648275e+02  3.47965011e+02 -3.73036085e+00 -3.43621605e+01\n",
      " -1.72429810e-01]\n"
     ]
    }
   ],
   "source": [
    "for i in trans:\n",
    "    if i[1] == max(abs(trans[:,1])):\n",
    "        print(i)"
   ]
  },
  {
   "cell_type": "code",
   "execution_count": 215,
   "id": "mediterranean-cookie",
   "metadata": {},
   "outputs": [
    {
     "name": "stdout",
     "output_type": "stream",
     "text": [
      "[71.98977811173138, 84.36224117189084, 92.28594715216498, 99.9078688740828, 100.00000000000001]\n"
     ]
    },
    {
     "data": {
      "text/plain": [
       "[<matplotlib.lines.Line2D at 0x7f8fe9d26ee0>]"
      ]
     },
     "execution_count": 215,
     "metadata": {},
     "output_type": "execute_result"
    },
    {
     "data": {
      "image/png": "[encoded data removed]",
      "text/plain": [
       "<Figure size 432x288 with 1 Axes>"
      ]
     },
     "metadata": {
      "needs_background": "light"
     },
     "output_type": "display_data"
    }
   ],
   "source": [
    "### Varianza acumulada\n",
    "\n",
    "ac_va = []\n",
    "for i in range(len(ev)):\n",
    "    ac = np.sum(ev[:i+1])\n",
    "    ac_va.append(ac)\n",
    "print(ac_va)\n",
    "plt.plot(range(len(ev)),ac_va)"
   ]
  }
 ],
 "metadata": {
  "kernelspec": {
   "display_name": "Python 3",
   "language": "python",
   "name": "python3"
  },
  "language_info": {
   "codemirror_mode": {
    "name": "ipython",
    "version": 3
   },
   "file_extension": ".py",
   "mimetype": "text/x-python",
   "name": "python",
   "nbconvert_exporter": "python",
   "pygments_lexer": "ipython3",
   "version": "3.9.1"
  }
 },
 "nbformat": 4,
 "nbformat_minor": 5
}
