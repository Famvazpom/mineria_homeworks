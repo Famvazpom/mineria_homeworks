{
 "cells": [
  {
   "cell_type": "code",
   "execution_count": 3,
   "metadata": {
    "id": "cb4oSxei8hI4"
   },
   "outputs": [],
   "source": [
    "import numpy as np\n",
    "import pandas as pd\n",
    "import matplotlib.pyplot as plt\n",
    "from sklearn.cluster import KMeans"
   ]
  },
  {
   "cell_type": "markdown",
   "metadata": {
    "id": "GaCaYDM4Caze"
   },
   "source": [
    "**Lectura de archivo**\n"
   ]
  },
  {
   "cell_type": "code",
   "execution_count": 4,
   "metadata": {
    "id": "JAL7ZtOi8hJB"
   },
   "outputs": [],
   "source": [
    "data = pd.read_csv(\"./weblog.csv\");"
   ]
  },
  {
   "cell_type": "markdown",
   "metadata": {
    "id": "Eod7AwJ4Ckwu"
   },
   "source": [
    "**Limpieza de datos**\n",
    "\n",
    "**Limpieza de IPS**\n",
    "\n",
    "Para el funcionamiento correcto del algoritmo, es necesario realizar una limpieza a nuestro conjunto de datos para tenerlos estandarizados, en los log de servidores, se pueden mostrar errores como se puede apreciar en la siguiente celda de codigo.\n"
   ]
  },
  {
   "cell_type": "code",
   "execution_count": 5,
   "metadata": {
    "colab": {
     "base_uri": "https://localhost:8080/",
     "height": 424
    },
    "id": "xfkls04MDAws",
    "outputId": "9251d4e8-d1e3-4b3a-e615-573b52e6f889"
   },
   "outputs": [
    {
     "data": {
      "text/html": [
       "<div>\n",
       "<style scoped>\n",
       "    .dataframe tbody tr th:only-of-type {\n",
       "        vertical-align: middle;\n",
       "    }\n",
       "\n",
       "    .dataframe tbody tr th {\n",
       "        vertical-align: top;\n",
       "    }\n",
       "\n",
       "    .dataframe thead th {\n",
       "        text-align: right;\n",
       "    }\n",
       "</style>\n",
       "<table border=\"1\" class=\"dataframe\">\n",
       "  <thead>\n",
       "    <tr style=\"text-align: right;\">\n",
       "      <th></th>\n",
       "      <th>IP</th>\n",
       "      <th>Time</th>\n",
       "      <th>URL</th>\n",
       "      <th>Staus</th>\n",
       "    </tr>\n",
       "  </thead>\n",
       "  <tbody>\n",
       "    <tr>\n",
       "      <th>1773</th>\n",
       "      <td>chmod:</td>\n",
       "      <td>cannot</td>\n",
       "      <td>'a.out':</td>\n",
       "      <td>No</td>\n",
       "    </tr>\n",
       "    <tr>\n",
       "      <th>1774</th>\n",
       "      <td>chmod:</td>\n",
       "      <td>cannot</td>\n",
       "      <td>'error.txt':</td>\n",
       "      <td>No</td>\n",
       "    </tr>\n",
       "    <tr>\n",
       "      <th>1775</th>\n",
       "      <td>rm:</td>\n",
       "      <td>cannot</td>\n",
       "      <td>'*.o':</td>\n",
       "      <td>No</td>\n",
       "    </tr>\n",
       "    <tr>\n",
       "      <th>1776</th>\n",
       "      <td>rm:</td>\n",
       "      <td>cannot</td>\n",
       "      <td>'a.out':</td>\n",
       "      <td>No</td>\n",
       "    </tr>\n",
       "    <tr>\n",
       "      <th>1782</th>\n",
       "      <td>chmod:</td>\n",
       "      <td>cannot</td>\n",
       "      <td>'error.txt':</td>\n",
       "      <td>No</td>\n",
       "    </tr>\n",
       "    <tr>\n",
       "      <th>...</th>\n",
       "      <td>...</td>\n",
       "      <td>...</td>\n",
       "      <td>...</td>\n",
       "      <td>...</td>\n",
       "    </tr>\n",
       "    <tr>\n",
       "      <th>15896</th>\n",
       "      <td>rm:</td>\n",
       "      <td>cannot</td>\n",
       "      <td>'*.o':</td>\n",
       "      <td>No</td>\n",
       "    </tr>\n",
       "    <tr>\n",
       "      <th>15897</th>\n",
       "      <td>rm:</td>\n",
       "      <td>cannot</td>\n",
       "      <td>'a.out':</td>\n",
       "      <td>No</td>\n",
       "    </tr>\n",
       "    <tr>\n",
       "      <th>15900</th>\n",
       "      <td>chmod:</td>\n",
       "      <td>cannot</td>\n",
       "      <td>'a.out':</td>\n",
       "      <td>No</td>\n",
       "    </tr>\n",
       "    <tr>\n",
       "      <th>15901</th>\n",
       "      <td>chmod:</td>\n",
       "      <td>cannot</td>\n",
       "      <td>'error.txt':</td>\n",
       "      <td>No</td>\n",
       "    </tr>\n",
       "    <tr>\n",
       "      <th>15902</th>\n",
       "      <td>rm:</td>\n",
       "      <td>cannot</td>\n",
       "      <td>'*.o':</td>\n",
       "      <td>No</td>\n",
       "    </tr>\n",
       "  </tbody>\n",
       "</table>\n",
       "<p>214 rows × 4 columns</p>\n",
       "</div>"
      ],
      "text/plain": [
       "           IP    Time           URL Staus\n",
       "1773   chmod:  cannot      'a.out':    No\n",
       "1774   chmod:  cannot  'error.txt':    No\n",
       "1775      rm:  cannot        '*.o':    No\n",
       "1776      rm:  cannot      'a.out':    No\n",
       "1782   chmod:  cannot  'error.txt':    No\n",
       "...       ...     ...           ...   ...\n",
       "15896     rm:  cannot        '*.o':    No\n",
       "15897     rm:  cannot      'a.out':    No\n",
       "15900  chmod:  cannot      'a.out':    No\n",
       "15901  chmod:  cannot  'error.txt':    No\n",
       "15902     rm:  cannot        '*.o':    No\n",
       "\n",
       "[214 rows x 4 columns]"
      ]
     },
     "execution_count": 5,
     "metadata": {},
     "output_type": "execute_result"
    }
   ],
   "source": [
    "data[~data.IP.str.contains('[0-9]*\\.')]"
   ]
  },
  {
   "cell_type": "markdown",
   "metadata": {
    "id": "uNv3IgmnDFF9"
   },
   "source": [
    "Estos errores no son utiles para nuestros analisis, ya que son errores del sistema operativo del servidor, por lo que debemos eliminarlos, para ello nos quedaremos con las entradas que solo contengan el patron de una ip."
   ]
  },
  {
   "cell_type": "code",
   "execution_count": 6,
   "metadata": {
    "colab": {
     "base_uri": "https://localhost:8080/",
     "height": 206
    },
    "id": "xftK3IG38hJC",
    "outputId": "87c8bfd1-c787-4810-9d8b-bc6aab816ee6"
   },
   "outputs": [
    {
     "data": {
      "text/html": [
       "<div>\n",
       "<style scoped>\n",
       "    .dataframe tbody tr th:only-of-type {\n",
       "        vertical-align: middle;\n",
       "    }\n",
       "\n",
       "    .dataframe tbody tr th {\n",
       "        vertical-align: top;\n",
       "    }\n",
       "\n",
       "    .dataframe thead th {\n",
       "        text-align: right;\n",
       "    }\n",
       "</style>\n",
       "<table border=\"1\" class=\"dataframe\">\n",
       "  <thead>\n",
       "    <tr style=\"text-align: right;\">\n",
       "      <th></th>\n",
       "      <th>IP</th>\n",
       "      <th>Time</th>\n",
       "      <th>URL</th>\n",
       "      <th>Staus</th>\n",
       "    </tr>\n",
       "  </thead>\n",
       "  <tbody>\n",
       "    <tr>\n",
       "      <th>0</th>\n",
       "      <td>10.128.2.1</td>\n",
       "      <td>[29/Nov/2017:06:58:55</td>\n",
       "      <td>GET /login.php HTTP/1.1</td>\n",
       "      <td>200</td>\n",
       "    </tr>\n",
       "    <tr>\n",
       "      <th>1</th>\n",
       "      <td>10.128.2.1</td>\n",
       "      <td>[29/Nov/2017:06:59:02</td>\n",
       "      <td>POST /process.php HTTP/1.1</td>\n",
       "      <td>302</td>\n",
       "    </tr>\n",
       "    <tr>\n",
       "      <th>2</th>\n",
       "      <td>10.128.2.1</td>\n",
       "      <td>[29/Nov/2017:06:59:03</td>\n",
       "      <td>GET /home.php HTTP/1.1</td>\n",
       "      <td>200</td>\n",
       "    </tr>\n",
       "    <tr>\n",
       "      <th>3</th>\n",
       "      <td>10.131.2.1</td>\n",
       "      <td>[29/Nov/2017:06:59:04</td>\n",
       "      <td>GET /js/vendor/moment.min.js HTTP/1.1</td>\n",
       "      <td>200</td>\n",
       "    </tr>\n",
       "    <tr>\n",
       "      <th>4</th>\n",
       "      <td>10.130.2.1</td>\n",
       "      <td>[29/Nov/2017:06:59:06</td>\n",
       "      <td>GET /bootstrap-3.3.7/js/bootstrap.js HTTP/1.1</td>\n",
       "      <td>200</td>\n",
       "    </tr>\n",
       "  </tbody>\n",
       "</table>\n",
       "</div>"
      ],
      "text/plain": [
       "           IP                   Time  \\\n",
       "0  10.128.2.1  [29/Nov/2017:06:58:55   \n",
       "1  10.128.2.1  [29/Nov/2017:06:59:02   \n",
       "2  10.128.2.1  [29/Nov/2017:06:59:03   \n",
       "3  10.131.2.1  [29/Nov/2017:06:59:04   \n",
       "4  10.130.2.1  [29/Nov/2017:06:59:06   \n",
       "\n",
       "                                             URL Staus  \n",
       "0                        GET /login.php HTTP/1.1   200  \n",
       "1                     POST /process.php HTTP/1.1   302  \n",
       "2                         GET /home.php HTTP/1.1   200  \n",
       "3          GET /js/vendor/moment.min.js HTTP/1.1   200  \n",
       "4  GET /bootstrap-3.3.7/js/bootstrap.js HTTP/1.1   200  "
      ]
     },
     "execution_count": 6,
     "metadata": {},
     "output_type": "execute_result"
    }
   ],
   "source": [
    "data = data[data.IP.str.contains('[0-9]*\\.')]\n",
    "data.head()"
   ]
  },
  {
   "cell_type": "markdown",
   "metadata": {
    "id": "N68Sg_MMDZMl"
   },
   "source": [
    "**Limpeiza de tiempos**\n",
    "\n",
    "En estos archivos, el servidor entrega una cadena de texto estructurada de la siguiente forma:\n",
    "[DD/MMM/YYYY:HH:MM:SS]\n",
    "\n",
    "Esto nos da un indicio que maneja un formato datetime, por lo que para facilidad de uso, los transformaremos en objetos datetime.\n",
    "\n",
    "Para ello, eliminaremos los corchetes y el primer \":\" de la cadena de texto y transformaremos las cadenas en objetos datetime."
   ]
  },
  {
   "cell_type": "code",
   "execution_count": 7,
   "metadata": {
    "colab": {
     "base_uri": "https://localhost:8080/",
     "height": 206
    },
    "id": "sFoHZgiJBhzS",
    "outputId": "af5b770d-f106-458a-b624-5491c4d58836"
   },
   "outputs": [
    {
     "data": {
      "text/html": [
       "<div>\n",
       "<style scoped>\n",
       "    .dataframe tbody tr th:only-of-type {\n",
       "        vertical-align: middle;\n",
       "    }\n",
       "\n",
       "    .dataframe tbody tr th {\n",
       "        vertical-align: top;\n",
       "    }\n",
       "\n",
       "    .dataframe thead th {\n",
       "        text-align: right;\n",
       "    }\n",
       "</style>\n",
       "<table border=\"1\" class=\"dataframe\">\n",
       "  <thead>\n",
       "    <tr style=\"text-align: right;\">\n",
       "      <th></th>\n",
       "      <th>IP</th>\n",
       "      <th>Time</th>\n",
       "      <th>URL</th>\n",
       "      <th>Staus</th>\n",
       "    </tr>\n",
       "  </thead>\n",
       "  <tbody>\n",
       "    <tr>\n",
       "      <th>0</th>\n",
       "      <td>10.128.2.1</td>\n",
       "      <td>2017-11-29 06:58:55</td>\n",
       "      <td>GET /login.php HTTP/1.1</td>\n",
       "      <td>200</td>\n",
       "    </tr>\n",
       "    <tr>\n",
       "      <th>1</th>\n",
       "      <td>10.128.2.1</td>\n",
       "      <td>2017-11-29 06:59:02</td>\n",
       "      <td>POST /process.php HTTP/1.1</td>\n",
       "      <td>302</td>\n",
       "    </tr>\n",
       "    <tr>\n",
       "      <th>2</th>\n",
       "      <td>10.128.2.1</td>\n",
       "      <td>2017-11-29 06:59:03</td>\n",
       "      <td>GET /home.php HTTP/1.1</td>\n",
       "      <td>200</td>\n",
       "    </tr>\n",
       "    <tr>\n",
       "      <th>3</th>\n",
       "      <td>10.131.2.1</td>\n",
       "      <td>2017-11-29 06:59:04</td>\n",
       "      <td>GET /js/vendor/moment.min.js HTTP/1.1</td>\n",
       "      <td>200</td>\n",
       "    </tr>\n",
       "    <tr>\n",
       "      <th>4</th>\n",
       "      <td>10.130.2.1</td>\n",
       "      <td>2017-11-29 06:59:06</td>\n",
       "      <td>GET /bootstrap-3.3.7/js/bootstrap.js HTTP/1.1</td>\n",
       "      <td>200</td>\n",
       "    </tr>\n",
       "  </tbody>\n",
       "</table>\n",
       "</div>"
      ],
      "text/plain": [
       "           IP                Time  \\\n",
       "0  10.128.2.1 2017-11-29 06:58:55   \n",
       "1  10.128.2.1 2017-11-29 06:59:02   \n",
       "2  10.128.2.1 2017-11-29 06:59:03   \n",
       "3  10.131.2.1 2017-11-29 06:59:04   \n",
       "4  10.130.2.1 2017-11-29 06:59:06   \n",
       "\n",
       "                                             URL Staus  \n",
       "0                        GET /login.php HTTP/1.1   200  \n",
       "1                     POST /process.php HTTP/1.1   302  \n",
       "2                         GET /home.php HTTP/1.1   200  \n",
       "3          GET /js/vendor/moment.min.js HTTP/1.1   200  \n",
       "4  GET /bootstrap-3.3.7/js/bootstrap.js HTTP/1.1   200  "
      ]
     },
     "execution_count": 7,
     "metadata": {},
     "output_type": "execute_result"
    }
   ],
   "source": [
    "data['Time'] = data['Time'].str.strip(\"[\")\n",
    "data['Time'] = data['Time'].str.replace(\":\",' ',1)\n",
    "data = data[data.Time.str.contains('[0-9]{2}/[a-zA-Z]{3}/[0-9]{4}')]\n",
    "data['Time']=pd.to_datetime(data['Time'])\n",
    "data.head()"
   ]
  },
  {
   "cell_type": "markdown",
   "metadata": {
    "id": "F_SAio7UEOdG"
   },
   "source": [
    "**Limpieza de URLs**\n",
    "\n",
    "Como hemos hablado, los log de servidores incluyen la respuesta a todas las peticiones que se le hacen al servidor, esto incluye archivos visuales, auxiliares y de estilos, para el analisis de uso web, no son relevantes por lo que los eliminaremos del dataset."
   ]
  },
  {
   "cell_type": "code",
   "execution_count": 8,
   "metadata": {
    "colab": {
     "base_uri": "https://localhost:8080/",
     "height": 206
    },
    "id": "HDYlmewVBnwZ",
    "outputId": "de5a1b0c-0627-47fb-f13e-9380c5ccee28"
   },
   "outputs": [
    {
     "data": {
      "text/html": [
       "<div>\n",
       "<style scoped>\n",
       "    .dataframe tbody tr th:only-of-type {\n",
       "        vertical-align: middle;\n",
       "    }\n",
       "\n",
       "    .dataframe tbody tr th {\n",
       "        vertical-align: top;\n",
       "    }\n",
       "\n",
       "    .dataframe thead th {\n",
       "        text-align: right;\n",
       "    }\n",
       "</style>\n",
       "<table border=\"1\" class=\"dataframe\">\n",
       "  <thead>\n",
       "    <tr style=\"text-align: right;\">\n",
       "      <th></th>\n",
       "      <th>IP</th>\n",
       "      <th>Time</th>\n",
       "      <th>URL</th>\n",
       "      <th>Staus</th>\n",
       "      <th>pages</th>\n",
       "    </tr>\n",
       "  </thead>\n",
       "  <tbody>\n",
       "    <tr>\n",
       "      <th>0</th>\n",
       "      <td>10.128.2.1</td>\n",
       "      <td>2017-11-29 06:58:55</td>\n",
       "      <td>GET /login.php HTTP/1.1</td>\n",
       "      <td>200</td>\n",
       "      <td>login.php</td>\n",
       "    </tr>\n",
       "    <tr>\n",
       "      <th>1</th>\n",
       "      <td>10.128.2.1</td>\n",
       "      <td>2017-11-29 06:59:02</td>\n",
       "      <td>POST /process.php HTTP/1.1</td>\n",
       "      <td>302</td>\n",
       "      <td>process.php</td>\n",
       "    </tr>\n",
       "    <tr>\n",
       "      <th>2</th>\n",
       "      <td>10.128.2.1</td>\n",
       "      <td>2017-11-29 06:59:03</td>\n",
       "      <td>GET /home.php HTTP/1.1</td>\n",
       "      <td>200</td>\n",
       "      <td>home.php</td>\n",
       "    </tr>\n",
       "    <tr>\n",
       "      <th>5</th>\n",
       "      <td>10.130.2.1</td>\n",
       "      <td>2017-11-29 06:59:19</td>\n",
       "      <td>GET /profile.php?user=bala HTTP/1.1</td>\n",
       "      <td>200</td>\n",
       "      <td>profile.php</td>\n",
       "    </tr>\n",
       "    <tr>\n",
       "      <th>8</th>\n",
       "      <td>10.131.2.1</td>\n",
       "      <td>2017-11-29 06:59:30</td>\n",
       "      <td>GET /edit.php?name=bala HTTP/1.1</td>\n",
       "      <td>200</td>\n",
       "      <td>edit.php</td>\n",
       "    </tr>\n",
       "  </tbody>\n",
       "</table>\n",
       "</div>"
      ],
      "text/plain": [
       "           IP                Time                                  URL Staus  \\\n",
       "0  10.128.2.1 2017-11-29 06:58:55              GET /login.php HTTP/1.1   200   \n",
       "1  10.128.2.1 2017-11-29 06:59:02           POST /process.php HTTP/1.1   302   \n",
       "2  10.128.2.1 2017-11-29 06:59:03               GET /home.php HTTP/1.1   200   \n",
       "5  10.130.2.1 2017-11-29 06:59:19  GET /profile.php?user=bala HTTP/1.1   200   \n",
       "8  10.131.2.1 2017-11-29 06:59:30     GET /edit.php?name=bala HTTP/1.1   200   \n",
       "\n",
       "         pages  \n",
       "0    login.php  \n",
       "1  process.php  \n",
       "2     home.php  \n",
       "5  profile.php  \n",
       "8     edit.php  "
      ]
     },
     "execution_count": 8,
     "metadata": {},
     "output_type": "execute_result"
    }
   ],
   "source": [
    "exts = ['gif','jpeg', 'GIF', 'JPEG', 'jpg', 'JPG', 'map','js','css','woff']\n",
    "data['pages'] = (lambda db: db['URL'].map(lambda url: url.split()[1].split('?')[0].replace(\"/\", \"\")))(data)\n",
    "\n",
    "for ext in exts:\n",
    "    data = data[~data.URL.str.contains(ext)]\n",
    "\n",
    "data.head()"
   ]
  },
  {
   "cell_type": "markdown",
   "metadata": {
    "id": "qTQdy23uElqn"
   },
   "source": [
    "**get_sessions()**\n",
    "\n",
    "Esta funcion se encarga de lo siguiente:\n",
    "\n",
    "* Obtener los usuarios\n",
    "* Obtener las sesiones por cada usuario\n",
    "\n",
    "Los usuarios, por facilidad se trabajaran con las ips unicas del data set.\n",
    "\n",
    "Las sesiones por su lado, estaran definidas por un tiempo entre peticion y peticion de 30 minutos el cual es considerado un estandar, por lo tanto podemos determinar las sesiones de forma sencilla.\n"
   ]
  },
  {
   "cell_type": "code",
   "execution_count": 9,
   "metadata": {
    "id": "oxF8_mE68hJE"
   },
   "outputs": [],
   "source": [
    "def get_sessions(usr,data):\n",
    "    usr_data = data[data.IP.str.contains(u)]\n",
    "    sesions = []\n",
    "    sesion = []\n",
    "    for i,value in usr_data.iterrows():\n",
    "        try:\n",
    "            last = sesion[-1]\n",
    "            diference = value.Time - last.Time\n",
    "            if diference.total_seconds()/60 <=30:\n",
    "                sesion.append(value)\n",
    "            else:\n",
    "                sesions.append(sesion)\n",
    "                sesion = []\n",
    "        except IndexError:\n",
    "            sesion.append(value)\n",
    "    return sesions"
   ]
  },
  {
   "cell_type": "markdown",
   "metadata": {
    "id": "DhNtREkiFD5f"
   },
   "source": [
    "**Obtencion de sesiones**"
   ]
  },
  {
   "cell_type": "code",
   "execution_count": 10,
   "metadata": {
    "colab": {
     "base_uri": "https://localhost:8080/"
    },
    "id": "nzdF30PU8hJE",
    "outputId": "60db0922-004d-4a93-ace5-b32b3e182c64"
   },
   "outputs": [
    {
     "data": {
      "text/plain": [
       "dict_keys(['10.128.2.1', '10.130.2.1', '10.131.2.1', '10.129.2.1', '10.131.0.1'])"
      ]
     },
     "execution_count": 10,
     "metadata": {},
     "output_type": "execute_result"
    }
   ],
   "source": [
    "pages = { p:i for i, p in enumerate(data.pages.unique()) }\n",
    "u_s = {}\n",
    "usrs = data.IP.unique()\n",
    "for u in usrs:\n",
    "    u_s[u] = get_sessions(u,data)\n",
    "u_s.keys()"
   ]
  },
  {
   "cell_type": "markdown",
   "metadata": {
    "id": "0_jwZvqfFGt3"
   },
   "source": [
    "**Obtencion de Paginas Unicas Y construccion de matriz Usuario/Pagina**\n",
    "\n",
    "Con la informacion anterior, podemos obtener la matriz de usuario pagina, en donde recorremos la lista de sesiones y agregamos un punto a cada una de las visitas que se realizaron a cierta pagina\n"
   ]
  },
  {
   "cell_type": "code",
   "execution_count": 11,
   "metadata": {
    "colab": {
     "base_uri": "https://localhost:8080/"
    },
    "id": "jRA70sAz8hJF",
    "outputId": "8d463c8e-2a35-43df-dbab-3fb16586aa89"
   },
   "outputs": [
    {
     "name": "stdout",
     "output_type": "stream",
     "text": [
      "(975, 39)\n",
      "[[1 1 1 ... 0 0 0]\n",
      " [0 0 1 ... 0 0 0]\n",
      " [1 1 9 ... 0 0 0]\n",
      " ...\n",
      " [4 0 0 ... 0 0 0]\n",
      " [4 1 3 ... 0 0 0]\n",
      " [3 2 1 ... 0 0 0]]\n"
     ]
    }
   ],
   "source": [
    "# UP = [W(ui, pj )]m×n,\n",
    "W = []\n",
    "for usr, sessions in u_s.items():\n",
    "    for session in sessions:\n",
    "        sessionlist = [0]*len(pages)\n",
    "        for page in session:\n",
    "            sessionlist[pages[page['pages']]] += 1\n",
    "        W.append(sessionlist)\n",
    "        \n",
    "W_u_p = np.array(W)\n",
    "print(W_u_p.shape)\n",
    "print(W_u_p)"
   ]
  },
  {
   "cell_type": "markdown",
   "metadata": {
    "id": "vo2IdwJL8hJF"
   },
   "source": [
    "# Esperanza\n",
    "\n",
    "Esta funcion se encarga de obtener la esperanza de un valor dado con respecto a la probabilidad general"
   ]
  },
  {
   "cell_type": "code",
   "execution_count": 12,
   "metadata": {
    "id": "e-Eegmsp8hJG"
   },
   "outputs": [],
   "source": [
    "def Expectation(pz,puz,ppz,i,j,k):\n",
    "    #k primes\n",
    "    kprimes = range(len(pz))\n",
    "    # (P(zk )P(ui|zk )P(pj|zk )) / (sumatoria(P(zprimak)P(ui|zprimak)P(pj|zprimak)))\n",
    "    return (pz[k]*puz[i,k]*ppz[j,k])/((pz[kprimes]*puz[i,kprimes]*ppz[j,kprimes]).sum())"
   ]
  },
  {
   "cell_type": "markdown",
   "metadata": {
    "id": "HWfrEC9z8hJG"
   },
   "source": [
    "# Maximización"
   ]
  },
  {
   "cell_type": "code",
   "execution_count": 13,
   "metadata": {
    "id": "AdryNaqY8hJG"
   },
   "outputs": [],
   "source": [
    "def Maximization(W_u_p,nusrs,npags,ntasks, PZUP):\n",
    "    # resultados maximizados para pz, puz, ppz \n",
    "    # Pz\n",
    "    # vector tamaño ntasks\n",
    "    pz= []\n",
    "    # Puz\n",
    "    # matrix tamaño nusers x ntasks\n",
    "    puz= []\n",
    "    # Ppz\n",
    "    # matrix tamaño npages x ntasks\n",
    "    ppz=[]\n",
    "    for k in range(ntasks):\n",
    "        pz.append(ProbZ(W_u_p,PZUP[:,:,k]))\n",
    "        \n",
    "    for i in range(nusrs):\n",
    "        puz_list = []\n",
    "        for k in range(ntasks):\n",
    "            puz_list.append(ProbUZ(W_u_p,i,PZUP[:,:,k]))\n",
    "        puz.append(puz_list)\n",
    "        \n",
    "    for j in range(npags):\n",
    "        ppz_list = []\n",
    "        for k in range(ntasks):\n",
    "            ppz_list.append(ProbPZ(W_u_p,j,PZUP[:,:,k]))\n",
    "        ppz.append(ppz_list)\n",
    "    \n",
    "    return np.array([np.array(pz) , np.array(puz), np.array(ppz) ])"
   ]
  },
  {
   "cell_type": "markdown",
   "metadata": {
    "id": "8ruQBgw_8hJH"
   },
   "source": [
    "# Probabilidades\n",
    "Esta funcion se encarga de obtener las probabilidades para cada uno de los valores que se les indique."
   ]
  },
  {
   "cell_type": "code",
   "execution_count": 14,
   "metadata": {
    "id": "hMpzjXry8hJH"
   },
   "outputs": [],
   "source": [
    "def ProbZ(W_u_p,PZUP):\n",
    "    num = 0\n",
    "    dem = 0\n",
    "    for j in range(W_u_p.shape[1]):\n",
    "        num   = num + (W_u_p[:,j]*PZUP[:,j]).sum()\n",
    "        dem = dem + W_u_p[:,j].sum()\n",
    "    return num/dem\n",
    "\n",
    "def ProbUZ(W_u_p,i,PZUP):\n",
    "    num   = (W_u_p[i,:]*PZUP[i,:]).sum()\n",
    "    #i primes\n",
    "    iprimes = range( W_u_p.shape[0])\n",
    "    dem = (W_u_p[iprimes]*PZUP[iprimes]).sum()\n",
    "    return num/dem\n",
    "\n",
    "def ProbPZ(W_u_p,j,PZUP):\n",
    "    num   = (W_u_p[:,j]*PZUP[:,j]).sum()\n",
    "    #j primes \n",
    "    jprimes = range( W_u_p.shape[1])\n",
    "    dem = (W_u_p[jprimes]*PZUP[jprimes]).sum()\n",
    "    return num/dem"
   ]
  },
  {
   "cell_type": "markdown",
   "metadata": {
    "id": "uAIk8ncY8hJI"
   },
   "source": [
    "# PSLA"
   ]
  },
  {
   "cell_type": "code",
   "execution_count": 15,
   "metadata": {
    "colab": {
     "base_uri": "https://localhost:8080/"
    },
    "id": "qxU_xgB58hJI",
    "outputId": "9de62e1d-86ac-48f0-f3cf-05b52c662cdb"
   },
   "outputs": [
    {
     "name": "stdout",
     "output_type": "stream",
     "text": [
      "3 975 39\n"
     ]
    },
    {
     "name": "stderr",
     "output_type": "stream",
     "text": [
      "<ipython-input-15-2754b9ed72dd>:13: VisibleDeprecationWarning: Creating an ndarray from ragged nested sequences (which is a list-or-tuple of lists-or-tuples-or ndarrays with different lengths or shapes) is deprecated. If you meant to do this, you must specify 'dtype=object' when creating the ndarray.\n",
      "  maximization = np.array([pz_init, puz_init, ppz_init])\n",
      "<ipython-input-13-dfb112b6e8d2>:27: VisibleDeprecationWarning: Creating an ndarray from ragged nested sequences (which is a list-or-tuple of lists-or-tuples-or ndarrays with different lengths or shapes) is deprecated. If you meant to do this, you must specify 'dtype=object' when creating the ndarray.\n",
      "  return np.array([np.array(pz) , np.array(puz), np.array(ppz) ])\n"
     ]
    }
   ],
   "source": [
    "# Numero de iteraciones\n",
    "itera = 3\n",
    "# Numero de tareas\n",
    "ntasks= 3\n",
    "# Numero de usuarios\n",
    "# Numero de paginas\n",
    "nusrs, npags = W_u_p.shape\n",
    "print(ntasks, nusrs, npags)\n",
    "#INICIALIZAR matrix random entre 0 y 1, cuya suma sea igual a 1\n",
    "pz_init = np.random.dirichlet(np.ones(ntasks))\n",
    "puz_init = np.random.dirichlet(np.ones(ntasks), nusrs)\n",
    "ppz_init = np.random.dirichlet(np.ones(ntasks), npags)\n",
    "maximization = np.array([pz_init, puz_init, ppz_init])\n",
    "\n",
    "#Inicia \n",
    "count = 0\n",
    "while count <  itera:\n",
    "    count = count + 1\n",
    "    #Esperanza, para todos los valores nxmxz de la matriz inicializada\n",
    "    exp = []\n",
    "    for i in range(nusrs):\n",
    "        exp_ls1 = []\n",
    "        for j in range(npags):\n",
    "            exp_ls2 = []\n",
    "            for k in range(ntasks):\n",
    "                exp_ls2.append(Expectation(maximization[0], maximization[1], maximization[2], i, j, k))\n",
    "            exp_ls1.append(exp_ls2)\n",
    "        exp.append(exp_ls1)\n",
    "    expectative_matrix = np.array(exp)\n",
    "    # Max()\n",
    "    maximization = Maximization(W_u_p, nusrs, npags, ntasks, expectative_matrix)"
   ]
  },
  {
   "cell_type": "code",
   "execution_count": 16,
   "metadata": {
    "colab": {
     "base_uri": "https://localhost:8080/"
    },
    "id": "LdPFgXyE8hJJ",
    "outputId": "a2078942-bc6a-4265-db3a-2d639d03a6c0"
   },
   "outputs": [
    {
     "data": {
      "text/plain": [
       "array([[[5.49310988e-01, 3.60252320e-06, 4.50685409e-01],\n",
       "        [6.45336642e-01, 1.70027410e-05, 3.54646355e-01],\n",
       "        [1.54859856e-01, 1.71593729e-05, 8.45122985e-01],\n",
       "        ...,\n",
       "        [5.04578325e-01, 7.38565110e-06, 4.95414289e-01],\n",
       "        [7.77636951e-01, 5.65151060e-05, 2.22306534e-01],\n",
       "        [9.51770786e-01, 2.51481970e-05, 4.82040662e-02]],\n",
       "\n",
       "       [[1.32995781e-01, 3.56550264e-03, 8.63438716e-01],\n",
       "        [1.83274906e-01, 1.97392214e-02, 7.96985873e-01],\n",
       "        [2.24031287e-02, 1.01476536e-02, 9.67449218e-01],\n",
       "        ...,\n",
       "        [1.13262186e-01, 6.77703193e-03, 8.79960783e-01],\n",
       "        [2.80962312e-01, 8.34699442e-02, 6.35567744e-01],\n",
       "        [6.62788828e-01, 7.15886315e-02, 2.65622540e-01]],\n",
       "\n",
       "       [[3.28124510e-01, 1.50401181e-03, 6.70371478e-01],\n",
       "        [4.18958667e-01, 7.71485677e-03, 5.73326477e-01],\n",
       "        [6.81806421e-02, 5.28016779e-03, 9.26539190e-01],\n",
       "        ...,\n",
       "        [2.89424467e-01, 2.96087118e-03, 7.07614662e-01],\n",
       "        [5.67325080e-01, 2.88166648e-02, 4.03858256e-01],\n",
       "        [8.73679950e-01, 1.61343297e-02, 1.10185721e-01]],\n",
       "\n",
       "       ...,\n",
       "\n",
       "       [[3.86438404e-01, 5.73481066e-05, 6.13504248e-01],\n",
       "        [4.84500121e-01, 2.88852951e-04, 5.15211026e-01],\n",
       "        [8.64865721e-02, 2.16851061e-04, 9.13296577e-01],\n",
       "        ...,\n",
       "        [3.44804632e-01, 1.14204599e-04, 6.55081164e-01],\n",
       "        [6.43164166e-01, 1.05769342e-03, 3.55778141e-01],\n",
       "        [9.10249786e-01, 5.44233628e-04, 8.92059808e-02]],\n",
       "\n",
       "       [[1.05365868e-02, 5.39037885e-04, 9.88924375e-01],\n",
       "        [1.56075128e-02, 3.20772518e-03, 9.81184762e-01],\n",
       "        [1.59704075e-03, 1.38041414e-03, 9.97022545e-01],\n",
       "        ...,\n",
       "        [8.81587067e-03, 1.00659842e-03, 9.90177531e-01],\n",
       "        [2.91803907e-02, 1.65428221e-02, 9.54276787e-01],\n",
       "        [1.42860083e-01, 2.94453161e-02, 8.27694601e-01]],\n",
       "\n",
       "       [[4.95867181e-01, 9.71245728e-03, 4.94420361e-01],\n",
       "        [5.72558266e-01, 4.50533988e-02, 3.82388335e-01],\n",
       "        [1.25578929e-01, 4.15579956e-02, 8.32863075e-01],\n",
       "        ...,\n",
       "        [4.47042803e-01, 1.95426997e-02, 5.33414498e-01],\n",
       "        [6.39194678e-01, 1.38738203e-01, 2.22067119e-01],\n",
       "        [8.76836805e-01, 6.91940116e-02, 5.39691832e-02]]])"
      ]
     },
     "execution_count": 16,
     "metadata": {},
     "output_type": "execute_result"
    }
   ],
   "source": [
    "# 3 dimension matrix\n",
    "expectative_matrix"
   ]
  },
  {
   "cell_type": "markdown",
   "metadata": {
    "id": "P-5mLuGX8hJJ"
   },
   "source": [
    "# PZ, PUZ, PPZ"
   ]
  },
  {
   "cell_type": "code",
   "execution_count": 17,
   "metadata": {
    "colab": {
     "base_uri": "https://localhost:8080/"
    },
    "id": "_SHcXJyy8hJJ",
    "outputId": "04cc40d9-8793-41fc-b7f2-db79d90b7488"
   },
   "outputs": [
    {
     "name": "stdout",
     "output_type": "stream",
     "text": [
      "PZ =  (3,)\n",
      "[0.25882161 0.01117412 0.73000427]\n",
      "suma = 1.0000000000000004\n",
      "P U|Z =  (975, 3)\n",
      "[[5.31015875e-04 3.44195023e-07 2.30256004e-04]\n",
      " [9.96042555e-05 4.60079663e-04 6.55196312e-04]\n",
      " [1.72921234e-03 1.19157944e-03 2.57741646e-03]\n",
      " ...\n",
      " [7.67773796e-04 3.05623163e-06 4.25293712e-04]\n",
      " [3.47952555e-05 1.24089191e-04 1.65989170e-03]\n",
      " [1.97172691e-03 9.22422023e-03 8.33861250e-04]]\n",
      "P P|Z =  (39, 3)\n",
      "[[5.27469217e+00 1.69645141e-01 5.56065237e+00]\n",
      " [7.02843449e-01 1.53265415e-01 3.99274021e-01]\n",
      " [7.92197136e-01 5.56544810e-01 6.27398576e+00]\n",
      " [4.15540665e-02 1.22462407e+00 2.66250393e-01]\n",
      " [2.23097589e-03 1.65380557e-02 3.46731549e-02]\n",
      " [9.38084933e-02 1.12078773e-02 6.07129354e-02]\n",
      " [9.96351941e-01 1.12703328e+00 8.29236658e-01]\n",
      " [5.45337050e-01 3.33543104e-01 1.10170521e+00]\n",
      " [8.49068234e-02 5.90481272e-03 1.39207176e-01]\n",
      " [1.02813326e+00 3.72281753e-01 2.06555982e-01]\n",
      " [8.81692311e-02 1.25929229e-02 1.87032531e-01]\n",
      " [5.54189558e-01 1.66010818e-01 3.31691567e-01]\n",
      " [1.57165529e-01 7.98904441e-02 6.80420936e-01]\n",
      " [3.42360528e-01 4.68788522e-01 2.17641038e-01]\n",
      " [5.83005360e-02 1.38104486e-02 9.22363133e-02]\n",
      " [3.70267574e-03 1.40200221e-06 8.57362573e-03]\n",
      " [9.27284685e-02 6.64673563e-02 5.41459422e-01]\n",
      " [6.68286759e-02 1.26540028e-02 2.76970472e-01]\n",
      " [1.48441394e-01 2.01201463e-02 1.28874294e-01]\n",
      " [4.69137887e-01 6.70355856e-02 7.43716316e-02]\n",
      " [3.52131158e-01 2.52623365e-02 2.53393225e-01]\n",
      " [6.46528117e-02 3.86493871e-03 1.05242809e-01]\n",
      " [5.56128964e-02 4.94180818e-03 1.75568232e-01]\n",
      " [3.09872416e-01 4.15309787e-02 1.37947007e-01]\n",
      " [1.75473204e-02 1.20636475e-02 2.43035949e-02]\n",
      " [6.13539610e-02 3.49558393e-02 1.05206002e-01]\n",
      " [2.97273779e-01 4.54739168e-02 2.70381766e-01]\n",
      " [1.17879870e-03 7.00538470e-04 1.77317206e-02]\n",
      " [4.60266643e-04 2.47050467e-06 1.55196507e-02]\n",
      " [9.31657294e-03 1.76637616e-02 2.17404611e-01]\n",
      " [7.86971913e-03 4.16664984e-04 2.47614481e-02]\n",
      " [3.86950155e-02 2.51477444e-04 7.98153595e-04]\n",
      " [6.82125748e-03 3.08590377e-03 2.51577913e-02]\n",
      " [1.85919410e-04 3.65071848e-06 1.56628092e-02]\n",
      " [7.39854770e-05 5.62917524e-06 7.84109504e-03]\n",
      " [6.51208276e-04 7.17881513e-05 1.01626875e-02]\n",
      " [6.43795381e-03 1.50040688e-03 7.06084336e-03]\n",
      " [8.70114370e-03 2.29420928e-02 2.03956151e-03]\n",
      " [4.70682108e-03 1.26030109e-03 9.81415577e-05]]\n"
     ]
    }
   ],
   "source": [
    "#pz\n",
    "print(\"PZ = \", maximization[0].shape)\n",
    "print(maximization[0])\n",
    "print(\"suma =\", maximization[0].sum())\n",
    "#puz\n",
    "print(\"P U|Z = \", maximization[1].shape)\n",
    "print(maximization[1])\n",
    "\n",
    "#ppz\n",
    "print(\"P P|Z = \", maximization[2].shape)\n",
    "print(maximization[2])"
   ]
  },
  {
   "cell_type": "code",
   "execution_count": 18,
   "metadata": {
    "colab": {
     "base_uri": "https://localhost:8080/"
    },
    "id": "_EkSXqb28hJK",
    "outputId": "b4cde474-b39a-45c8-a9c2-7660ae53e701"
   },
   "outputs": [
    {
     "data": {
      "text/plain": [
       "1.0"
      ]
     },
     "execution_count": 18,
     "metadata": {},
     "output_type": "execute_result"
    }
   ],
   "source": [
    "expectative_matrix[0,0,:].sum()"
   ]
  },
  {
   "cell_type": "markdown",
   "metadata": {
    "id": "HwREZ1gr8hJK"
   },
   "source": [
    "# AGRUPAMIENTO"
   ]
  },
  {
   "cell_type": "code",
   "execution_count": 19,
   "metadata": {
    "id": "K8cp_usA8hJK"
   },
   "outputs": [],
   "source": [
    "def info_cluster(labels_):\n",
    "    labels= pd.DataFrame()\n",
    "    labels[\"grups\"]= labels_\n",
    "    labels\n",
    "    quantity=  pd.DataFrame()\n",
    "    quantity[\"quantity\"]= labels.groupby(\"grups\").size()\n",
    "    return quantity"
   ]
  },
  {
   "cell_type": "code",
   "execution_count": 20,
   "metadata": {
    "id": "gL8oPT-08hJK"
   },
   "outputs": [],
   "source": [
    "def Cluster_K_Means(expectative_matrix, n_tasks, n_clusters):\n",
    "    #matriz_esperanza[:,:,0].shape\n",
    "    matrix_EM= expectative_matrix[:,:,n_tasks]\n",
    "    matrix_EM_transpose= np.transpose(expectative_matrix[:,:,n_tasks])\n",
    "    #Sesiones\n",
    "    sessions = np.dot(matrix_EM, matrix_EM_transpose )\n",
    "    #Sesiones\n",
    "    #Pagina\n",
    "    pages = np.dot(matrix_EM_transpose, matrix_EM )\n",
    "    #Pagina\n",
    "    #print paginas.shape\n",
    "    #DISTANCIA\n",
    "    sess = 1.0/(1+(0.5*sessions))\n",
    "    pags = 1.0/(1+(0.5*pages))\n",
    "    clustering_sessions = KMeans( n_clusters= n_clusters).fit(sessions)\n",
    "    clustering_pages = KMeans(n_clusters= n_clusters).fit(pages)\n",
    "    return clustering_sessions, clustering_pages, sess, pags\n",
    "\n"
   ]
  },
  {
   "cell_type": "code",
   "execution_count": 21,
   "metadata": {
    "id": "0zfnVM1N8hJL"
   },
   "outputs": [],
   "source": [
    "sessions, pages, matrix_sessions, matrix_pages = Cluster_K_Means(expectative_matrix, 0,3)"
   ]
  },
  {
   "cell_type": "code",
   "execution_count": 22,
   "metadata": {
    "colab": {
     "base_uri": "https://localhost:8080/"
    },
    "id": "VNsiBU2X8hJL",
    "outputId": "bb4bc8c2-0e49-44cc-9d4d-e55bb56ed60e"
   },
   "outputs": [
    {
     "name": "stdout",
     "output_type": "stream",
     "text": [
      "Info sessions cluster\n",
      "       quantity\n",
      "grups          \n",
      "0           368\n",
      "1           215\n",
      "2           392\n",
      "Info sessions pages\n",
      "       quantity\n",
      "grups          \n",
      "0            20\n",
      "1             5\n",
      "2            14\n"
     ]
    }
   ],
   "source": [
    "quantity_sessions = info_cluster(sessions.labels_)\n",
    "print(\"Info sessions cluster\")\n",
    "print(quantity_sessions)\n",
    "quantity_pages = info_cluster(pages.labels_)\n",
    "print(\"Info sessions pages\")\n",
    "print(quantity_pages)"
   ]
  },
  {
   "cell_type": "code",
   "execution_count": 23,
   "metadata": {
    "colab": {
     "base_uri": "https://localhost:8080/",
     "height": 295
    },
    "id": "yat7gawW8hJM",
    "outputId": "473d1adc-f5a9-4dc4-b09f-a39caa2d4b5a"
   },
   "outputs": [
    {
     "name": "stderr",
     "output_type": "stream",
     "text": [
      "<ipython-input-23-085dc24090ad>:8: UserWarning: color is redundantly defined by the 'color' keyword argument and the fmt string \"bx-\" (-> color='b'). The keyword argument will take precedence.\n",
      "  plt.plot(K, Sum_of_squared_distances, 'bx-' , color=\"yellow\")\n"
     ]
    },
    {
     "data": {
      "image/png": "[encoded data removed]",
      "text/plain": [
       "<Figure size 432x288 with 1 Axes>"
      ]
     },
     "metadata": {
      "needs_background": "light"
     },
     "output_type": "display_data"
    }
   ],
   "source": [
    "# Sessions\n",
    "# CALCULANDO CON INERTIA\n",
    "Sum_of_squared_distances = []\n",
    "K = range(1,8)\n",
    "for k in K:\n",
    "    km = KMeans(n_clusters=k).fit(matrix_sessions)\n",
    "    Sum_of_squared_distances.append(km.inertia_)\n",
    "plt.plot(K, Sum_of_squared_distances, 'bx-' , color=\"yellow\")\n",
    "plt.xlabel('K')\n",
    "plt.ylabel('Suma de distancias al cuadrado')\n",
    "plt.title('Metodo del elbow point para la mejor K - Sessions')\n",
    "plt.show()"
   ]
  },
  {
   "cell_type": "code",
   "execution_count": 24,
   "metadata": {
    "colab": {
     "base_uri": "https://localhost:8080/",
     "height": 295
    },
    "id": "05AFNFKH8hJM",
    "outputId": "d221c6cc-2da3-4127-9da9-6402274a023a"
   },
   "outputs": [
    {
     "name": "stderr",
     "output_type": "stream",
     "text": [
      "<ipython-input-24-7c2bf55fe5bc>:8: UserWarning: color is redundantly defined by the 'color' keyword argument and the fmt string \"bx-\" (-> color='b'). The keyword argument will take precedence.\n",
      "  plt.plot(K, Sum_of_squared_distances, 'bx-' , color=\"green\")\n"
     ]
    },
    {
     "data": {
      "image/png": "[encoded data removed]",
      "text/plain": [
       "<Figure size 432x288 with 1 Axes>"
      ]
     },
     "metadata": {
      "needs_background": "light"
     },
     "output_type": "display_data"
    }
   ],
   "source": [
    "# PAGES\n",
    "# CALCULANDO CON INERTIA\n",
    "Sum_of_squared_distances = []\n",
    "K = range(1,8)\n",
    "for k in K:\n",
    "    km = KMeans(n_clusters=k).fit(matrix_pages)\n",
    "    Sum_of_squared_distances.append(km.inertia_)\n",
    "plt.plot(K, Sum_of_squared_distances, 'bx-' , color=\"green\")\n",
    "plt.xlabel('K')\n",
    "plt.ylabel('Suma de distancias al cuadrado')\n",
    "plt.title('Metodo del elbow point para la mejor K - Pages')\n",
    "plt.show()"
   ]
  },
  {
   "cell_type": "markdown",
   "metadata": {
    "id": "1uwpbXyz-xrl"
   },
   "source": [
    "160300117 - Oregon Baltazar Jorge David\n",
    "\n",
    "160300153 - Vazquez Pompa Noe"
   ]
  }
 ],
 "metadata": {
  "colab": {
   "collapsed_sections": [],
   "name": "Mineria de uso web con PLSA Proyecto.ipynb",
   "provenance": []
  },
  "kernelspec": {
   "display_name": "Python 3",
   "language": "python",
   "name": "python3"
  },
  "language_info": {
   "codemirror_mode": {
    "name": "ipython",
    "version": 3
   },
   "file_extension": ".py",
   "mimetype": "text/x-python",
   "name": "python",
   "nbconvert_exporter": "python",
   "pygments_lexer": "ipython3",
   "version": "3.8.8"
  }
 },
 "nbformat": 4,
 "nbformat_minor": 4
}
