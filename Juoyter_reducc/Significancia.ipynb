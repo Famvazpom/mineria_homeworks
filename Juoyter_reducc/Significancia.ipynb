{
 "cells": [
  {
   "cell_type": "code",
   "execution_count": 1,
   "metadata": {},
   "outputs": [
    {
     "data": {
      "text/html": [
       "<table>\n",
       "<caption>A data.frame: 6 × 4</caption>\n",
       "<thead>\n",
       "\t<tr><th></th><th scope=col>TV</th><th scope=col>radio</th><th scope=col>newspaper</th><th scope=col>sales</th></tr>\n",
       "\t<tr><th></th><th scope=col>&lt;dbl&gt;</th><th scope=col>&lt;dbl&gt;</th><th scope=col>&lt;dbl&gt;</th><th scope=col>&lt;dbl&gt;</th></tr>\n",
       "</thead>\n",
       "<tbody>\n",
       "\t<tr><th scope=row>1</th><td>230.1</td><td>37.8</td><td>69.2</td><td>22.1</td></tr>\n",
       "\t<tr><th scope=row>2</th><td> 44.5</td><td>39.3</td><td>45.1</td><td>10.4</td></tr>\n",
       "\t<tr><th scope=row>3</th><td> 17.2</td><td>45.9</td><td>69.3</td><td> 9.3</td></tr>\n",
       "\t<tr><th scope=row>4</th><td>151.5</td><td>41.3</td><td>58.5</td><td>18.5</td></tr>\n",
       "\t<tr><th scope=row>5</th><td>180.8</td><td>10.8</td><td>58.4</td><td>12.9</td></tr>\n",
       "\t<tr><th scope=row>6</th><td>  8.7</td><td>48.9</td><td>75.0</td><td> 7.2</td></tr>\n",
       "</tbody>\n",
       "</table>\n"
      ],
      "text/latex": [
       "A data.frame: 6 × 4\n",
       "\\begin{tabular}{r|llll}\n",
       "  & TV & radio & newspaper & sales\\\\\n",
       "  & <dbl> & <dbl> & <dbl> & <dbl>\\\\\n",
       "\\hline\n",
       "\t1 & 230.1 & 37.8 & 69.2 & 22.1\\\\\n",
       "\t2 &  44.5 & 39.3 & 45.1 & 10.4\\\\\n",
       "\t3 &  17.2 & 45.9 & 69.3 &  9.3\\\\\n",
       "\t4 & 151.5 & 41.3 & 58.5 & 18.5\\\\\n",
       "\t5 & 180.8 & 10.8 & 58.4 & 12.9\\\\\n",
       "\t6 &   8.7 & 48.9 & 75.0 &  7.2\\\\\n",
       "\\end{tabular}\n"
      ],
      "text/markdown": [
       "\n",
       "A data.frame: 6 × 4\n",
       "\n",
       "| <!--/--> | TV &lt;dbl&gt; | radio &lt;dbl&gt; | newspaper &lt;dbl&gt; | sales &lt;dbl&gt; |\n",
       "|---|---|---|---|---|\n",
       "| 1 | 230.1 | 37.8 | 69.2 | 22.1 |\n",
       "| 2 |  44.5 | 39.3 | 45.1 | 10.4 |\n",
       "| 3 |  17.2 | 45.9 | 69.3 |  9.3 |\n",
       "| 4 | 151.5 | 41.3 | 58.5 | 18.5 |\n",
       "| 5 | 180.8 | 10.8 | 58.4 | 12.9 |\n",
       "| 6 |   8.7 | 48.9 | 75.0 |  7.2 |\n",
       "\n"
      ],
      "text/plain": [
       "  TV    radio newspaper sales\n",
       "1 230.1 37.8  69.2      22.1 \n",
       "2  44.5 39.3  45.1      10.4 \n",
       "3  17.2 45.9  69.3       9.3 \n",
       "4 151.5 41.3  58.5      18.5 \n",
       "5 180.8 10.8  58.4      12.9 \n",
       "6   8.7 48.9  75.0       7.2 "
      ]
     },
     "metadata": {},
     "output_type": "display_data"
    }
   ],
   "source": [
    "dat <- read.csv(\"Advertising.csv\")\n",
    "head(dat)"
   ]
  },
  {
   "cell_type": "code",
   "execution_count": 2,
   "metadata": {},
   "outputs": [
    {
     "name": "stdout",
     "output_type": "stream",
     "text": [
      "'data.frame':\t200 obs. of  4 variables:\n",
      " $ TV       : num  230.1 44.5 17.2 151.5 180.8 ...\n",
      " $ radio    : num  37.8 39.3 45.9 41.3 10.8 48.9 32.8 19.6 2.1 2.6 ...\n",
      " $ newspaper: num  69.2 45.1 69.3 58.5 58.4 75 23.5 11.6 1 21.2 ...\n",
      " $ sales    : num  22.1 10.4 9.3 18.5 12.9 7.2 11.8 13.2 4.8 10.6 ...\n"
     ]
    }
   ],
   "source": [
    "str(dat)"
   ]
  },
  {
   "cell_type": "markdown",
   "metadata": {},
   "source": [
    "# Modelo generativo\n",
    "\n",
    "El modelo siguie siendo lineal. \n",
    "\n",
    "$$\\text{sales} = \\alpha_0+\\alpha_1 \\text{TV}+\\alpha_2\\text{radio}+\\alpha_3\\text{newspaper}+\\epsilon$$\n",
    "\n",
    "Cada $\\alpha_j$ es el verdadero coeficiente (desconocido) asociado la variable $x_j$ y $\\epsilon_i\\sim \\text{N}(0, \\sigma^2)$\n",
    "\n",
    "Bajo este modelo el coeficiente estimado de cada variable predictora sigue la distribución:\n",
    "\n",
    "$$\\widehat{\\alpha}_i \\sim \\text{N}[\\alpha_i, (X^TX)^{-1}\\sigma^2]$$\n",
    "\n",
    "Siendo $X$ la matriz de datos.\n"
   ]
  },
  {
   "cell_type": "code",
   "execution_count": 3,
   "metadata": {},
   "outputs": [
    {
     "data": {
      "text/plain": [
       "\n",
       "Call:\n",
       "lm(formula = sales ~ TV + radio + newspaper, data = dat)\n",
       "\n",
       "Residuals:\n",
       "    Min      1Q  Median      3Q     Max \n",
       "-8.8277 -0.8908  0.2418  1.1893  2.8292 \n",
       "\n",
       "Coefficients:\n",
       "             Estimate Std. Error t value Pr(>|t|)    \n",
       "(Intercept)  2.938889   0.311908   9.422   <2e-16 ***\n",
       "TV           0.045765   0.001395  32.809   <2e-16 ***\n",
       "radio        0.188530   0.008611  21.893   <2e-16 ***\n",
       "newspaper   -0.001037   0.005871  -0.177     0.86    \n",
       "---\n",
       "Signif. codes:  0 '***' 0.001 '**' 0.01 '*' 0.05 '.' 0.1 ' ' 1\n",
       "\n",
       "Residual standard error: 1.686 on 196 degrees of freedom\n",
       "Multiple R-squared:  0.8972,\tAdjusted R-squared:  0.8956 \n",
       "F-statistic: 570.3 on 3 and 196 DF,  p-value: < 2.2e-16\n"
      ]
     },
     "metadata": {},
     "output_type": "display_data"
    }
   ],
   "source": [
    "r <- lm(sales~TV+radio+newspaper, data = dat)\n",
    "summary(r)"
   ]
  },
  {
   "cell_type": "markdown",
   "metadata": {},
   "source": [
    "Modelo:\n",
    "\n",
    "$$\\text{sales} = 2.93+0.04576\\text{TV}+0.1885\\text{radio}$$"
   ]
  }
 ],
 "metadata": {
  "kernelspec": {
   "display_name": "R",
   "language": "R",
   "name": "ir"
  },
  "language_info": {
   "codemirror_mode": "r",
   "file_extension": ".r",
   "mimetype": "text/x-r-source",
   "name": "R",
   "pygments_lexer": "r",
   "version": "4.0.3"
  }
 },
 "nbformat": 4,
 "nbformat_minor": 2
}
