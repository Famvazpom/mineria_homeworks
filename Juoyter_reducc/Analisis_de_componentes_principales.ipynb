{
 "cells": [
  {
   "cell_type": "code",
   "execution_count": 1,
   "metadata": {},
   "outputs": [],
   "source": [
    "from sklearn.datasets import load_digits\n",
    "from random import randint\n",
    "import numpy as np\n",
    "import matplotlib.pyplot as plt\n",
    "from matplotlib.image import BboxImage\n",
    "from matplotlib.transforms import Bbox, TransformedBbox\n",
    "%matplotlib inline"
   ]
  },
  {
   "cell_type": "code",
   "execution_count": null,
   "metadata": {},
   "outputs": [],
   "source": []
  },
  {
   "cell_type": "markdown",
   "metadata": {},
   "source": [
    "# Análisis de componentes principales\n",
    "\n",
    "En muchas aplicaciones, la dimensionalidad de los datos puede ser  muy alta, dificultando la aplicación de cualquier método de aprendizaje. El procesamiento de señales [audio, imágenes o vídeo] es un área en la que este problema es frecuente. \n",
    "\n",
    "El **análisis de componentes principales** es una metodología que permite reducir la dimensionalidad de las observaciones preservando la mayor cantidad de información. \n",
    "\n",
    "Considera los siguientes datos:"
   ]
  },
  {
   "cell_type": "code",
   "execution_count": 2,
   "metadata": {},
   "outputs": [
    {
     "data": {
      "image/png": "[encoded data removed]",
      "text/plain": [
       "<Figure size 432x288 with 1 Axes>"
      ]
     },
     "metadata": {
      "needs_background": "light"
     },
     "output_type": "display_data"
    }
   ],
   "source": [
    "n = 100\n",
    "\n",
    "np.random.seed(123)\n",
    "x = 5+5*(2*np.random.uniform(size=n)-1)\n",
    "y = x+np.random.normal(size=n)\n",
    "\n",
    "X = np.column_stack((x,y))\n",
    "fig = plt.figure()\n",
    "ax = fig.add_subplot(111)\n",
    "plt.plot(x,y,'b.')\n",
    "plt.xlabel(\"$x_1$\")\n",
    "plt.ylabel(\"$x_2$\")\n",
    "ax.set_aspect('equal')\n",
    "plt.show()"
   ]
  },
  {
   "cell_type": "markdown",
   "metadata": {},
   "source": [
    "Cada observación tiene una dimensionalidad de **dos**, sin embargo, es posible observar que las observaciones pueden proyectarse sobre una línea recta sin **perder mucha información**. Al proyectar los datos sobre la recta, reducimos la dimensionalidad a uno.  \n",
    "\n",
    "Por simplicidad, para realizar la proyección centramos las observaciones en el origen, restando la media de cada componente:"
   ]
  },
  {
   "cell_type": "code",
   "execution_count": 3,
   "metadata": {},
   "outputs": [
    {
     "data": {
      "text/plain": [
       "array([5.0142888 , 5.04932857])"
      ]
     },
     "execution_count": 3,
     "metadata": {},
     "output_type": "execute_result"
    }
   ],
   "source": [
    "#media por columnas\n",
    "mx = np.mean(X, axis=0)\n",
    "mx"
   ]
  },
  {
   "cell_type": "code",
   "execution_count": 4,
   "metadata": {},
   "outputs": [
    {
     "data": {
      "image/png": "[encoded data removed]",
      "text/plain": [
       "<Figure size 432x288 with 1 Axes>"
      ]
     },
     "metadata": {
      "needs_background": "light"
     },
     "output_type": "display_data"
    }
   ],
   "source": [
    "#centramos los datos en el origen\n",
    "Xc = X-mx\n",
    "\n",
    "fig = plt.figure()\n",
    "ax = fig.add_subplot(111)\n",
    "plt.plot(Xc[:,0],Xc[:,1],'b.')\n",
    "plt.xlabel(\"$x_1$\")\n",
    "plt.ylabel(\"$x_2$\")\n",
    "ax.set_aspect('equal')\n",
    "plt.show()"
   ]
  },
  {
   "cell_type": "markdown",
   "metadata": {},
   "source": [
    "## Transformación de variables\n",
    "\n",
    "La idea del **análisis de componentes principales** es la de construir nuevas variables a partir de una transformación lineal de las originales. \n",
    "\n",
    "Las nuevas variables definen un nuevo sistema de ejes coordenados.\n",
    "\n",
    "Observa en la siguiente celda algunas transformaciones lineales y su interpretación geométrica.\n"
   ]
  },
  {
   "cell_type": "code",
   "execution_count": 5,
   "metadata": {},
   "outputs": [
    {
     "data": {
      "image/png": "[encoded data removed]",
      "text/plain": [
       "<Figure size 432x288 with 1 Axes>"
      ]
     },
     "metadata": {
      "needs_background": "light"
     },
     "output_type": "display_data"
    }
   ],
   "source": [
    "#variables originales\n",
    "x1 = np.array([1,0])\n",
    "x2 = np.array([0,1])\n",
    "\n",
    "#variables transformadas (ejemplos arbitrarios)\n",
    "x1t = x1-2*x2\n",
    "x1t = x1t/np.linalg.norm(x1t)\n",
    "\n",
    "x2t = 2*x1+5*x2\n",
    "x2t = x2t/np.linalg.norm(x2t)\n",
    "\n",
    "fig = plt.figure()\n",
    "ax = fig.add_subplot(111)\n",
    "\n",
    "plt.plot(Xc[:,0],Xc[:,1],'b.')\n",
    "plt.arrow(0,0,3*x1t[0],3*x1t[1], width=0.15, color=\"r\")\n",
    "plt.arrow(0,0,3*x2t[0],3*x2t[1], width=0.15, color=\"r\")\n",
    "\n",
    "plt.arrow(0,0,3*x1[0],3*x1[1], width=0.15, color=\"b\")\n",
    "plt.arrow(0,0,3*x2[0],3*x2[1], width=0.15, color=\"b\")\n",
    "\n",
    "plt.xlabel(\"$x_1$\")\n",
    "plt.ylabel(\"$x_2$\")\n",
    "\n",
    "ax.set_aspect('equal')\n",
    "\n",
    "plt.show()"
   ]
  },
  {
   "cell_type": "markdown",
   "metadata": {},
   "source": [
    "### Ortogonalidad\n",
    "\n",
    "Las nuevas variables deben ser ortogonales entre sí (para formar nuevos ejes de coordenadas):"
   ]
  },
  {
   "cell_type": "code",
   "execution_count": 6,
   "metadata": {},
   "outputs": [
    {
     "data": {
      "image/png": "[encoded data removed]",
      "text/plain": [
       "<Figure size 432x288 with 1 Axes>"
      ]
     },
     "metadata": {
      "needs_background": "light"
     },
     "output_type": "display_data"
    }
   ],
   "source": [
    "#variables originales\n",
    "x1 = np.array([1,0])\n",
    "x2 = np.array([0,1])\n",
    "\n",
    "#variables transformadas (ejemplos arbitrarios)\n",
    "x1t = np.array([2,-1])\n",
    "x1t = x1t/np.linalg.norm(x1t)\n",
    "\n",
    "x2t = np.array([x1t[1],-x1t[0]])\n",
    "x2t = x2t/np.linalg.norm(x2t)\n",
    "\n",
    "fig = plt.figure()\n",
    "ax = fig.add_subplot(111)\n",
    "\n",
    "\n",
    "plt.plot(Xc[:,0],Xc[:,1],'b.')\n",
    "plt.arrow(0,0,3*x1t[0],3*x1t[1], width=0.15, color=\"r\")\n",
    "plt.arrow(0,0,3*x2t[0],3*x2t[1], width=0.15, color=\"r\")\n",
    "plt.arrow(0,0,3*x1[0],3*x1[1], width=0.15, color=\"b\")\n",
    "plt.arrow(0,0,3*x2[0],3*x2[1], width=0.15, color=\"b\")\n",
    "plt.xlabel(\"$x_1$\")\n",
    "plt.ylabel(\"$x_2$\")\n",
    "\n",
    "ax.set_aspect('equal')\n",
    "\n",
    "plt.show()"
   ]
  },
  {
   "cell_type": "markdown",
   "metadata": {},
   "source": [
    "### Maximización de la varianza\n",
    "\n",
    "Además, vamos a elegir las direcciones de los nuevos ejes de manera que la varianza proyectada sobre ellos se maximice:"
   ]
  },
  {
   "cell_type": "code",
   "execution_count": 7,
   "metadata": {},
   "outputs": [
    {
     "data": {
      "image/png": "[encoded data removed]",
      "text/plain": [
       "<Figure size 432x288 with 1 Axes>"
      ]
     },
     "metadata": {
      "needs_background": "light"
     },
     "output_type": "display_data"
    }
   ],
   "source": [
    "#variables originales\n",
    "x1 = np.array([1,0])\n",
    "x2 = np.array([0,1])\n",
    "\n",
    "#variables transformadas (ejemplos arbitrarios)\n",
    "x1t = np.array([1,1])\n",
    "x1t = x1t/np.linalg.norm(x1t)\n",
    "\n",
    "x2t = np.array([-x1t[1],x1t[0]])\n",
    "x2t = x2t/np.linalg.norm(x2t)\n",
    "\n",
    "fig = plt.figure()\n",
    "ax = fig.add_subplot(111)\n",
    "plt.plot(Xc[:,0],Xc[:,1],'b.')\n",
    "plt.arrow(0,0,3*x1t[0],3*x1t[1], width=0.15, color=\"r\")\n",
    "plt.arrow(0,0,3*x2t[0],3*x2t[1], width=0.15, color=\"r\")\n",
    "plt.arrow(0,0,3*x1[0],3*x1[1], width=0.15, color=\"b\")\n",
    "plt.arrow(0,0,3*x2[0],3*x2[1], width=0.15, color=\"b\")\n",
    "plt.xlabel(\"$x_1$\")\n",
    "plt.ylabel(\"$x_2$\")\n",
    "ax.set_aspect('equal')\n",
    "plt.show()"
   ]
  },
  {
   "cell_type": "markdown",
   "metadata": {},
   "source": [
    "A los nuevos ejes coordenados se les llama **componentes principales**."
   ]
  },
  {
   "cell_type": "markdown",
   "metadata": {},
   "source": [
    "## Matriz de covarianza\n",
    "\n",
    "El proceso para obtener las componentes principales se basa en la evaluación de la la matriz de covarianza de los datos centrados, la cual contiene **toda** la información de los datos originales:\n",
    "\n",
    "$$C = (X-\\mu_X)^{T}(X-\\mu_X)/(N-1)$$\n",
    "\n",
    "En la siguiente celda mostramos cómo evaluarla para los datos del ejemplo."
   ]
  },
  {
   "cell_type": "code",
   "execution_count": 8,
   "metadata": {},
   "outputs": [
    {
     "data": {
      "text/plain": [
       "array([[6.08199754, 5.91836354],\n",
       "       [5.91836354, 6.72596256]])"
      ]
     },
     "execution_count": 8,
     "metadata": {},
     "output_type": "execute_result"
    }
   ],
   "source": [
    "C = np.dot(np.transpose(X-mx), X-mx)/99\n",
    "C"
   ]
  },
  {
   "cell_type": "markdown",
   "metadata": {},
   "source": [
    "## Vectores y valores propios\n",
    "\n",
    "La obtención de las componentes principales se basa en los valores y vectores propios de la matriz de covarianza:"
   ]
  },
  {
   "cell_type": "code",
   "execution_count": 9,
   "metadata": {},
   "outputs": [
    {
     "name": "stdout",
     "output_type": "stream",
     "text": [
      "[ 0.47686442 12.33109568]\n",
      "[[-0.7260591 -0.6876323]\n",
      " [ 0.6876323 -0.7260591]]\n"
     ]
    }
   ],
   "source": [
    "l, v = np.linalg.eig(C)\n",
    "print(l)\n",
    "print(v)"
   ]
  },
  {
   "cell_type": "markdown",
   "metadata": {},
   "source": [
    "Con la descomposición hemos obtenido un vector de **valores propios**, $$\\lambda = [\\lambda_1, \\lambda_2]$$ \n",
    "\n",
    "Observa que $\\lambda_1 = 0.477$ y $\\lambda_2 = 12.33 $\n",
    "\n",
    "y una matriz cuyas columnas son los **vectores propios** de la matriz de covarianza:\n",
    "\n",
    "$$V = [\\vec{v_1} \\;\\;\\; \\vec{v_2}]$$\n",
    "\n",
    "Observa que $$\\vec{v_1} = [-0.726, \\; 0.688]$$ y que $$\\vec{v_2} = [-0.688, \\; -0.726]$$\n",
    "\n",
    "Recuerda que los valores y vectores propios de la matriz de covarianza tienen la siguiente propiedad:\n",
    "\n",
    "\\begin{align}\n",
    "    Cv_1 &= \\lambda_1v_1\\\\\n",
    "    Cv_2 &= \\lambda_2v_2\n",
    "\\end{align}\n",
    "\n",
    "como puedes verificarlo en la siguiente celda"
   ]
  },
  {
   "cell_type": "code",
   "execution_count": 10,
   "metadata": {},
   "outputs": [
    {
     "name": "stdout",
     "output_type": "stream",
     "text": [
      "[[-0.34623175]\n",
      " [ 0.32790738]]\n",
      "[[-0.34623175]\n",
      " [ 0.32790738]]\n",
      "##################\n",
      "[[-8.47925968]\n",
      " [-8.95310427]]\n",
      "[[-8.47925968]\n",
      " [-8.95310427]]\n"
     ]
    }
   ],
   "source": [
    "l1 = l[0]\n",
    "l2 = l[1]\n",
    "v1 = np.asmatrix(v[:,0])\n",
    "v2 = np.asmatrix(v[:,1])\n",
    "\n",
    "\n",
    "print(np.dot(C,np.transpose(v1)))\n",
    "print(np.transpose(l1*v1))\n",
    "\n",
    "print(\"##################\")\n",
    "print(np.dot(C,np.transpose(v2)))\n",
    "print(np.transpose(l2*v2))\n"
   ]
  },
  {
   "cell_type": "markdown",
   "metadata": {},
   "source": [
    "Más aún, podemos verificar en la siguiente celda que la matriz de covarianza se puede reconstruir como \n",
    "\n",
    "$$C = \\lambda_1 v_1^{T}v_1+\\lambda_2v_2^{T}v_2$$"
   ]
  },
  {
   "cell_type": "code",
   "execution_count": 11,
   "metadata": {},
   "outputs": [
    {
     "name": "stdout",
     "output_type": "stream",
     "text": [
      "[[6.08199754 5.91836354]\n",
      " [5.91836354 6.72596256]]\n",
      "###############\n",
      "[[6.08199754 5.91836354]\n",
      " [5.91836354 6.72596256]]\n"
     ]
    }
   ],
   "source": [
    "print(l[0]*np.dot(np.transpose(v1),v1)+l[1]*np.dot(np.transpose(v2),v2))\n",
    "print(\"###############\")\n",
    "print(C)"
   ]
  },
  {
   "cell_type": "markdown",
   "metadata": {},
   "source": [
    "Observa que $\\lambda_2$ es mucho mayor que $\\lambda_1$:"
   ]
  },
  {
   "cell_type": "code",
   "execution_count": 12,
   "metadata": {},
   "outputs": [
    {
     "data": {
      "text/plain": [
       "25.858703491749086"
      ]
     },
     "execution_count": 12,
     "metadata": {},
     "output_type": "execute_result"
    }
   ],
   "source": [
    "l[1]/l[0]"
   ]
  },
  {
   "cell_type": "markdown",
   "metadata": {},
   "source": [
    "Esto significa que podemos aproximar la matriz original solamente con el segundo vector y valor propio:"
   ]
  },
  {
   "cell_type": "markdown",
   "metadata": {},
   "source": [
    "\\begin{align}\n",
    "    C &= \\lambda_1 v_1^{T}v_1+\\lambda_2v_2^{T}v_2\\\\\n",
    "    \\color{red}{C }&\\color{red}{\\approx \\lambda_2v_2^{T}v_2}\\\\\n",
    "\\end{align}"
   ]
  },
  {
   "cell_type": "code",
   "execution_count": 13,
   "metadata": {},
   "outputs": [
    {
     "name": "stdout",
     "output_type": "stream",
     "text": [
      "[[5.83061283 6.15644367]\n",
      " [6.15644367 6.50048285]]\n",
      "###############\n",
      "[[6.08199754 5.91836354]\n",
      " [5.91836354 6.72596256]]\n"
     ]
    }
   ],
   "source": [
    "print(l[1]*np.dot(np.transpose(v2),v2))\n",
    "print(\"###############\")\n",
    "print(C)"
   ]
  },
  {
   "cell_type": "markdown",
   "metadata": {},
   "source": [
    "<font color=\"red\">Los valores propios son proporcionales a la información que proyecta la matriz de covarianza en la dirección del vector propio correspondiente</font>"
   ]
  },
  {
   "cell_type": "markdown",
   "metadata": {},
   "source": [
    "## Gráfica de los vectores propios\n",
    "Podemos graficar un par de segmentos de recta con la dirección de los vectores propios de la matriz, escalados por su respectivo valor propio."
   ]
  },
  {
   "cell_type": "code",
   "execution_count": 14,
   "metadata": {},
   "outputs": [
    {
     "data": {
      "image/png": "[encoded data removed]",
      "text/plain": [
       "<Figure size 432x288 with 1 Axes>"
      ]
     },
     "metadata": {
      "needs_background": "light"
     },
     "output_type": "display_data"
    }
   ],
   "source": [
    "#variables originales\n",
    "x1 = np.array([1,0])\n",
    "x2 = np.array([0,1])\n",
    "\n",
    "#variables transformadas (componentes principales)\n",
    "x1t = np.array([v1[0,0],v1[0,1]])\n",
    "x2t = np.array([v2[0,0],v2[0,1]])\n",
    "\n",
    "fig = plt.figure()\n",
    "ax = fig.add_subplot(111)\n",
    "plt.plot(Xc[:,0],Xc[:,1],'b.')\n",
    "plt.arrow(0,0,7*x1t[0]*l[0]/l[1],7*x1t[1]*l[0]/l[1], width=0.1, color=\"r\")\n",
    "plt.arrow(0,0,7*x2t[0],7*x2t[1], width=0.1, color=\"r\")\n",
    "plt.xlabel(\"$x_1$\")\n",
    "plt.ylabel(\"$x_2$\")\n",
    "ax.set_aspect('equal')\n",
    "plt.show()"
   ]
  },
  {
   "cell_type": "markdown",
   "metadata": {},
   "source": [
    "La primera componente principal recibe solamente el $3.7\\%$ de la información del conjunto original, mientras que la segunda el $96.3\\%$."
   ]
  },
  {
   "cell_type": "code",
   "execution_count": 15,
   "metadata": {},
   "outputs": [
    {
     "data": {
      "text/plain": [
       "0.9627681209442147"
      ]
     },
     "execution_count": 15,
     "metadata": {},
     "output_type": "execute_result"
    }
   ],
   "source": [
    "l[1]/(l[0]+l[1])"
   ]
  },
  {
   "cell_type": "markdown",
   "metadata": {},
   "source": [
    "Dado que la mayor cantidad de información se proyecta en la segunda componente principal, podemos olvidarnos de la primera."
   ]
  },
  {
   "cell_type": "code",
   "execution_count": 16,
   "metadata": {},
   "outputs": [
    {
     "data": {
      "image/png": "[encoded data removed]",
      "text/plain": [
       "<Figure size 432x288 with 1 Axes>"
      ]
     },
     "metadata": {
      "needs_background": "light"
     },
     "output_type": "display_data"
    }
   ],
   "source": [
    "#variables originales\n",
    "x1 = np.array([1,0])\n",
    "x2 = np.array([0,1])\n",
    "\n",
    "#variables transformadas (componentes principales)\n",
    "x2t = np.array([v2[0,0],v2[0,1]])\n",
    "\n",
    "fig = plt.figure()\n",
    "ax = fig.add_subplot(111)\n",
    "plt.plot(Xc[:,0],Xc[:,1],'b.')\n",
    "plt.arrow(0,0,7*x2t[0],7*x2t[1], width=0.1, color=\"r\")\n",
    "plt.xlabel(\"$x_1$\")\n",
    "plt.ylabel(\"$x_2$\")\n",
    "ax.set_aspect('equal')\n",
    "plt.show()"
   ]
  },
  {
   "cell_type": "markdown",
   "metadata": {},
   "source": [
    "Debemos proyectar los datos sobre esta componente para que se representen con una sola dimensión. Eso lo logramos multiplicando:\n",
    "\n",
    "$$X' = Xv_2^T$$\n",
    "\n",
    "Observa que los puntos transformados tienen una dimensión de 1 (se encuentran sobre una recta)"
   ]
  },
  {
   "cell_type": "code",
   "execution_count": 17,
   "metadata": {},
   "outputs": [
    {
     "data": {
      "text/plain": [
       "(100, 1)"
      ]
     },
     "execution_count": 17,
     "metadata": {},
     "output_type": "execute_result"
    }
   ],
   "source": [
    "Xp = np.dot(Xc, np.transpose(v2))\n",
    "Xp.shape"
   ]
  },
  {
   "cell_type": "markdown",
   "metadata": {},
   "source": [
    "Visualizamos las proyecciones"
   ]
  },
  {
   "cell_type": "code",
   "execution_count": 18,
   "metadata": {},
   "outputs": [],
   "source": [
    "Xt = np.dot(Xp, v2)"
   ]
  },
  {
   "cell_type": "code",
   "execution_count": 19,
   "metadata": {},
   "outputs": [
    {
     "data": {
      "image/png": "[encoded data removed]",
      "text/plain": [
       "<Figure size 432x288 with 1 Axes>"
      ]
     },
     "metadata": {
      "needs_background": "light"
     },
     "output_type": "display_data"
    }
   ],
   "source": [
    "#variables originales\n",
    "x1 = np.array([1,0])\n",
    "x2 = np.array([0,1])\n",
    "\n",
    "#variables transformadas (componentes principales)\n",
    "x2t = np.array([v2[0,0],v2[0,1]])\n",
    "\n",
    "fig = plt.figure()\n",
    "ax = fig.add_subplot(111)\n",
    "l = 100\n",
    "plt.plot(Xc[:l,0],Xc[:l,1],'b.')\n",
    "plt.plot(Xt[:l,0],Xt[:l,1],'r.')\n",
    "\n",
    "for i in range(l):\n",
    "    plt.arrow(Xc[i,0],Xc[i,1],Xt[i,0]-Xc[i,0],Xt[i,1]-Xc[i,1], color=\"g\", alpha=0.25)    \n",
    "\n",
    "plt.xlabel(\"$x_1$\")\n",
    "plt.ylabel(\"$x_2$\")\n",
    "ax.set_aspect('equal')\n",
    "plt.show()"
   ]
  },
  {
   "cell_type": "markdown",
   "metadata": {},
   "source": [
    "# Conjunto de dígitos manuscritos"
   ]
  },
  {
   "cell_type": "code",
   "execution_count": 20,
   "metadata": {},
   "outputs": [
    {
     "name": "stdout",
     "output_type": "stream",
     "text": [
      "1797\n",
      "64\n"
     ]
    }
   ],
   "source": [
    "[digits,labs] = load_digits(return_X_y=True)\n",
    "[N,d] = digits.shape # número de datos y dimensionalidad\n",
    "print(N) #número de datos\n",
    "print(d) #dimensionalidad"
   ]
  },
  {
   "cell_type": "markdown",
   "metadata": {},
   "source": [
    "## Visualización de algunos datos"
   ]
  },
  {
   "cell_type": "code",
   "execution_count": 21,
   "metadata": {},
   "outputs": [
    {
     "name": "stdout",
     "output_type": "stream",
     "text": [
      "[[ 0.  0.  1. 14.  2.  0.  0.  0.]\n",
      " [ 0.  0.  0. 16.  5.  0.  0.  0.]\n",
      " [ 0.  0.  0. 14. 10.  0.  0.  0.]\n",
      " [ 0.  0.  0. 11. 16.  1.  0.  0.]\n",
      " [ 0.  0.  0.  3. 14.  6.  0.  0.]\n",
      " [ 0.  0.  0.  0.  8. 12.  0.  0.]\n",
      " [ 0.  0. 10. 14. 13. 16.  8.  3.]\n",
      " [ 0.  0.  2. 11. 12. 15. 16. 15.]]\n",
      "1\n"
     ]
    },
    {
     "data": {
      "image/png": "[encoded data removed]",
      "text/plain": [
       "<Figure size 432x288 with 1 Axes>"
      ]
     },
     "metadata": {
      "needs_background": "light"
     },
     "output_type": "display_data"
    }
   ],
   "source": [
    "#elige aleatoriamente algún dato y lo visualiza\n",
    "n = randint(0,N)\n",
    "\n",
    "plt.imshow(np.reshape(digits[n],(8,8)), cmap='gray')\n",
    "\n",
    "print(np.reshape(digits[n],(8,8)))\n",
    "print(labs[n])\n",
    "plt.show()"
   ]
  },
  {
   "cell_type": "markdown",
   "metadata": {},
   "source": [
    "## Descomposición en componentes principales"
   ]
  },
  {
   "cell_type": "markdown",
   "metadata": {},
   "source": [
    "* El objetivo de este método es describir la variación en un conjunto de variables correlacionadas:\n",
    "$x_1, x_2, x_3, \\cdots , x_d$ en términos de nuevas variables independientes $s_1, s_2, s_3, \\cdots , s_d$\n",
    "\n",
    "* Las nuevas variables están ordenadas decrecientemente de acuerdo a la importancia de cada una de ellas \n",
    "* La primera variable, $s_1$, busca explicar la mayor cantidad de variación en los datos originales considerando todas las posibles combinaciones lineales de las variables originales. \n",
    "* La variable $s_2$, se determina buscando explicar el mayor porcentaje de la variación aún no explicada por $s_1$ condicionada a ser independiente de $s_1$   \n",
    "* El proceso continúa para determinar $s_3, s_4, \\cdots, s_d$"
   ]
  },
  {
   "cell_type": "code",
   "execution_count": 22,
   "metadata": {},
   "outputs": [],
   "source": [
    "from sklearn.decomposition import PCA"
   ]
  },
  {
   "cell_type": "markdown",
   "metadata": {},
   "source": [
    "### Selecciona solamente a los datos correspondientes al 1 y al 9"
   ]
  },
  {
   "cell_type": "code",
   "execution_count": 23,
   "metadata": {},
   "outputs": [],
   "source": [
    "d1 = 1\n",
    "d2 = 9\n",
    "ind_d1 = labs == d1\n",
    "ind_d2 = labs == d2\n",
    "dig1 = digits[ind_d1]\n",
    "dig2 = digits[ind_d2]\n",
    "dat = np.vstack((dig1,dig2))\n",
    "lab1 = labs[ind_d1]\n",
    "lab2 = labs[ind_d2]\n",
    "nlabs = np.concatenate((lab1,lab2))"
   ]
  },
  {
   "cell_type": "code",
   "execution_count": 24,
   "metadata": {},
   "outputs": [
    {
     "data": {
      "text/plain": [
       "PCA(n_components=2)"
      ]
     },
     "execution_count": 24,
     "metadata": {},
     "output_type": "execute_result"
    }
   ],
   "source": [
    "pca = PCA(n_components=2) #proyecta a un espacio de dos componentes solamente para visualizar\n",
    "pca.fit(dat)"
   ]
  },
  {
   "cell_type": "markdown",
   "metadata": {},
   "source": [
    "### Proyecta los datos"
   ]
  },
  {
   "cell_type": "code",
   "execution_count": 33,
   "metadata": {},
   "outputs": [
    {
     "data": {
      "image/png": "[encoded data removed]",
      "text/plain": [
       "<Figure size 864x720 with 1 Axes>"
      ]
     },
     "metadata": {
      "needs_background": "light"
     },
     "output_type": "display_data"
    }
   ],
   "source": [
    "dat_proy = pca.transform(dat)\n",
    "\n",
    "ind1 = nlabs == d1\n",
    "ind2 = nlabs == d2\n",
    "\n",
    "dig1_proy = dat_proy[ind1]\n",
    "dig2_proy = dat_proy[ind2]\n",
    "\n",
    "#grafica las proyecciones de cada dato\n",
    "fig = plt.figure(figsize=(12, 10))\n",
    "ax = fig.add_subplot(111)\n",
    "\n",
    "plt.plot(dig1_proy[:,0],dig1_proy[:,1],'r.')\n",
    "plt.plot(dig2_proy[:,0],dig2_proy[:,1],'b.')\n",
    "\n",
    "#selecciona aleatoriamente algunos datos y despliega sus imágenes\n",
    "\n",
    "[N,d] = dat_proy.shape\n",
    "for i in range(10):\n",
    "    n = randint(0,N-1)\n",
    "    x = dat_proy[n,0]\n",
    "    y = dat_proy[n,1]\n",
    "    bb = Bbox.from_bounds(x,y,5,5)  \n",
    "    bb2 = TransformedBbox(bb,ax.transData)\n",
    "    bbox_image = BboxImage(bb2, norm = None, origin=None, clip_on=False)\n",
    "    im = np.reshape(dat[n],(8,8))\n",
    "    bbox_image.set_data(im)\n",
    "    ax.add_artist(bbox_image)\n",
    "    \n",
    "plt.show()"
   ]
  },
  {
   "cell_type": "code",
   "execution_count": null,
   "metadata": {},
   "outputs": [],
   "source": []
  },
  {
   "cell_type": "code",
   "execution_count": 26,
   "metadata": {},
   "outputs": [
    {
     "data": {
      "image/png": "[encoded data removed]",
      "text/plain": [
       "<Figure size 432x288 with 2 Axes>"
      ]
     },
     "metadata": {
      "needs_background": "light"
     },
     "output_type": "display_data"
    }
   ],
   "source": [
    "#visualizamos las dos componentes principales\n",
    "c = pca.components_\n",
    "\n",
    "plt.subplot(121)\n",
    "plt.imshow(np.reshape(c[0],(8,8)), cmap='gray')\n",
    "plt.subplot(122)\n",
    "plt.imshow(np.reshape(c[1],(8,8)), cmap='gray')\n",
    "plt.show()"
   ]
  },
  {
   "cell_type": "markdown",
   "metadata": {},
   "source": [
    "## Elección del número de componentes"
   ]
  },
  {
   "cell_type": "code",
   "execution_count": 27,
   "metadata": {},
   "outputs": [
    {
     "data": {
      "text/plain": [
       "PCA(n_components=64)"
      ]
     },
     "execution_count": 27,
     "metadata": {},
     "output_type": "execute_result"
    }
   ],
   "source": [
    "pca = PCA(n_components=64) #proyecta a un espacio de 64 componentes\n",
    "pca.fit(digits) #tiene a todos los digitos"
   ]
  },
  {
   "cell_type": "markdown",
   "metadata": {},
   "source": [
    "### Varianza explicada por cada componente"
   ]
  },
  {
   "cell_type": "code",
   "execution_count": 28,
   "metadata": {},
   "outputs": [
    {
     "name": "stdout",
     "output_type": "stream",
     "text": [
      "[1.48905936e+01 1.36187712e+01 1.17945938e+01 8.40997942e+00\n",
      " 5.78241466e+00 4.91691032e+00 4.31598701e+00 3.66137258e+00\n",
      " 3.35324810e+00 3.07880621e+00 2.37234084e+00 2.27269657e+00\n",
      " 1.82186331e+00 1.77385494e+00 1.46710109e+00 1.40971560e+00\n",
      " 1.31858920e+00 1.24813782e+00 1.01771796e+00 9.05617439e-01\n",
      " 8.89538461e-01 7.97123157e-01 7.67493255e-01 7.22903569e-01\n",
      " 6.95888851e-01 5.96081458e-01 5.75614688e-01 5.15157582e-01\n",
      " 4.89539777e-01 4.28887968e-01 3.73606048e-01 3.53274223e-01\n",
      " 3.36683986e-01 3.28029851e-01 3.08320884e-01 2.93778629e-01\n",
      " 2.56588609e-01 2.27742397e-01 2.22277922e-01 2.11430393e-01\n",
      " 1.89909062e-01 1.58652907e-01 1.51159934e-01 1.40578764e-01\n",
      " 1.16622290e-01 1.07492521e-01 9.64053065e-02 7.74630271e-02\n",
      " 5.57211553e-02 4.04330693e-02 2.09916327e-02 8.24797098e-03\n",
      " 5.25149980e-03 5.05243719e-03 3.29961363e-03 1.24365445e-03\n",
      " 7.04827911e-04 3.01432139e-04 1.06230800e-04 5.50074587e-05\n",
      " 3.42905702e-05 9.50687638e-32 9.50687638e-32 9.36179501e-32]\n"
     ]
    }
   ],
   "source": [
    "ev = pca.explained_variance_\n",
    "ev = 100*ev/np.sum(ev)\n",
    "print(ev)"
   ]
  },
  {
   "cell_type": "code",
   "execution_count": 29,
   "metadata": {},
   "outputs": [
    {
     "name": "stdout",
     "output_type": "stream",
     "text": [
      "[14.890593584063849, 28.509364823699322, 40.303958587675126, 48.713938008684316, 54.49635267268983, 59.41326298981382, 63.72925000063961, 67.39062257772366, 70.74387067569079, 73.82267688459534, 76.19501772859844, 78.46771429740801, 80.2895776104032, 82.06343254758511, 83.53053364037441, 84.94024924198311, 86.25883844271054, 87.50697626053609, 88.52469422085765, 89.43031165985265, 90.31985012037214, 91.11697327690571, 91.88446653146943, 92.60737010079615, 93.30325895169713, 93.89934040973574, 94.4749550980758, 94.99011267982517, 95.47965245651599, 95.90854042457175, 96.28214647289738, 96.63542069634704, 96.97210468188611, 97.30013453241378, 97.60845541651597, 97.90223404507296, 98.15882265392924, 98.3865650513623, 98.60884297347573, 98.82027336611436, 99.01018242795547, 99.16883533457255, 99.31999526903918, 99.46057403272029, 99.57719632305026, 99.68468884415466, 99.78109415065086, 99.85855717776015, 99.91427833305843, 99.95471140234797, 99.97570303506734, 99.98395100604513, 99.98920250584979, 99.99425494303962, 99.99755455666687, 99.99879821112063, 99.99950303903164, 99.99980447117099, 99.99991070197107, 99.99996570942979, 100.0, 100.0, 100.0, 100.0]\n"
     ]
    },
    {
     "data": {
      "text/plain": [
       "[<matplotlib.lines.Line2D at 0x7f31ace52e50>]"
      ]
     },
     "execution_count": 29,
     "metadata": {},
     "output_type": "execute_result"
    },
    {
     "data": {
      "image/png": "[encoded data removed]",
      "text/plain": [
       "<Figure size 432x288 with 1 Axes>"
      ]
     },
     "metadata": {
      "needs_background": "light"
     },
     "output_type": "display_data"
    }
   ],
   "source": [
    "### Varianza acumulada\n",
    "ac_va = []\n",
    "for i in range(len(ev)):\n",
    "    ac = np.sum(ev[:i+1])\n",
    "    ac_va.append(ac)\n",
    "print(ac_va)\n",
    "plt.plot(range(len(ev)),ac_va)"
   ]
  },
  {
   "cell_type": "code",
   "execution_count": null,
   "metadata": {},
   "outputs": [],
   "source": []
  }
 ],
 "metadata": {
  "kernelspec": {
   "display_name": "Python 3",
   "language": "python",
   "name": "python3"
  },
  "language_info": {
   "codemirror_mode": {
    "name": "ipython",
    "version": 3
   },
   "file_extension": ".py",
   "mimetype": "text/x-python",
   "name": "python",
   "nbconvert_exporter": "python",
   "pygments_lexer": "ipython3",
   "version": "3.9.1"
  }
 },
 "nbformat": 4,
 "nbformat_minor": 4
}
