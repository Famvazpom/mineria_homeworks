{
 "cells": [
  {
   "cell_type": "code",
   "execution_count": 1,
   "metadata": {},
   "outputs": [
    {
     "data": {
      "text/html": [
       "<table>\n",
       "<caption>A data.frame: 6 × 6</caption>\n",
       "<thead>\n",
       "\t<tr><th></th><th scope=col>genero</th><th scope=col>ceneval_global</th><th scope=col>ceneval_analitico</th><th scope=col>ceneval_matematico</th><th scope=col>ceneval_lengua</th><th scope=col>ceneval_esp</th></tr>\n",
       "\t<tr><th></th><th scope=col>&lt;chr&gt;</th><th scope=col>&lt;int&gt;</th><th scope=col>&lt;int&gt;</th><th scope=col>&lt;int&gt;</th><th scope=col>&lt;int&gt;</th><th scope=col>&lt;int&gt;</th></tr>\n",
       "</thead>\n",
       "<tbody>\n",
       "\t<tr><th scope=row>1</th><td>H</td><td>1168</td><td>1156</td><td>1217</td><td>1157</td><td>1110</td></tr>\n",
       "\t<tr><th scope=row>2</th><td>H</td><td>1126</td><td>1084</td><td>1193</td><td>1061</td><td>1134</td></tr>\n",
       "\t<tr><th scope=row>3</th><td>H</td><td>1126</td><td>1084</td><td>1193</td><td>1085</td><td>1110</td></tr>\n",
       "\t<tr><th scope=row>4</th><td>H</td><td>1066</td><td>1012</td><td>1025</td><td>1109</td><td>1086</td></tr>\n",
       "\t<tr><th scope=row>5</th><td>M</td><td>1006</td><td>1012</td><td> 929</td><td>1037</td><td>1014</td></tr>\n",
       "\t<tr><th scope=row>6</th><td>H</td><td>1216</td><td>1228</td><td>1217</td><td>1181</td><td>1206</td></tr>\n",
       "</tbody>\n",
       "</table>\n"
      ],
      "text/latex": [
       "A data.frame: 6 × 6\n",
       "\\begin{tabular}{r|llllll}\n",
       "  & genero & ceneval\\_global & ceneval\\_analitico & ceneval\\_matematico & ceneval\\_lengua & ceneval\\_esp\\\\\n",
       "  & <chr> & <int> & <int> & <int> & <int> & <int>\\\\\n",
       "\\hline\n",
       "\t1 & H & 1168 & 1156 & 1217 & 1157 & 1110\\\\\n",
       "\t2 & H & 1126 & 1084 & 1193 & 1061 & 1134\\\\\n",
       "\t3 & H & 1126 & 1084 & 1193 & 1085 & 1110\\\\\n",
       "\t4 & H & 1066 & 1012 & 1025 & 1109 & 1086\\\\\n",
       "\t5 & M & 1006 & 1012 &  929 & 1037 & 1014\\\\\n",
       "\t6 & H & 1216 & 1228 & 1217 & 1181 & 1206\\\\\n",
       "\\end{tabular}\n"
      ],
      "text/markdown": [
       "\n",
       "A data.frame: 6 × 6\n",
       "\n",
       "| <!--/--> | genero &lt;chr&gt; | ceneval_global &lt;int&gt; | ceneval_analitico &lt;int&gt; | ceneval_matematico &lt;int&gt; | ceneval_lengua &lt;int&gt; | ceneval_esp &lt;int&gt; |\n",
       "|---|---|---|---|---|---|---|\n",
       "| 1 | H | 1168 | 1156 | 1217 | 1157 | 1110 |\n",
       "| 2 | H | 1126 | 1084 | 1193 | 1061 | 1134 |\n",
       "| 3 | H | 1126 | 1084 | 1193 | 1085 | 1110 |\n",
       "| 4 | H | 1066 | 1012 | 1025 | 1109 | 1086 |\n",
       "| 5 | M | 1006 | 1012 |  929 | 1037 | 1014 |\n",
       "| 6 | H | 1216 | 1228 | 1217 | 1181 | 1206 |\n",
       "\n"
      ],
      "text/plain": [
       "  genero ceneval_global ceneval_analitico ceneval_matematico ceneval_lengua\n",
       "1 H      1168           1156              1217               1157          \n",
       "2 H      1126           1084              1193               1061          \n",
       "3 H      1126           1084              1193               1085          \n",
       "4 H      1066           1012              1025               1109          \n",
       "5 M      1006           1012               929               1037          \n",
       "6 H      1216           1228              1217               1181          \n",
       "  ceneval_esp\n",
       "1 1110       \n",
       "2 1134       \n",
       "3 1110       \n",
       "4 1086       \n",
       "5 1014       \n",
       "6 1206       "
      ]
     },
     "metadata": {},
     "output_type": "display_data"
    }
   ],
   "source": [
    "dat <- read.csv(\"ceneval.csv\")\n",
    "head(dat)"
   ]
  },
  {
   "cell_type": "code",
   "execution_count": 2,
   "metadata": {},
   "outputs": [
    {
     "data": {
      "text/html": [
       "<table>\n",
       "<caption>A data.frame: 6 × 5</caption>\n",
       "<thead>\n",
       "\t<tr><th></th><th scope=col>ceneval_global</th><th scope=col>ceneval_analitico</th><th scope=col>ceneval_matematico</th><th scope=col>ceneval_lengua</th><th scope=col>ceneval_esp</th></tr>\n",
       "\t<tr><th></th><th scope=col>&lt;int&gt;</th><th scope=col>&lt;int&gt;</th><th scope=col>&lt;int&gt;</th><th scope=col>&lt;int&gt;</th><th scope=col>&lt;int&gt;</th></tr>\n",
       "</thead>\n",
       "<tbody>\n",
       "\t<tr><th scope=row>1</th><td>1168</td><td>1156</td><td>1217</td><td>1157</td><td>1110</td></tr>\n",
       "\t<tr><th scope=row>2</th><td>1126</td><td>1084</td><td>1193</td><td>1061</td><td>1134</td></tr>\n",
       "\t<tr><th scope=row>3</th><td>1126</td><td>1084</td><td>1193</td><td>1085</td><td>1110</td></tr>\n",
       "\t<tr><th scope=row>4</th><td>1066</td><td>1012</td><td>1025</td><td>1109</td><td>1086</td></tr>\n",
       "\t<tr><th scope=row>5</th><td>1006</td><td>1012</td><td> 929</td><td>1037</td><td>1014</td></tr>\n",
       "\t<tr><th scope=row>6</th><td>1216</td><td>1228</td><td>1217</td><td>1181</td><td>1206</td></tr>\n",
       "</tbody>\n",
       "</table>\n"
      ],
      "text/latex": [
       "A data.frame: 6 × 5\n",
       "\\begin{tabular}{r|lllll}\n",
       "  & ceneval\\_global & ceneval\\_analitico & ceneval\\_matematico & ceneval\\_lengua & ceneval\\_esp\\\\\n",
       "  & <int> & <int> & <int> & <int> & <int>\\\\\n",
       "\\hline\n",
       "\t1 & 1168 & 1156 & 1217 & 1157 & 1110\\\\\n",
       "\t2 & 1126 & 1084 & 1193 & 1061 & 1134\\\\\n",
       "\t3 & 1126 & 1084 & 1193 & 1085 & 1110\\\\\n",
       "\t4 & 1066 & 1012 & 1025 & 1109 & 1086\\\\\n",
       "\t5 & 1006 & 1012 &  929 & 1037 & 1014\\\\\n",
       "\t6 & 1216 & 1228 & 1217 & 1181 & 1206\\\\\n",
       "\\end{tabular}\n"
      ],
      "text/markdown": [
       "\n",
       "A data.frame: 6 × 5\n",
       "\n",
       "| <!--/--> | ceneval_global &lt;int&gt; | ceneval_analitico &lt;int&gt; | ceneval_matematico &lt;int&gt; | ceneval_lengua &lt;int&gt; | ceneval_esp &lt;int&gt; |\n",
       "|---|---|---|---|---|---|\n",
       "| 1 | 1168 | 1156 | 1217 | 1157 | 1110 |\n",
       "| 2 | 1126 | 1084 | 1193 | 1061 | 1134 |\n",
       "| 3 | 1126 | 1084 | 1193 | 1085 | 1110 |\n",
       "| 4 | 1066 | 1012 | 1025 | 1109 | 1086 |\n",
       "| 5 | 1006 | 1012 |  929 | 1037 | 1014 |\n",
       "| 6 | 1216 | 1228 | 1217 | 1181 | 1206 |\n",
       "\n"
      ],
      "text/plain": [
       "  ceneval_global ceneval_analitico ceneval_matematico ceneval_lengua\n",
       "1 1168           1156              1217               1157          \n",
       "2 1126           1084              1193               1061          \n",
       "3 1126           1084              1193               1085          \n",
       "4 1066           1012              1025               1109          \n",
       "5 1006           1012               929               1037          \n",
       "6 1216           1228              1217               1181          \n",
       "  ceneval_esp\n",
       "1 1110       \n",
       "2 1134       \n",
       "3 1110       \n",
       "4 1086       \n",
       "5 1014       \n",
       "6 1206       "
      ]
     },
     "metadata": {},
     "output_type": "display_data"
    }
   ],
   "source": [
    "X <- dat[,2:6]\n",
    "head(X)"
   ]
  },
  {
   "cell_type": "markdown",
   "metadata": {},
   "source": [
    "# Evaluación del factor de inflación de la varianza\n"
   ]
  },
  {
   "cell_type": "markdown",
   "metadata": {},
   "source": [
    "## Calificación global"
   ]
  },
  {
   "cell_type": "code",
   "execution_count": 4,
   "metadata": {},
   "outputs": [
    {
     "data": {
      "text/plain": [
       "\n",
       "Call:\n",
       "lm(formula = ceneval_global ~ ceneval_analitico + ceneval_matematico + \n",
       "    ceneval_lengua + ceneval_esp, data = dat)\n",
       "\n",
       "Residuals:\n",
       "     Min       1Q   Median       3Q      Max \n",
       "-101.730   -0.470    0.253    0.953   39.718 \n",
       "\n",
       "Coefficients:\n",
       "                    Estimate Std. Error t value Pr(>|t|)    \n",
       "(Intercept)        16.933225   2.575904   6.574 6.84e-11 ***\n",
       "ceneval_analitico   0.243721   0.002765  88.152  < 2e-16 ***\n",
       "ceneval_matematico  0.248881   0.002506  99.321  < 2e-16 ***\n",
       "ceneval_lengua      0.252461   0.002747  91.915  < 2e-16 ***\n",
       "ceneval_esp         0.246481   0.002625  93.904  < 2e-16 ***\n",
       "---\n",
       "Signif. codes:  0 '***' 0.001 '**' 0.01 '*' 0.05 '.' 0.1 ' ' 1\n",
       "\n",
       "Residual standard error: 7.407 on 1440 degrees of freedom\n",
       "Multiple R-squared:  0.9919,\tAdjusted R-squared:  0.9919 \n",
       "F-statistic: 4.429e+04 on 4 and 1440 DF,  p-value: < 2.2e-16\n"
      ]
     },
     "metadata": {},
     "output_type": "display_data"
    }
   ],
   "source": [
    "#ceneval global\n",
    "\n",
    "reg <- lm(ceneval_global ~ ceneval_analitico+ceneval_matematico+ceneval_lengua+ceneval_esp, data=dat)\n",
    "summary(reg)"
   ]
  },
  {
   "cell_type": "code",
   "execution_count": 7,
   "metadata": {},
   "outputs": [
    {
     "data": {
      "text/html": [
       "124.041409109834"
      ],
      "text/latex": [
       "124.041409109834"
      ],
      "text/markdown": [
       "124.041409109834"
      ],
      "text/plain": [
       "[1] 124.0414"
      ]
     },
     "metadata": {},
     "output_type": "display_data"
    }
   ],
   "source": [
    "# FIV\n",
    "r2 <- summary(reg)$r.squared\n",
    "1/(1-r2)"
   ]
  },
  {
   "cell_type": "markdown",
   "metadata": {},
   "source": [
    "## Sección analítica"
   ]
  },
  {
   "cell_type": "code",
   "execution_count": 13,
   "metadata": {},
   "outputs": [
    {
     "data": {
      "text/html": [
       "2.05955982972513"
      ],
      "text/latex": [
       "2.05955982972513"
      ],
      "text/markdown": [
       "2.05955982972513"
      ],
      "text/plain": [
       "[1] 2.05956"
      ]
     },
     "metadata": {},
     "output_type": "display_data"
    }
   ],
   "source": [
    "#ceneval analítica\n",
    "reg <- lm(ceneval_analitico ~ ceneval_matematico+ceneval_lengua+ceneval_esp, data=dat)\n",
    "r2 <- summary(reg)$r.squared\n",
    "1/(1-r2)"
   ]
  },
  {
   "cell_type": "markdown",
   "metadata": {},
   "source": [
    "## Sección matemáticas"
   ]
  },
  {
   "cell_type": "code",
   "execution_count": 14,
   "metadata": {},
   "outputs": [
    {
     "data": {
      "text/html": [
       "1.97157222473075"
      ],
      "text/latex": [
       "1.97157222473075"
      ],
      "text/markdown": [
       "1.97157222473075"
      ],
      "text/plain": [
       "[1] 1.971572"
      ]
     },
     "metadata": {},
     "output_type": "display_data"
    }
   ],
   "source": [
    "#ceneval matemáticas\n",
    "reg <- lm(ceneval_matematico ~ ceneval_analitico+ceneval_lengua+ceneval_esp, data=dat)\n",
    "r2 <- summary(reg)$r.squared\n",
    "1/(1-r2)"
   ]
  },
  {
   "cell_type": "markdown",
   "metadata": {},
   "source": [
    "## Sección lengua"
   ]
  },
  {
   "cell_type": "code",
   "execution_count": 15,
   "metadata": {},
   "outputs": [
    {
     "data": {
      "text/html": [
       "1.85970051205958"
      ],
      "text/latex": [
       "1.85970051205958"
      ],
      "text/markdown": [
       "1.85970051205958"
      ],
      "text/plain": [
       "[1] 1.859701"
      ]
     },
     "metadata": {},
     "output_type": "display_data"
    }
   ],
   "source": [
    "#ceneval lengua\n",
    "reg <- lm(ceneval_lengua ~ ceneval_analitico+ceneval_matematico+ceneval_esp, data=dat)\n",
    "r2 <- summary(reg)$r.squared\n",
    "1/(1-r2)"
   ]
  },
  {
   "cell_type": "markdown",
   "metadata": {},
   "source": [
    "## Sección español"
   ]
  },
  {
   "cell_type": "code",
   "execution_count": 16,
   "metadata": {},
   "outputs": [
    {
     "data": {
      "text/html": [
       "1.69222225794531"
      ],
      "text/latex": [
       "1.69222225794531"
      ],
      "text/markdown": [
       "1.69222225794531"
      ],
      "text/plain": [
       "[1] 1.692222"
      ]
     },
     "metadata": {},
     "output_type": "display_data"
    }
   ],
   "source": [
    "#ceneval global\n",
    "reg <- lm(ceneval_esp ~ ceneval_matematico+ceneval_lengua+ceneval_analitico, data=dat)\n",
    "r2 <- summary(reg)$r.squared\n",
    "1/(1-r2)"
   ]
  },
  {
   "cell_type": "code",
   "execution_count": null,
   "metadata": {},
   "outputs": [],
   "source": []
  }
 ],
 "metadata": {
  "kernelspec": {
   "display_name": "R",
   "language": "R",
   "name": "ir"
  },
  "language_info": {
   "codemirror_mode": "r",
   "file_extension": ".r",
   "mimetype": "text/x-r-source",
   "name": "R",
   "pygments_lexer": "r",
   "version": "4.0.3"
  }
 },
 "nbformat": 4,
 "nbformat_minor": 4
}
