{
 "cells": [
  {
   "cell_type": "code",
   "execution_count": 5,
   "id": "velvet-survey",
   "metadata": {},
   "outputs": [],
   "source": [
    "import numpy as np\n",
    "import pandas as pd\n",
    "import itertools\n",
    "import csv"
   ]
  },
  {
   "cell_type": "markdown",
   "id": "personalized-march",
   "metadata": {},
   "source": [
    "### Conjuntos Frecuentes por Fuerza Bruta\n",
    "Los conjuntos frecuentes o reglas de asociacion, son utilizadas en diversos lugares y areas de la mineria de datos, entre ellas la mineria de navegacion web, mineria de busqueda, mineria de canastas, etc.\n",
    "\n",
    "Para esto, se utilizan los siguientes elementos:\n",
    "\n",
    "* Un conjunto de Articulos I\n",
    "* Un conjunto de Transacciones T\n",
    "* Una regla de asociacion X -> Y\n",
    "    * Donde X es un conjunto de antecedentes y Y es un conjunto de consecuentes, todos estos incluidos en el conjunto de articulos I\n",
    "    \n"
   ]
  },
  {
   "cell_type": "markdown",
   "id": "experimental-institute",
   "metadata": {},
   "source": [
    "### Para esto utilizaremos ciertas metricas.\n",
    "Soporte de una regla de asociacion\n",
    "\n",
    "    support = ( X U Y ).count/n\n",
    "Donde estamos marcando la cantidad de ocaciones que esta mostrandose esta regla de asociacion en las transacciones\n",
    "\n",
    "Confianza de una regla\n",
    "\n",
    "    confidence = ( X U Y ).count/X.count\n",
    "\n",
    "Donde estamos evaluando la cantidad de veces que aparece esta regla de asociacion dependiendo de la cantidad de apariciones del antecedente ( X )\n",
    "    \n",
    "    "
   ]
  },
  {
   "cell_type": "markdown",
   "id": "about-professor",
   "metadata": {},
   "source": [
    "### Para este ejemplo utilizare el conjunto de objetos i, en este estara incluido:\n",
    "\n",
    "* Salsa\n",
    "* Tomate\n",
    "* Verdura\n",
    "* Tocino\n",
    "* Coca Cola\n",
    "* Sprite\n",
    "* Mirinda\n",
    "* Sabritas\n"
   ]
  },
  {
   "cell_type": "code",
   "execution_count": 6,
   "id": "olympic-asthma",
   "metadata": {},
   "outputs": [],
   "source": [
    "i = ['salsa','tomate','verdura','tocino','coca cola','sprite','mirinda','sabritas']\n"
   ]
  },
  {
   "cell_type": "markdown",
   "id": "sized-tribune",
   "metadata": {},
   "source": [
    "### Y un conjunto de transacciones t con 7 transacciones descritas en la siguiente celda\n"
   ]
  },
  {
   "cell_type": "code",
   "execution_count": 7,
   "id": "pretty-shift",
   "metadata": {},
   "outputs": [
    {
     "data": {
      "text/plain": [
       "[{'sabritas', 'salsa', 'tomate'},\n",
       " {'coca cola', 'sabritas', 'salsa', 'verdura'},\n",
       " {'sabritas', 'salsa', 'sprite', 'tocino'},\n",
       " {'mirinda', 'salsa', 'tocino', 'verdura'},\n",
       " {'coca cola', 'mirinda', 'sabritas', 'tocino', 'verdura'},\n",
       " {'sabritas', 'salsa', 'tocino'},\n",
       " {'mirinda', 'tocino', 'verdura'}]"
      ]
     },
     "execution_count": 7,
     "metadata": {},
     "output_type": "execute_result"
    }
   ],
   "source": [
    "t = []\n",
    "\n",
    "t1 = set(['salsa','tomate','sabritas'])\n",
    "t2 = set(['salsa','sabritas','coca cola','verdura'])\n",
    "t3 = set(['salsa','sabritas','sprite','tocino'])\n",
    "t4 = set(['salsa','verdura','tocino','mirinda'])\n",
    "t5 = set(['verdura','tocino','sabritas','coca cola','mirinda'])\n",
    "t6 = set(['salsa','tocino','sabritas'])\n",
    "t7 = set(['mirinda','tocino','verdura'])\n",
    "t = [t1,t2,t3,t4,t5,t6,t7]\n",
    "t\n"
   ]
  },
  {
   "cell_type": "markdown",
   "id": "involved-chick",
   "metadata": {},
   "source": [
    "### Obtenemos todos los subconjuntos X ( antecendentes ) , Y (consecuentes)\n",
    "\n",
    "Al hacerlo por fuerza bruta podemos obtener todas las combinaciones de antecedentes ( X ) y consecuentes ( Y ) "
   ]
  },
  {
   "cell_type": "code",
   "execution_count": 18,
   "id": "rough-amateur",
   "metadata": {},
   "outputs": [],
   "source": [
    "Y = {}\n",
    "for l in range(1,len(i)):\n",
    "    for subset in itertools.combinations(i, l):\n",
    "        Y[subset] = list(set(i) - set(subset))"
   ]
  },
  {
   "cell_type": "markdown",
   "id": "waiting-detector",
   "metadata": {},
   "source": [
    "### Para cada antecedente y cada consecuente de este ( ahora llamado regla ), obtenemos todas las ocurrencias en las transacciones"
   ]
  },
  {
   "cell_type": "code",
   "execution_count": 17,
   "id": "aggressive-society",
   "metadata": {},
   "outputs": [],
   "source": [
    "rules = {}\n",
    "for X in Y.keys():\n",
    "    for item in Y[X]:\n",
    "        for transaction in t:\n",
    "            if set(list(X)+[item]).issubset(set(transaction)):\n",
    "                rules[X,item] = rules.get((X,item),0) +1"
   ]
  },
  {
   "cell_type": "markdown",
   "id": "rocky-withdrawal",
   "metadata": {},
   "source": [
    "### Obtenemos el soporte de cada regla"
   ]
  },
  {
   "cell_type": "code",
   "execution_count": 10,
   "id": "occupational-album",
   "metadata": {},
   "outputs": [],
   "source": [
    "soporte = {}\n",
    "for rule in rules.keys():\n",
    "    soporte[rule] = rules[rule]/len(t)"
   ]
  },
  {
   "cell_type": "markdown",
   "id": "maritime-wallet",
   "metadata": {},
   "source": [
    "### Mostramos unicamente las reglas de asociacion con un soporte del 40% o mayor"
   ]
  },
  {
   "cell_type": "code",
   "execution_count": 15,
   "id": "hollywood-literature",
   "metadata": {},
   "outputs": [
    {
     "name": "stdout",
     "output_type": "stream",
     "text": [
      "(('salsa',), 'sabritas') 0.5714285714285714\n",
      "(('salsa',), 'tocino') 0.42857142857142855\n",
      "(('verdura',), 'tocino') 0.42857142857142855\n",
      "(('verdura',), 'mirinda') 0.42857142857142855\n",
      "(('tocino',), 'sabritas') 0.42857142857142855\n",
      "(('tocino',), 'salsa') 0.42857142857142855\n",
      "(('tocino',), 'verdura') 0.42857142857142855\n",
      "(('tocino',), 'mirinda') 0.42857142857142855\n",
      "(('mirinda',), 'tocino') 0.42857142857142855\n",
      "(('mirinda',), 'verdura') 0.42857142857142855\n",
      "(('sabritas',), 'tocino') 0.42857142857142855\n",
      "(('sabritas',), 'salsa') 0.5714285714285714\n",
      "(('verdura', 'tocino'), 'mirinda') 0.42857142857142855\n",
      "(('verdura', 'mirinda'), 'tocino') 0.42857142857142855\n",
      "(('tocino', 'mirinda'), 'verdura') 0.42857142857142855\n"
     ]
    }
   ],
   "source": [
    "for rule in soporte.keys():\n",
    "    if soporte[rule] >= .4:\n",
    "        print(rule,soporte[rule])"
   ]
  },
  {
   "cell_type": "markdown",
   "id": "signal-aaron",
   "metadata": {},
   "source": [
    "Como podemos ver en el ejemplo anterior, la regla de asociacion con mayor soporte es:\n",
    "\n",
    "X( Sabritas ) -> Y ( Salsa ) = soporte ( 0.5714 ) \n",
    "\n",
    "Al igual que la regla inversa, al ser fuerza bruta es posible encontrar relgas invertidas "
   ]
  },
  {
   "cell_type": "markdown",
   "id": "solar-hampshire",
   "metadata": {},
   "source": [
    "### Funcion que realiza lo anterior\n",
    "Para facilitar la ejecucion con archivos csv o similares, se creo la siguiente funcion, esta regresa las relgas y soporte de todas las reglas, al igual que muestra las relgas que esten dentro del umbral\n"
   ]
  },
  {
   "cell_type": "code",
   "execution_count": 12,
   "id": "listed-bidding",
   "metadata": {},
   "outputs": [
    {
     "name": "stdout",
     "output_type": "stream",
     "text": [
      "(('salsa',), 'sabritas') 0.5714285714285714\n",
      "(('sabritas',), 'salsa') 0.5714285714285714\n"
     ]
    }
   ],
   "source": [
    "def ConjuntosFrecuentesFB(i,t,umbral):\n",
    "    Y = {}\n",
    "    rules = {}\n",
    "    soporte = {}\n",
    "    \n",
    "    #Todos los antecedentes y sus posibles consecuentes\n",
    "    for l in range(1,len(i)):\n",
    "        for subset in itertools.combinations(i, l):\n",
    "            Y[subset] = list(set(i) - set(subset))\n",
    "    \n",
    "    #Creacion de reglas y obtencion de sus ocurrencias\n",
    "    for X in Y.keys():\n",
    "        for item in Y[X]:\n",
    "            for transaction in t:\n",
    "                if set(list(X)+[item]).issubset(set(transaction)):\n",
    "                    rules[X,item] = rules.get((X,item),0) +1\n",
    "    #Obtencion del soporte\n",
    "    for i in rules.keys():\n",
    "        soporte[i] = rules[i]/len(t)\n",
    "        if soporte[i] >= umbral:\n",
    "            print(i,soporte[i])\n",
    "    return rules,soporte\n",
    "rules,soporte = ConjuntosFrecuentesFB(i,t,.5)"
   ]
  },
  {
   "cell_type": "markdown",
   "id": "printable-delay",
   "metadata": {},
   "source": [
    "### Lectura de archivo transactions.csv\n",
    "En este archivo se obtienen la lista de objetos ( i ) y la lista de transacciones ( t ) del archivo transactions.csv"
   ]
  },
  {
   "cell_type": "code",
   "execution_count": 13,
   "id": "cathedral-hollow",
   "metadata": {},
   "outputs": [],
   "source": [
    "def read_csv(file):\n",
    "    i = []\n",
    "    t = {}\n",
    "    transactions = []\n",
    "    with open('transactions.csv', mode='r') as csv_file:\n",
    "        csv_reader = csv.DictReader(csv_file)\n",
    "        for row in csv_reader:\n",
    "            if row['Customer'] not in t.keys():\n",
    "                t[row['Customer']] = []\n",
    "            t[row['Customer']].append(row['Product'])\n",
    "            i.append(row['Product'])\n",
    "    i = list(set(i))\n",
    "    for key in t.keys():\n",
    "        transactions.append(set(t[key]))\n",
    "    return i,transactions"
   ]
  },
  {
   "cell_type": "markdown",
   "id": "prerequisite-knowing",
   "metadata": {},
   "source": [
    "### Items obtenidos"
   ]
  },
  {
   "cell_type": "code",
   "execution_count": 19,
   "id": "rural-lunch",
   "metadata": {},
   "outputs": [
    {
     "data": {
      "text/plain": [
       "['Steak',\n",
       " 'Beer',\n",
       " 'WhippedCream',\n",
       " 'PeanutButter',\n",
       " 'Yogurt',\n",
       " 'Cheese',\n",
       " 'Milk',\n",
       " 'Fruit',\n",
       " 'Jelly',\n",
       " 'Vegetables',\n",
       " 'ChocolateSauce',\n",
       " 'Bread',\n",
       " 'PotatoChips',\n",
       " 'Soda']"
      ]
     },
     "execution_count": 19,
     "metadata": {},
     "output_type": "execute_result"
    }
   ],
   "source": [
    "i,t = read_csv('transactions.csv')\n",
    "i"
   ]
  },
  {
   "cell_type": "markdown",
   "id": "atmospheric-narrative",
   "metadata": {},
   "source": [
    "### Transacciones obtenidas"
   ]
  },
  {
   "cell_type": "code",
   "execution_count": 20,
   "id": "physical-cotton",
   "metadata": {},
   "outputs": [
    {
     "data": {
      "text/plain": [
       "[{'Bread', 'Fruit', 'Jelly', 'Milk', 'PeanutButter'},\n",
       " {'Bread',\n",
       "  'Fruit',\n",
       "  'Jelly',\n",
       "  'Milk',\n",
       "  'PeanutButter',\n",
       "  'PotatoChips',\n",
       "  'Soda',\n",
       "  'Vegetables'},\n",
       " {'Beer', 'ChocolateSauce', 'Fruit', 'WhippedCream'},\n",
       " {'Bread', 'Fruit', 'Jelly', 'PotatoChips', 'Soda', 'Steak'},\n",
       " {'Fruit', 'Jelly', 'Milk', 'PeanutButter', 'Soda'},\n",
       " {'Bread', 'Fruit', 'Jelly', 'Milk', 'PotatoChips', 'Soda'},\n",
       " {'Fruit', 'Milk', 'PotatoChips', 'Soda'},\n",
       " {'Fruit', 'Milk', 'PeanutButter', 'Soda'},\n",
       " {'Cheese', 'Fruit', 'Yogurt'},\n",
       " {'Beer', 'Vegetables', 'Yogurt'}]"
      ]
     },
     "execution_count": 20,
     "metadata": {},
     "output_type": "execute_result"
    }
   ],
   "source": [
    "t"
   ]
  },
  {
   "cell_type": "markdown",
   "id": "living-cyprus",
   "metadata": {},
   "source": [
    "### Ejecucion con un umbral del 60%"
   ]
  },
  {
   "cell_type": "code",
   "execution_count": 21,
   "id": "raised-fiber",
   "metadata": {},
   "outputs": [
    {
     "name": "stdout",
     "output_type": "stream",
     "text": [
      "(('Milk',), 'Fruit') 0.6\n",
      "(('Fruit',), 'Milk') 0.6\n",
      "(('Fruit',), 'Soda') 0.6\n",
      "(('Soda',), 'Fruit') 0.6\n"
     ]
    }
   ],
   "source": [
    "rules, support = ConjuntosFrecuentesFB(i,t,.6)"
   ]
  },
  {
   "cell_type": "markdown",
   "id": "fifteen-suggestion",
   "metadata": {},
   "source": [
    "### Ejecucion con un umbral del 40%\n"
   ]
  },
  {
   "cell_type": "code",
   "execution_count": 22,
   "id": "stuck-knowing",
   "metadata": {},
   "outputs": [
    {
     "name": "stdout",
     "output_type": "stream",
     "text": [
      "(('PeanutButter',), 'Milk') 0.4\n",
      "(('PeanutButter',), 'Fruit') 0.4\n",
      "(('Milk',), 'PeanutButter') 0.4\n",
      "(('Milk',), 'Fruit') 0.6\n",
      "(('Milk',), 'Jelly') 0.4\n",
      "(('Milk',), 'Soda') 0.5\n",
      "(('Fruit',), 'PeanutButter') 0.4\n",
      "(('Fruit',), 'Milk') 0.6\n",
      "(('Fruit',), 'Jelly') 0.5\n",
      "(('Fruit',), 'Bread') 0.4\n",
      "(('Fruit',), 'PotatoChips') 0.4\n",
      "(('Fruit',), 'Soda') 0.6\n",
      "(('Jelly',), 'Milk') 0.4\n",
      "(('Jelly',), 'Fruit') 0.5\n",
      "(('Jelly',), 'Bread') 0.4\n",
      "(('Jelly',), 'Soda') 0.4\n",
      "(('Bread',), 'Fruit') 0.4\n",
      "(('Bread',), 'Jelly') 0.4\n",
      "(('PotatoChips',), 'Fruit') 0.4\n",
      "(('PotatoChips',), 'Soda') 0.4\n",
      "(('Soda',), 'Milk') 0.5\n",
      "(('Soda',), 'Fruit') 0.6\n",
      "(('Soda',), 'Jelly') 0.4\n",
      "(('Soda',), 'PotatoChips') 0.4\n",
      "(('PeanutButter', 'Milk'), 'Fruit') 0.4\n",
      "(('PeanutButter', 'Fruit'), 'Milk') 0.4\n",
      "(('Milk', 'Fruit'), 'PeanutButter') 0.4\n",
      "(('Milk', 'Fruit'), 'Jelly') 0.4\n",
      "(('Milk', 'Fruit'), 'Soda') 0.5\n",
      "(('Milk', 'Jelly'), 'Fruit') 0.4\n",
      "(('Milk', 'Soda'), 'Fruit') 0.5\n",
      "(('Fruit', 'Jelly'), 'Milk') 0.4\n",
      "(('Fruit', 'Jelly'), 'Bread') 0.4\n",
      "(('Fruit', 'Jelly'), 'Soda') 0.4\n",
      "(('Fruit', 'Bread'), 'Jelly') 0.4\n",
      "(('Fruit', 'PotatoChips'), 'Soda') 0.4\n",
      "(('Fruit', 'Soda'), 'Milk') 0.5\n",
      "(('Fruit', 'Soda'), 'Jelly') 0.4\n",
      "(('Fruit', 'Soda'), 'PotatoChips') 0.4\n",
      "(('Jelly', 'Bread'), 'Fruit') 0.4\n",
      "(('Jelly', 'Soda'), 'Fruit') 0.4\n",
      "(('PotatoChips', 'Soda'), 'Fruit') 0.4\n"
     ]
    }
   ],
   "source": [
    "rules, support = ConjuntosFrecuentesFB(i,t,.4)"
   ]
  },
  {
   "cell_type": "markdown",
   "id": "offensive-oasis",
   "metadata": {},
   "source": [
    "### Conclusiones\n",
    "Como podemos observar, este metodo es efectivo pero muy tardado ya que genera todas las reglas habidas y por haber incluso si estas no son incluidas en las transacciones"
   ]
  },
  {
   "cell_type": "markdown",
   "id": "dying-parameter",
   "metadata": {},
   "source": [
    "#### 160300153 - Vazquez Pompa Noe"
   ]
  }
 ],
 "metadata": {
  "kernelspec": {
   "display_name": "Python 3",
   "language": "python",
   "name": "python3"
  },
  "language_info": {
   "codemirror_mode": {
    "name": "ipython",
    "version": 3
   },
   "file_extension": ".py",
   "mimetype": "text/x-python",
   "name": "python",
   "nbconvert_exporter": "python",
   "pygments_lexer": "ipython3",
   "version": "3.9.1"
  }
 },
 "nbformat": 4,
 "nbformat_minor": 5
}
