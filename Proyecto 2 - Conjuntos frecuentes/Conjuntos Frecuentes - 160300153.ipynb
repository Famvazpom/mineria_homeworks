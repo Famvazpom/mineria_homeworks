{
 "cells": [
  {
   "cell_type": "code",
   "execution_count": 170,
   "id": "welsh-undergraduate",
   "metadata": {},
   "outputs": [],
   "source": [
    "import numpy as np\n",
    "import pandas as pd\n",
    "import itertools\n",
    "import csv"
   ]
  },
  {
   "cell_type": "code",
   "execution_count": 164,
   "id": "necessary-album",
   "metadata": {},
   "outputs": [
    {
     "data": {
      "text/plain": [
       "[{'leche', 'pollo', 'ternera'},\n",
       " {'leche', 'pollo', 'queso', 'ternera'},\n",
       " {'leche', 'pollo', 'queso', 'refresco'},\n",
       " {'leche', 'pollo', 'queso', 'ternera'},\n",
       " {'leche', 'pollo', 'queso', 'revista', 'ternera'},\n",
       " {'leche', 'pollo', 'revista'},\n",
       " {'leche', 'pollo', 'revista'}]"
      ]
     },
     "execution_count": 164,
     "metadata": {},
     "output_type": "execute_result"
    }
   ],
   "source": [
    "i = ['queso','leche','pollo','ternera','refresco','revista']\n",
    "t = []\n",
    "\n",
    "t1 = set(['ternera','leche','pollo'])\n",
    "t2 = set(['ternera','queso','pollo','leche'])\n",
    "t3 = set(['queso','pollo','leche','refresco'])\n",
    "t4 = set(['ternera','queso','pollo','leche'])\n",
    "t5 = set(['ternera','pollo','queso','revista','leche'])\n",
    "t6 = set(['revista','leche','pollo'])\n",
    "t7 = set(['revista','leche','pollo'])\n",
    "t = [t1,t2,t3,t4,t5,t6,t7]\n",
    "t\n"
   ]
  },
  {
   "cell_type": "markdown",
   "id": "roman-shift",
   "metadata": {},
   "source": [
    "### Obtenemos todos los subconjuntos X ( antecendentes ) , Y (consecuentes)\n"
   ]
  },
  {
   "cell_type": "code",
   "execution_count": 165,
   "id": "regular-fluid",
   "metadata": {},
   "outputs": [
    {
     "data": {
      "text/plain": [
       "{('queso',): ['pollo', 'refresco', 'ternera', 'revista', 'leche'],\n",
       " ('leche',): ['queso', 'pollo', 'refresco', 'ternera', 'revista'],\n",
       " ('pollo',): ['queso', 'refresco', 'ternera', 'revista', 'leche'],\n",
       " ('ternera',): ['queso', 'pollo', 'refresco', 'revista', 'leche'],\n",
       " ('refresco',): ['queso', 'pollo', 'ternera', 'revista', 'leche'],\n",
       " ('revista',): ['queso', 'pollo', 'refresco', 'ternera', 'leche'],\n",
       " ('queso', 'leche'): ['ternera', 'revista', 'pollo', 'refresco'],\n",
       " ('queso', 'pollo'): ['ternera', 'revista', 'refresco', 'leche'],\n",
       " ('queso', 'ternera'): ['revista', 'pollo', 'refresco', 'leche'],\n",
       " ('queso', 'refresco'): ['ternera', 'revista', 'pollo', 'leche'],\n",
       " ('queso', 'revista'): ['ternera', 'pollo', 'refresco', 'leche'],\n",
       " ('leche', 'pollo'): ['ternera', 'queso', 'revista', 'refresco'],\n",
       " ('leche', 'ternera'): ['revista', 'queso', 'pollo', 'refresco'],\n",
       " ('leche', 'refresco'): ['ternera', 'queso', 'pollo', 'revista'],\n",
       " ('leche', 'revista'): ['ternera', 'queso', 'pollo', 'refresco'],\n",
       " ('pollo', 'ternera'): ['revista', 'queso', 'refresco', 'leche'],\n",
       " ('pollo', 'refresco'): ['ternera', 'queso', 'revista', 'leche'],\n",
       " ('pollo', 'revista'): ['ternera', 'queso', 'refresco', 'leche'],\n",
       " ('ternera', 'refresco'): ['revista', 'queso', 'pollo', 'leche'],\n",
       " ('ternera', 'revista'): ['queso', 'pollo', 'refresco', 'leche'],\n",
       " ('refresco', 'revista'): ['ternera', 'queso', 'pollo', 'leche'],\n",
       " ('queso', 'leche', 'pollo'): ['ternera', 'revista', 'refresco'],\n",
       " ('queso', 'leche', 'ternera'): ['revista', 'pollo', 'refresco'],\n",
       " ('queso', 'leche', 'refresco'): ['ternera', 'revista', 'pollo'],\n",
       " ('queso', 'leche', 'revista'): ['ternera', 'pollo', 'refresco'],\n",
       " ('queso', 'pollo', 'ternera'): ['revista', 'refresco', 'leche'],\n",
       " ('queso', 'pollo', 'refresco'): ['ternera', 'revista', 'leche'],\n",
       " ('queso', 'pollo', 'revista'): ['ternera', 'refresco', 'leche'],\n",
       " ('queso', 'ternera', 'refresco'): ['revista', 'pollo', 'leche'],\n",
       " ('queso', 'ternera', 'revista'): ['pollo', 'refresco', 'leche'],\n",
       " ('queso', 'refresco', 'revista'): ['ternera', 'pollo', 'leche'],\n",
       " ('leche', 'pollo', 'ternera'): ['revista', 'queso', 'refresco'],\n",
       " ('leche', 'pollo', 'refresco'): ['ternera', 'queso', 'revista'],\n",
       " ('leche', 'pollo', 'revista'): ['ternera', 'queso', 'refresco'],\n",
       " ('leche', 'ternera', 'refresco'): ['revista', 'queso', 'pollo'],\n",
       " ('leche', 'ternera', 'revista'): ['queso', 'pollo', 'refresco'],\n",
       " ('leche', 'refresco', 'revista'): ['ternera', 'queso', 'pollo'],\n",
       " ('pollo', 'ternera', 'refresco'): ['revista', 'queso', 'leche'],\n",
       " ('pollo', 'ternera', 'revista'): ['queso', 'refresco', 'leche'],\n",
       " ('pollo', 'refresco', 'revista'): ['ternera', 'queso', 'leche'],\n",
       " ('ternera', 'refresco', 'revista'): ['queso', 'pollo', 'leche'],\n",
       " ('queso', 'leche', 'pollo', 'ternera'): ['revista', 'refresco'],\n",
       " ('queso', 'leche', 'pollo', 'refresco'): ['ternera', 'revista'],\n",
       " ('queso', 'leche', 'pollo', 'revista'): ['ternera', 'refresco'],\n",
       " ('queso', 'leche', 'ternera', 'refresco'): ['revista', 'pollo'],\n",
       " ('queso', 'leche', 'ternera', 'revista'): ['pollo', 'refresco'],\n",
       " ('queso', 'leche', 'refresco', 'revista'): ['ternera', 'pollo'],\n",
       " ('queso', 'pollo', 'ternera', 'refresco'): ['revista', 'leche'],\n",
       " ('queso', 'pollo', 'ternera', 'revista'): ['refresco', 'leche'],\n",
       " ('queso', 'pollo', 'refresco', 'revista'): ['ternera', 'leche'],\n",
       " ('queso', 'ternera', 'refresco', 'revista'): ['pollo', 'leche'],\n",
       " ('leche', 'pollo', 'ternera', 'refresco'): ['revista', 'queso'],\n",
       " ('leche', 'pollo', 'ternera', 'revista'): ['queso', 'refresco'],\n",
       " ('leche', 'pollo', 'refresco', 'revista'): ['ternera', 'queso'],\n",
       " ('leche', 'ternera', 'refresco', 'revista'): ['queso', 'pollo'],\n",
       " ('pollo', 'ternera', 'refresco', 'revista'): ['queso', 'leche'],\n",
       " ('queso', 'leche', 'pollo', 'ternera', 'refresco'): ['revista'],\n",
       " ('queso', 'leche', 'pollo', 'ternera', 'revista'): ['refresco'],\n",
       " ('queso', 'leche', 'pollo', 'refresco', 'revista'): ['ternera'],\n",
       " ('queso', 'leche', 'ternera', 'refresco', 'revista'): ['pollo'],\n",
       " ('queso', 'pollo', 'ternera', 'refresco', 'revista'): ['leche'],\n",
       " ('leche', 'pollo', 'ternera', 'refresco', 'revista'): ['queso']}"
      ]
     },
     "execution_count": 165,
     "metadata": {},
     "output_type": "execute_result"
    }
   ],
   "source": [
    "Y = {}\n",
    "for l in range(1,len(i)):\n",
    "    for subset in itertools.combinations(i, l):\n",
    "        Y[subset] = list(set(i) - set(subset))\n",
    "Y"
   ]
  },
  {
   "cell_type": "markdown",
   "id": "civilian-vulnerability",
   "metadata": {},
   "source": [
    "### Para cada antecedente y cada consecuente de este ( ahora llamado regla ), obtenemos todas las ocurrencias en las transacciones"
   ]
  },
  {
   "cell_type": "code",
   "execution_count": 166,
   "id": "alike-yahoo",
   "metadata": {},
   "outputs": [
    {
     "data": {
      "text/plain": [
       "{(('queso',), 'pollo'): 4,\n",
       " (('queso',), 'refresco'): 1,\n",
       " (('queso',), 'ternera'): 3,\n",
       " (('queso',), 'revista'): 1,\n",
       " (('queso',), 'leche'): 4,\n",
       " (('leche',), 'queso'): 4,\n",
       " (('leche',), 'pollo'): 7,\n",
       " (('leche',), 'refresco'): 1,\n",
       " (('leche',), 'ternera'): 4,\n",
       " (('leche',), 'revista'): 3,\n",
       " (('pollo',), 'queso'): 4,\n",
       " (('pollo',), 'refresco'): 1,\n",
       " (('pollo',), 'ternera'): 4,\n",
       " (('pollo',), 'revista'): 3,\n",
       " (('pollo',), 'leche'): 7,\n",
       " (('ternera',), 'queso'): 3,\n",
       " (('ternera',), 'pollo'): 4,\n",
       " (('ternera',), 'revista'): 1,\n",
       " (('ternera',), 'leche'): 4,\n",
       " (('refresco',), 'queso'): 1,\n",
       " (('refresco',), 'pollo'): 1,\n",
       " (('refresco',), 'leche'): 1,\n",
       " (('revista',), 'queso'): 1,\n",
       " (('revista',), 'pollo'): 3,\n",
       " (('revista',), 'ternera'): 1,\n",
       " (('revista',), 'leche'): 3,\n",
       " (('queso', 'leche'), 'ternera'): 3,\n",
       " (('queso', 'leche'), 'revista'): 1,\n",
       " (('queso', 'leche'), 'pollo'): 4,\n",
       " (('queso', 'leche'), 'refresco'): 1,\n",
       " (('queso', 'pollo'), 'ternera'): 3,\n",
       " (('queso', 'pollo'), 'revista'): 1,\n",
       " (('queso', 'pollo'), 'refresco'): 1,\n",
       " (('queso', 'pollo'), 'leche'): 4,\n",
       " (('queso', 'ternera'), 'revista'): 1,\n",
       " (('queso', 'ternera'), 'pollo'): 3,\n",
       " (('queso', 'ternera'), 'leche'): 3,\n",
       " (('queso', 'refresco'), 'pollo'): 1,\n",
       " (('queso', 'refresco'), 'leche'): 1,\n",
       " (('queso', 'revista'), 'ternera'): 1,\n",
       " (('queso', 'revista'), 'pollo'): 1,\n",
       " (('queso', 'revista'), 'leche'): 1,\n",
       " (('leche', 'pollo'), 'ternera'): 4,\n",
       " (('leche', 'pollo'), 'queso'): 4,\n",
       " (('leche', 'pollo'), 'revista'): 3,\n",
       " (('leche', 'pollo'), 'refresco'): 1,\n",
       " (('leche', 'ternera'), 'revista'): 1,\n",
       " (('leche', 'ternera'), 'queso'): 3,\n",
       " (('leche', 'ternera'), 'pollo'): 4,\n",
       " (('leche', 'refresco'), 'queso'): 1,\n",
       " (('leche', 'refresco'), 'pollo'): 1,\n",
       " (('leche', 'revista'), 'ternera'): 1,\n",
       " (('leche', 'revista'), 'queso'): 1,\n",
       " (('leche', 'revista'), 'pollo'): 3,\n",
       " (('pollo', 'ternera'), 'revista'): 1,\n",
       " (('pollo', 'ternera'), 'queso'): 3,\n",
       " (('pollo', 'ternera'), 'leche'): 4,\n",
       " (('pollo', 'refresco'), 'queso'): 1,\n",
       " (('pollo', 'refresco'), 'leche'): 1,\n",
       " (('pollo', 'revista'), 'ternera'): 1,\n",
       " (('pollo', 'revista'), 'queso'): 1,\n",
       " (('pollo', 'revista'), 'leche'): 3,\n",
       " (('ternera', 'revista'), 'queso'): 1,\n",
       " (('ternera', 'revista'), 'pollo'): 1,\n",
       " (('ternera', 'revista'), 'leche'): 1,\n",
       " (('queso', 'leche', 'pollo'), 'ternera'): 3,\n",
       " (('queso', 'leche', 'pollo'), 'revista'): 1,\n",
       " (('queso', 'leche', 'pollo'), 'refresco'): 1,\n",
       " (('queso', 'leche', 'ternera'), 'revista'): 1,\n",
       " (('queso', 'leche', 'ternera'), 'pollo'): 3,\n",
       " (('queso', 'leche', 'refresco'), 'pollo'): 1,\n",
       " (('queso', 'leche', 'revista'), 'ternera'): 1,\n",
       " (('queso', 'leche', 'revista'), 'pollo'): 1,\n",
       " (('queso', 'pollo', 'ternera'), 'revista'): 1,\n",
       " (('queso', 'pollo', 'ternera'), 'leche'): 3,\n",
       " (('queso', 'pollo', 'refresco'), 'leche'): 1,\n",
       " (('queso', 'pollo', 'revista'), 'ternera'): 1,\n",
       " (('queso', 'pollo', 'revista'), 'leche'): 1,\n",
       " (('queso', 'ternera', 'revista'), 'pollo'): 1,\n",
       " (('queso', 'ternera', 'revista'), 'leche'): 1,\n",
       " (('leche', 'pollo', 'ternera'), 'revista'): 1,\n",
       " (('leche', 'pollo', 'ternera'), 'queso'): 3,\n",
       " (('leche', 'pollo', 'refresco'), 'queso'): 1,\n",
       " (('leche', 'pollo', 'revista'), 'ternera'): 1,\n",
       " (('leche', 'pollo', 'revista'), 'queso'): 1,\n",
       " (('leche', 'ternera', 'revista'), 'queso'): 1,\n",
       " (('leche', 'ternera', 'revista'), 'pollo'): 1,\n",
       " (('pollo', 'ternera', 'revista'), 'queso'): 1,\n",
       " (('pollo', 'ternera', 'revista'), 'leche'): 1,\n",
       " (('queso', 'leche', 'pollo', 'ternera'), 'revista'): 1,\n",
       " (('queso', 'leche', 'pollo', 'revista'), 'ternera'): 1,\n",
       " (('queso', 'leche', 'ternera', 'revista'), 'pollo'): 1,\n",
       " (('queso', 'pollo', 'ternera', 'revista'), 'leche'): 1,\n",
       " (('leche', 'pollo', 'ternera', 'revista'), 'queso'): 1}"
      ]
     },
     "execution_count": 166,
     "metadata": {},
     "output_type": "execute_result"
    }
   ],
   "source": [
    "rules = {}\n",
    "for X in Y.keys():\n",
    "    for item in Y[X]:\n",
    "        for transaction in t:\n",
    "            if set(list(X)+[item]).issubset(set(transaction)):\n",
    "                rules[X,item] = rules.get((X,item),0) +1\n",
    "rules"
   ]
  },
  {
   "cell_type": "markdown",
   "id": "supposed-personal",
   "metadata": {},
   "source": [
    "### Obtenemos el soporte de cada regla"
   ]
  },
  {
   "cell_type": "code",
   "execution_count": 167,
   "id": "interpreted-individual",
   "metadata": {},
   "outputs": [],
   "source": [
    "soporte = {}\n",
    "for rule in rules.keys():\n",
    "    soporte[rule] = rules[rule]/len(t)"
   ]
  },
  {
   "cell_type": "markdown",
   "id": "federal-convert",
   "metadata": {},
   "source": [
    "### Funcion que realiza lo anterior"
   ]
  },
  {
   "cell_type": "code",
   "execution_count": 202,
   "id": "employed-fancy",
   "metadata": {},
   "outputs": [
    {
     "name": "stdout",
     "output_type": "stream",
     "text": [
      "(('Jelly',), 'Fruit') 0.5\n",
      "(('Soda',), 'Milk') 0.5\n",
      "(('Soda',), 'Fruit') 0.6\n",
      "(('Milk',), 'Soda') 0.5\n",
      "(('Milk',), 'Fruit') 0.6\n",
      "(('Fruit',), 'Jelly') 0.5\n",
      "(('Fruit',), 'Soda') 0.6\n",
      "(('Fruit',), 'Milk') 0.6\n",
      "(('Soda', 'Milk'), 'Fruit') 0.5\n",
      "(('Soda', 'Fruit'), 'Milk') 0.5\n",
      "(('Milk', 'Fruit'), 'Soda') 0.5\n"
     ]
    }
   ],
   "source": [
    "def ConjuntosFrecuentesFB(i,t,umbral):\n",
    "    Y = {}\n",
    "    rules = {}\n",
    "    soporte = {}\n",
    "    \n",
    "    #Todos los antecedentes y sus posibles consecuentes\n",
    "    for l in range(1,len(i)):\n",
    "        for subset in itertools.combinations(i, l):\n",
    "            Y[subset] = list(set(i) - set(subset))\n",
    "    \n",
    "    #Creacion de reglas y obtencion de sus ocurrencias\n",
    "    for X in Y.keys():\n",
    "        for item in Y[X]:\n",
    "            for transaction in t:\n",
    "                if set(list(X)+[item]).issubset(set(transaction)):\n",
    "                    rules[X,item] = rules.get((X,item),0) +1\n",
    "    #Obtencion del soporte\n",
    "    for i in rules.keys():\n",
    "        soporte[i] = rules[i]/len(t)\n",
    "        if soporte[i] >= umbral:\n",
    "            print(i,soporte[i])\n",
    "    return rules,soporte\n",
    "rules,soporte = ConjuntosFrecuentesFB(i,t,.5)"
   ]
  },
  {
   "cell_type": "markdown",
   "id": "soviet-black",
   "metadata": {},
   "source": [
    "### Lectura de archivo transactions.csv\n"
   ]
  },
  {
   "cell_type": "code",
   "execution_count": 206,
   "id": "cardiac-highway",
   "metadata": {},
   "outputs": [],
   "source": [
    "def read_csv(file):\n",
    "    i = []\n",
    "    t = {}\n",
    "    transactions = []\n",
    "    with open('transactions.csv', mode='r') as csv_file:\n",
    "        csv_reader = csv.DictReader(csv_file)\n",
    "        for row in csv_reader:\n",
    "            if row['Customer'] not in t.keys():\n",
    "                t[row['Customer']] = []\n",
    "            t[row['Customer']].append(row['Product'])\n",
    "            i.append(row['Product'])\n",
    "    i = list(set(i))\n",
    "    for key in t.keys():\n",
    "        transactions.append(set(t[key]))\n",
    "    return i,transactions"
   ]
  },
  {
   "cell_type": "code",
   "execution_count": 207,
   "id": "dietary-karen",
   "metadata": {},
   "outputs": [
    {
     "name": "stdout",
     "output_type": "stream",
     "text": [
      "(('Soda',), 'Fruit') 0.6\n",
      "(('Milk',), 'Fruit') 0.6\n",
      "(('Fruit',), 'Soda') 0.6\n",
      "(('Fruit',), 'Milk') 0.6\n"
     ]
    }
   ],
   "source": [
    "i,t = read_csv('transactions.csv')\n",
    "rules, support = ConjuntosFrecuentesFB(i,t,.6)"
   ]
  }
 ],
 "metadata": {
  "kernelspec": {
   "display_name": "Python 3",
   "language": "python",
   "name": "python3"
  },
  "language_info": {
   "codemirror_mode": {
    "name": "ipython",
    "version": 3
   },
   "file_extension": ".py",
   "mimetype": "text/x-python",
   "name": "python",
   "nbconvert_exporter": "python",
   "pygments_lexer": "ipython3",
   "version": "3.9.1"
  }
 },
 "nbformat": 4,
 "nbformat_minor": 5
}
