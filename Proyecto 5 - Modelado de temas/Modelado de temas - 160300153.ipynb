{
 "cells": [
  {
   "cell_type": "code",
   "execution_count": 92,
   "id": "limiting-expansion",
   "metadata": {},
   "outputs": [],
   "source": [
    "import warnings\n",
    "import numpy as np\n",
    "import pandas as pd\n",
    "import re, gensim\n",
    "\n",
    "import gensim.corpora as corpora\n",
    "from gensim.utils import simple_preprocess\n",
    "from gensim import models, similarities\n",
    "from sklearn.feature_extraction.text import CountVectorizer, TfidfVectorizer\n",
    "from pprint import pprint\n",
    "\n",
    "import matplotlib.pyplot as plt\n",
    "import matplotlib.colors as mcolors\n",
    "\n",
    "import nltk\n",
    "from nltk.corpus import stopwords\n",
    "from nltk.stem import PorterStemmer\n",
    "from operator import itemgetter\n",
    "from wordcloud import WordCloud\n",
    "import string\n",
    "import math\n",
    "\n",
    "\n",
    "warnings.filterwarnings('ignore')"
   ]
  },
  {
   "cell_type": "markdown",
   "id": "seven-framing",
   "metadata": {},
   "source": [
    "### Lectura de datos de los conjuntos de datos descargados y realizamos un solo dataframe para trabajar de forma mas eficiente"
   ]
  },
  {
   "cell_type": "code",
   "execution_count": 61,
   "id": "decent-bearing",
   "metadata": {},
   "outputs": [
    {
     "data": {
      "text/html": [
       "<div>\n",
       "<style scoped>\n",
       "    .dataframe tbody tr th:only-of-type {\n",
       "        vertical-align: middle;\n",
       "    }\n",
       "\n",
       "    .dataframe tbody tr th {\n",
       "        vertical-align: top;\n",
       "    }\n",
       "\n",
       "    .dataframe thead th {\n",
       "        text-align: right;\n",
       "    }\n",
       "</style>\n",
       "<table border=\"1\" class=\"dataframe\">\n",
       "  <thead>\n",
       "    <tr style=\"text-align: right;\">\n",
       "      <th></th>\n",
       "      <th>source_id</th>\n",
       "      <th>first_name</th>\n",
       "      <th>last_name</th>\n",
       "      <th>institution</th>\n",
       "      <th>year</th>\n",
       "      <th>title</th>\n",
       "      <th>abstract</th>\n",
       "      <th>full_text</th>\n",
       "    </tr>\n",
       "  </thead>\n",
       "  <tbody>\n",
       "    <tr>\n",
       "      <th>0</th>\n",
       "      <td>27</td>\n",
       "      <td>Alan</td>\n",
       "      <td>Murray</td>\n",
       "      <td>NaN</td>\n",
       "      <td>1987.0</td>\n",
       "      <td>Bit-Serial Neural Networks</td>\n",
       "      <td>NaN</td>\n",
       "      <td>573 \\n\\nBIT - SERIAL NEURAL  NETWORKS \\n\\nAlan...</td>\n",
       "    </tr>\n",
       "    <tr>\n",
       "      <th>1</th>\n",
       "      <td>27</td>\n",
       "      <td>Anthony</td>\n",
       "      <td>Smith</td>\n",
       "      <td>NaN</td>\n",
       "      <td>1987.0</td>\n",
       "      <td>Connectivity Versus Entropy</td>\n",
       "      <td>NaN</td>\n",
       "      <td>1 \\n\\nCONNECTIVITY VERSUS ENTROPY \\n\\nYaser  S...</td>\n",
       "    </tr>\n",
       "    <tr>\n",
       "      <th>2</th>\n",
       "      <td>27</td>\n",
       "      <td>Zoe</td>\n",
       "      <td>Butler</td>\n",
       "      <td>NaN</td>\n",
       "      <td>1987.0</td>\n",
       "      <td>The Hopfield Model with Multi-Level Neurons</td>\n",
       "      <td>NaN</td>\n",
       "      <td>278 \\n\\nTHE HOPFIELD MODEL WITH MUL TI-LEVEL N...</td>\n",
       "    </tr>\n",
       "    <tr>\n",
       "      <th>3</th>\n",
       "      <td>63</td>\n",
       "      <td>Yaser</td>\n",
       "      <td>Abu-Mostafa</td>\n",
       "      <td>NaN</td>\n",
       "      <td>1987.0</td>\n",
       "      <td>How Neural Nets Work</td>\n",
       "      <td>NaN</td>\n",
       "      <td>442 \\n\\nAlan  Lapedes \\nRobert  Farber \\n\\nThe...</td>\n",
       "    </tr>\n",
       "    <tr>\n",
       "      <th>4</th>\n",
       "      <td>60</td>\n",
       "      <td>Michael</td>\n",
       "      <td>Fleisher</td>\n",
       "      <td>NaN</td>\n",
       "      <td>1987.0</td>\n",
       "      <td>Spatial Organization of Neural Networks: A Pro...</td>\n",
       "      <td>NaN</td>\n",
       "      <td>740 \\n\\nSPATIAL  ORGANIZATION  OF  NEURAL  NEn...</td>\n",
       "    </tr>\n",
       "  </tbody>\n",
       "</table>\n",
       "</div>"
      ],
      "text/plain": [
       "   source_id first_name    last_name institution    year  \\\n",
       "0         27       Alan       Murray         NaN  1987.0   \n",
       "1         27    Anthony        Smith         NaN  1987.0   \n",
       "2         27        Zoe       Butler         NaN  1987.0   \n",
       "3         63      Yaser  Abu-Mostafa         NaN  1987.0   \n",
       "4         60    Michael     Fleisher         NaN  1987.0   \n",
       "\n",
       "                                               title abstract  \\\n",
       "0                         Bit-Serial Neural Networks      NaN   \n",
       "1                        Connectivity Versus Entropy      NaN   \n",
       "2        The Hopfield Model with Multi-Level Neurons      NaN   \n",
       "3                               How Neural Nets Work      NaN   \n",
       "4  Spatial Organization of Neural Networks: A Pro...      NaN   \n",
       "\n",
       "                                           full_text  \n",
       "0  573 \\n\\nBIT - SERIAL NEURAL  NETWORKS \\n\\nAlan...  \n",
       "1  1 \\n\\nCONNECTIVITY VERSUS ENTROPY \\n\\nYaser  S...  \n",
       "2  278 \\n\\nTHE HOPFIELD MODEL WITH MUL TI-LEVEL N...  \n",
       "3  442 \\n\\nAlan  Lapedes \\nRobert  Farber \\n\\nThe...  \n",
       "4  740 \\n\\nSPATIAL  ORGANIZATION  OF  NEURAL  NEn...  "
      ]
     },
     "execution_count": 61,
     "metadata": {},
     "output_type": "execute_result"
    }
   ],
   "source": [
    "df_paper = pd.read_csv(\"archive/papers.csv\")\n",
    "df_author = pd.read_csv(\"archive/authors.csv\")\n",
    "data = pd.concat([df_author, df_paper], join='outer', axis=1)\n",
    "data = data.loc[:,~data.columns.duplicated()]\n",
    "data.head()"
   ]
  },
  {
   "cell_type": "markdown",
   "id": "swedish-coordinate",
   "metadata": {},
   "source": [
    "#### Eliminamos datos vacios y transformamos texto a minusculas"
   ]
  },
  {
   "cell_type": "code",
   "execution_count": 62,
   "id": "sporting-liabilities",
   "metadata": {},
   "outputs": [
    {
     "data": {
      "text/html": [
       "<div>\n",
       "<style scoped>\n",
       "    .dataframe tbody tr th:only-of-type {\n",
       "        vertical-align: middle;\n",
       "    }\n",
       "\n",
       "    .dataframe tbody tr th {\n",
       "        vertical-align: top;\n",
       "    }\n",
       "\n",
       "    .dataframe thead th {\n",
       "        text-align: right;\n",
       "    }\n",
       "</style>\n",
       "<table border=\"1\" class=\"dataframe\">\n",
       "  <thead>\n",
       "    <tr style=\"text-align: right;\">\n",
       "      <th></th>\n",
       "      <th>source_id</th>\n",
       "      <th>first_name</th>\n",
       "      <th>last_name</th>\n",
       "      <th>institution</th>\n",
       "      <th>year</th>\n",
       "      <th>title</th>\n",
       "      <th>abstract</th>\n",
       "      <th>full_text</th>\n",
       "    </tr>\n",
       "  </thead>\n",
       "  <tbody>\n",
       "    <tr>\n",
       "      <th>5449</th>\n",
       "      <td>2443</td>\n",
       "      <td>Nikos</td>\n",
       "      <td>Vlassis</td>\n",
       "      <td>Adobe Research</td>\n",
       "      <td>2014.0</td>\n",
       "      <td>Generalized Dantzig Selector: Application to t...</td>\n",
       "      <td>we propose a generalized dantzig selector (gds...</td>\n",
       "      <td>Generalized Dantzig Selector:\\n\\nApplication t...</td>\n",
       "    </tr>\n",
       "    <tr>\n",
       "      <th>6380</th>\n",
       "      <td>2650</td>\n",
       "      <td>Nikos</td>\n",
       "      <td>Vlassis</td>\n",
       "      <td>Adobe Research</td>\n",
       "      <td>2016.0</td>\n",
       "      <td>Optimal Cluster Recovery in the Labeled Stocha...</td>\n",
       "      <td>we consider the problem of community detection...</td>\n",
       "      <td>Optimal Cluster Recovery\\n\\nin the Labeled Sto...</td>\n",
       "    </tr>\n",
       "    <tr>\n",
       "      <th>6972</th>\n",
       "      <td>2783</td>\n",
       "      <td>David</td>\n",
       "      <td>Fleet</td>\n",
       "      <td>University of Toronto</td>\n",
       "      <td>2017.0</td>\n",
       "      <td>Scalable Demand-Aware Recommendation</td>\n",
       "      <td>recommendation for e-commerce with a mix of du...</td>\n",
       "      <td>Scalable Demand-Aware Recommendation\\n\\nJinfen...</td>\n",
       "    </tr>\n",
       "    <tr>\n",
       "      <th>7193</th>\n",
       "      <td>3025</td>\n",
       "      <td>Nikos</td>\n",
       "      <td>Vlassis</td>\n",
       "      <td>Adobe Research</td>\n",
       "      <td>2017.0</td>\n",
       "      <td>A framework for Multi-A(rmed)/B(andit) Testing...</td>\n",
       "      <td>we propose an alternative framework to existin...</td>\n",
       "      <td>A framework for Multi-A(rmed)/B(andit) Testing...</td>\n",
       "    </tr>\n",
       "    <tr>\n",
       "      <th>9239</th>\n",
       "      <td>508</td>\n",
       "      <td>William</td>\n",
       "      <td>Uther</td>\n",
       "      <td>NICTA &amp; UNSW</td>\n",
       "      <td>2019.0</td>\n",
       "      <td>Optimistic Regret Minimization for Extensive-F...</td>\n",
       "      <td>we study the performance of optimistic regret-...</td>\n",
       "      <td>Optimistic Regret Minimization for Extensive-F...</td>\n",
       "    </tr>\n",
       "  </tbody>\n",
       "</table>\n",
       "</div>"
      ],
      "text/plain": [
       "      source_id first_name last_name            institution    year  \\\n",
       "5449       2443      Nikos   Vlassis         Adobe Research  2014.0   \n",
       "6380       2650      Nikos   Vlassis         Adobe Research  2016.0   \n",
       "6972       2783      David     Fleet  University of Toronto  2017.0   \n",
       "7193       3025      Nikos   Vlassis         Adobe Research  2017.0   \n",
       "9239        508    William     Uther           NICTA & UNSW  2019.0   \n",
       "\n",
       "                                                  title  \\\n",
       "5449  Generalized Dantzig Selector: Application to t...   \n",
       "6380  Optimal Cluster Recovery in the Labeled Stocha...   \n",
       "6972               Scalable Demand-Aware Recommendation   \n",
       "7193  A framework for Multi-A(rmed)/B(andit) Testing...   \n",
       "9239  Optimistic Regret Minimization for Extensive-F...   \n",
       "\n",
       "                                               abstract  \\\n",
       "5449  we propose a generalized dantzig selector (gds...   \n",
       "6380  we consider the problem of community detection...   \n",
       "6972  recommendation for e-commerce with a mix of du...   \n",
       "7193  we propose an alternative framework to existin...   \n",
       "9239  we study the performance of optimistic regret-...   \n",
       "\n",
       "                                              full_text  \n",
       "5449  Generalized Dantzig Selector:\\n\\nApplication t...  \n",
       "6380  Optimal Cluster Recovery\\n\\nin the Labeled Sto...  \n",
       "6972  Scalable Demand-Aware Recommendation\\n\\nJinfen...  \n",
       "7193  A framework for Multi-A(rmed)/B(andit) Testing...  \n",
       "9239  Optimistic Regret Minimization for Extensive-F...  "
      ]
     },
     "execution_count": 62,
     "metadata": {},
     "output_type": "execute_result"
    }
   ],
   "source": [
    "data = data.dropna()\n",
    "data['abstract'] = data['abstract'].str.lower()\n",
    "data.head()"
   ]
  },
  {
   "cell_type": "markdown",
   "id": "future-communication",
   "metadata": {},
   "source": [
    "#### Obtencion de datos con stopwords"
   ]
  },
  {
   "cell_type": "code",
   "execution_count": 63,
   "id": "exotic-andrews",
   "metadata": {},
   "outputs": [
    {
     "name": "stderr",
     "output_type": "stream",
     "text": [
      "[nltk_data] Downloading package stopwords to\n",
      "[nltk_data]     /home/famvazpom/nltk_data...\n",
      "[nltk_data]   Package stopwords is already up-to-date!\n"
     ]
    },
    {
     "data": {
      "text/plain": [
       "['i', 'me', 'my', 'myself', 'we', 'our', 'ours', 'ourselves', 'you', \"you're\"]"
      ]
     },
     "execution_count": 63,
     "metadata": {},
     "output_type": "execute_result"
    }
   ],
   "source": [
    "# Descarga de conjunto\n",
    "nltk.download('stopwords')\n",
    "\n",
    "#Seleccion de lenguaje\n",
    "stop = stopwords.words('english')\n",
    "stop[:10]"
   ]
  },
  {
   "cell_type": "markdown",
   "id": "novel-valuation",
   "metadata": {},
   "source": [
    "### Limpieza de stopwords y otros signos de puntuación"
   ]
  },
  {
   "cell_type": "code",
   "execution_count": 64,
   "id": "tough-india",
   "metadata": {},
   "outputs": [
    {
     "data": {
      "text/plain": [
       "5449    [propose, generalized, dantzig, selector, gds,...\n",
       "6380    [consider, problem, community, detection, clus...\n",
       "6972    [recommendation, ecommerce, mix, durable, nond...\n",
       "7193    [propose, alternative, framework, existing, se...\n",
       "9239    [study, performance, optimistic, regretminimiz...\n",
       "Name: abstract, dtype: object"
      ]
     },
     "execution_count": 64,
     "metadata": {},
     "output_type": "execute_result"
    }
   ],
   "source": [
    "data_cleaned = data.copy()\n",
    "data_cleaned['abstract'] = data_cleaned['abstract'].str.replace(\"[^\\w\\s]\",'').str.lower()\n",
    "data_cleaned['abstract'] = data_cleaned['abstract'].str.replace(\"[^\\D]\",'').str.lower()\n",
    "data_cleaned['abstract'] = data_cleaned['abstract'].str.replace(\" {2,}\",' ').str.lower()\n",
    "data_cleaned['abstract'] = data_cleaned['abstract'].apply(lambda x: [item for item in x.split() if item not in stop])\n",
    "data_cleaned['abstract']"
   ]
  },
  {
   "cell_type": "markdown",
   "id": "gentle-citizen",
   "metadata": {},
   "source": [
    "### Obtencion de los valores unicos de los valores obtenidos"
   ]
  },
  {
   "cell_type": "code",
   "execution_count": 65,
   "id": "dramatic-repository",
   "metadata": {},
   "outputs": [
    {
     "name": "stdout",
     "output_type": "stream",
     "text": [
      "Dictionary(390 unique tokens: ['admm', 'analysis', 'aspects', 'ball', 'based']...)\n"
     ]
    }
   ],
   "source": [
    "unicas = corpora.Dictionary(data_cleaned.abstract)\n",
    "print(unicas)"
   ]
  },
  {
   "cell_type": "markdown",
   "id": "lightweight-ticket",
   "metadata": {},
   "source": [
    "#### Aplicamos LDA"
   ]
  },
  {
   "cell_type": "code",
   "execution_count": 66,
   "id": "verbal-marriage",
   "metadata": {},
   "outputs": [],
   "source": [
    "cuerpos = [unicas.doc2bow(doc) for doc in data_cleaned.abstract]\n",
    "lda = models.LdaMulticore( corpus= cuerpos,num_topics=10,id2word= unicas,random_state = 1,passes= 2,workers = 2)"
   ]
  },
  {
   "cell_type": "markdown",
   "id": "expected-combination",
   "metadata": {},
   "source": [
    "#### Obtenemos los temas obtenidos del modelado anterior"
   ]
  },
  {
   "cell_type": "code",
   "execution_count": 67,
   "id": "peaceful-toyota",
   "metadata": {},
   "outputs": [
    {
     "data": {
      "text/plain": [
       "[(0,\n",
       "  '0.010*\"items\" + 0.009*\"clusters\" + 0.006*\"clustering\" + 0.006*\"mab\" + 0.005*\"algorithms\" + 0.005*\"algorithm\" + 0.005*\"parameters\" + 0.005*\"true\" + 0.005*\"set\" + 0.004*\"time\"'),\n",
       " (1,\n",
       "  '0.031*\"clusters\" + 0.026*\"items\" + 0.017*\"parameters\" + 0.015*\"clustering\" + 0.013*\"set\" + 0.012*\"algorithm\" + 0.012*\"labeled\" + 0.012*\"model\" + 0.011*\"true\" + 0.011*\"lsbm\"'),\n",
       " (2,\n",
       "  '0.038*\"norm\" + 0.036*\"gds\" + 0.023*\"estimation\" + 0.023*\"statistical\" + 0.022*\"analysis\" + 0.022*\"ksupport\" + 0.016*\"gaussian\" + 0.015*\"error\" + 0.015*\"proximal\" + 0.015*\"widths\"'),\n",
       " (3,\n",
       "  '0.005*\"rate\" + 0.005*\"algorithms\" + 0.005*\"optimistic\" + 0.004*\"game\" + 0.004*\"cfr\" + 0.004*\"regret\" + 0.004*\"show\" + 0.004*\"games\" + 0.004*\"dilated\" + 0.004*\"converge\"'),\n",
       " (4,\n",
       "  '0.021*\"items\" + 0.020*\"problem\" + 0.020*\"product\" + 0.019*\"time\" + 0.019*\"category\" + 0.019*\"utility\" + 0.019*\"purchase\" + 0.018*\"recommendation\" + 0.013*\"millions\" + 0.013*\"interpurchase\"'),\n",
       " (5,\n",
       "  '0.028*\"mab\" + 0.023*\"time\" + 0.018*\"fdr\" + 0.018*\"tests\" + 0.017*\"test\" + 0.013*\"algorithms\" + 0.012*\"companies\" + 0.012*\"control\" + 0.012*\"data\" + 0.012*\"run\"'),\n",
       " (6,\n",
       "  '0.029*\"game\" + 0.024*\"rate\" + 0.024*\"algorithms\" + 0.020*\"dilated\" + 0.019*\"optimistic\" + 0.019*\"regret\" + 0.019*\"cfr\" + 0.015*\"show\" + 0.015*\"converge\" + 0.015*\"games\"'),\n",
       " (7,\n",
       "  '0.006*\"mab\" + 0.006*\"time\" + 0.006*\"algorithms\" + 0.005*\"test\" + 0.005*\"fdr\" + 0.005*\"tests\" + 0.004*\"online\" + 0.004*\"results\" + 0.004*\"new\" + 0.004*\"framework\"'),\n",
       " (8,\n",
       "  '0.018*\"clusters\" + 0.014*\"items\" + 0.012*\"clustering\" + 0.009*\"parameters\" + 0.009*\"problem\" + 0.009*\"algorithm\" + 0.007*\"random\" + 0.007*\"misclassified\" + 0.007*\"lsbm\" + 0.006*\"true\"'),\n",
       " (9,\n",
       "  '0.009*\"time\" + 0.008*\"recommendation\" + 0.007*\"problem\" + 0.007*\"purchase\" + 0.007*\"category\" + 0.006*\"data\" + 0.006*\"utility\" + 0.006*\"items\" + 0.006*\"estimation\" + 0.006*\"product\"')]"
      ]
     },
     "execution_count": 67,
     "metadata": {},
     "output_type": "execute_result"
    }
   ],
   "source": [
    "lda.print_topics()"
   ]
  },
  {
   "cell_type": "markdown",
   "id": "hungry-money",
   "metadata": {},
   "source": [
    "### Temas\n",
    "Para la visualización, se desplegarán los temas mas recurrentes en los archivos en una nube de palabras.\\\n",
    "Con esto, necesitamos sacar todas las palabras de los datos obtenidos anteriormente.\n",
    "\n",
    "A grandes rasgos, utilizamos una exprecion regular para eliminar números, signos de puntacion y similares\n"
   ]
  },
  {
   "cell_type": "code",
   "execution_count": 151,
   "id": "elder-retreat",
   "metadata": {},
   "outputs": [
    {
     "data": {
      "text/plain": [
       "[['items  clusters  clustering  mab  algorithms  algorithm  parameters  true  set  time'],\n",
       " ['clusters  items  parameters  clustering  set  algorithm  labeled  model  true  lsbm'],\n",
       " ['norm  gds  estimation  statistical  analysis  ksupport  gaussian  error  proximal  widths'],\n",
       " ['rate  algorithms  optimistic  game  cfr  regret  show  games  dilated  converge'],\n",
       " ['items  problem  product  time  category  utility  purchase  recommendation  millions  interpurchase'],\n",
       " ['mab  time  fdr  tests  test  algorithms  companies  control  data  run'],\n",
       " ['game  rate  algorithms  dilated  optimistic  regret  cfr  show  converge  games'],\n",
       " ['mab  time  algorithms  test  fdr  tests  online  results  new  framework'],\n",
       " ['clusters  items  clustering  parameters  problem  algorithm  random  misclassified  lsbm  true'],\n",
       " ['time  recommendation  problem  purchase  category  data  utility  items  estimation  product']]"
      ]
     },
     "execution_count": 151,
     "metadata": {},
     "output_type": "execute_result"
    }
   ],
   "source": [
    "import re\n",
    "patron = r'[0-9\\*\\\"\\.\\+]' \n",
    "temas=[]\n",
    "for topic in lda.print_topics():\n",
    "    tema = re.sub(patron, '', topic[1])\n",
    "    temas.append([tema])\n",
    "temas"
   ]
  },
  {
   "cell_type": "markdown",
   "id": "inner-pressing",
   "metadata": {},
   "source": [
    "### Nubes de palaras\n",
    "Ahora desplegamos las palabras en una nube"
   ]
  },
  {
   "cell_type": "code",
   "execution_count": 152,
   "id": "exceptional-daily",
   "metadata": {},
   "outputs": [
    {
     "data": {
      "image/png": "[encoded data removed]",
      "text/plain": [
       "<Figure size 432x288 with 12 Axes>"
      ]
     },
     "metadata": {
      "needs_background": "light"
     },
     "output_type": "display_data"
    }
   ],
   "source": [
    "fig,ax = plt.subplots(math.ceil(len(topics)/3),3)\n",
    "i = 0\n",
    "for a in ax:\n",
    "    \n",
    "    for b in a:\n",
    "        b.axis('off')\n",
    "        if i < len(topics):\n",
    "            wordcloud = WordCloud().generate(temas[i][0])\n",
    "            b.imshow(wordcloud, interpolation='bilinear')\n",
    "            b.axis(\"off\")\n",
    "        \n",
    "        i+=1\n",
    "    "
   ]
  },
  {
   "cell_type": "markdown",
   "id": "exclusive-praise",
   "metadata": {},
   "source": [
    "## Conclusión\n",
    "Como podemos ver, sin necesidad de leer los documentos podemos saber que algunos de los temas abordados en los mismos son cosas como algoritmos, clusters, juegos, problemas, etc. \n",
    "\n",
    "Esto nos puede ayudar para poder filtrar documentos y poder clasificar estos mismos para realizar una busqueda de documentos que nos pueda servir en alguna investigación"
   ]
  },
  {
   "cell_type": "markdown",
   "id": "black-hammer",
   "metadata": {},
   "source": [
    "##### 160300153 - Vazquez Pompa Noe"
   ]
  }
 ],
 "metadata": {
  "kernelspec": {
   "display_name": "Python 3",
   "language": "python",
   "name": "python3"
  },
  "language_info": {
   "codemirror_mode": {
    "name": "ipython",
    "version": 3
   },
   "file_extension": ".py",
   "mimetype": "text/x-python",
   "name": "python",
   "nbconvert_exporter": "python",
   "pygments_lexer": "ipython3",
   "version": "3.8.8"
  }
 },
 "nbformat": 4,
 "nbformat_minor": 5
}
